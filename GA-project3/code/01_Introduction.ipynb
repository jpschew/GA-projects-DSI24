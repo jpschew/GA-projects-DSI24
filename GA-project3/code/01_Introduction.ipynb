{
 "cells": [
  {
   "cell_type": "markdown",
   "id": "7d44ec16",
   "metadata": {},
   "source": [
    "<img src=\"http://imgur.com/1ZcRyrc.png\" style=\"float: left; margin: 20px; height: 55px\">\n",
    "\n",
    "# Project 3 - Web APIs & NLP"
   ]
  },
  {
   "cell_type": "markdown",
   "id": "c3c64a00",
   "metadata": {},
   "source": [
    "# Part 1 : Introduction\n"
   ]
  },
  {
   "cell_type": "markdown",
   "id": "b26afdc8",
   "metadata": {},
   "source": [
    "## Problem Statement\n",
    "\n",
    "### A new company which aims to develop both mobile games and board games had approached me to help them in building a classification model to correctly classify the 2 categories. This project aims to make use of the posts by the users in the 2 subbreddit groups namely 'boardgames' and 'MobileGaming' for the modeling of this classification model."
   ]
  },
  {
   "cell_type": "markdown",
   "id": "9cf2fe32",
   "metadata": {},
   "source": [
    "### Contents:\n",
    "* [Organisation of Notebooks](#Organisation-of-Notebooks)\n",
    "* [Executive Summary](#Executive-Summary)\n",
    "* [Data Dictionary](#Data-Dictionary)"
   ]
  },
  {
   "cell_type": "markdown",
   "id": "958fe19b",
   "metadata": {},
   "source": [
    "## Organistation of Notebooks:\n",
    "1. Introduction\n",
    "2. [Web-scraping and Data Processing](./02_WebScraping_DataProcessing.ipynb)\n",
    "3. [EDA and Modeling](./03_EDA_Modeling.ipynb)"
   ]
  },
  {
   "cell_type": "markdown",
   "id": "4bc3f5e4",
   "metadata": {},
   "source": [
    "## Executive Summary"
   ]
  },
  {
   "cell_type": "markdown",
   "id": "d6f41003",
   "metadata": {},
   "source": [
    "Web-scraping using the reddit API gathers the data needed for training and testing of the classification models. Data cleaning need to be done on the data being pull from the API as some of the posts are either removed, deleted, empty or posted by the moderator.\n",
    "\n",
    "14 models have been built for classification purpose. As our aim is to correctly classify the 2 groups, hence specificity and sensitivty are also important metrics in addition to accuracy. As the Extra Tree classifier with TfidfVectorizer achieve the highest accuracy of 87.1% as well as sensitivity and specificity of 85.8% and 88.5% respectively, this model will be chosen for the model to be used to classify between MobileGaming and Boardgames.\n",
    "\n",
    "Below is the table that summarize the performance of all the 14 models."
   ]
  },
  {
   "cell_type": "markdown",
   "id": "359b742c",
   "metadata": {},
   "source": [
    "| Model | Vectorizer | Accuracy | Sensitivity | Specificity | Precision | F1_score |\n",
    "| --- | --- | --- | --- | --- | --- | --- |\n",
    "| Logistic Regression | cvec | 0.849 | 0.151 | 0.814 | 0.885 | 0.874 | 0.842 |\n",
    "| Logistic Regression | tvec | 0.857 | 0.143 | 0.852 | 0.861 | 0.857 | 0.855 |\n",
    "| MultinomialNB | cvec | 0.857 | 0.143 | 0.897 | 0.818 | 0.828 | 0.861 |\n",
    "| MultinomialNB | tvec | 0.84 | 0.16 | 0.882 | 0.799 | 0.811 | 0.845 |\n",
    "| KNeighborsClassifier | cvec | 0.68 | 0.32 | 0.49 | 0.866 | 0.781 | 0.602 |\n",
    "| KNeighborsClassifier | tvec | 0.765 | 0.235 | 0.598 | 0.928 | 0.8901 | 0.716 |\n",
    "| DecisionTreeClassifier | cvec | 0.782 | 0.217 | 0.725 | 0.837 | 0.813 | 0.767 |\n",
    "| DecisionTreeClassifier | tvec | 0.731 | 0.269 | 0.745 | 0.7178 | 0.72 | 0.733 |\n",
    "| BaggingClassifier | cvec | 0.799 | 0.201 | 0.779 | 0.818 | 0.807 | 0.793 |\n",
    "| BaggingClassifier | tvec | 0.825 | 0.174 | 0.77 | 0.88 | 0.863 | 0.813 |\n",
    "| RandomForestClassifier | cvec | 0.855 | 0.145 | 0.828 | 0.88 | 0.871 | 0.849 |\n",
    "| RandomForestClassifier | tvec | 0.862 | 0.138 | 0.833 | 0.89 | 0.881 | 0.856 |\n",
    "| ExtraTreesClassifier | cvec | 0.831 | 0.169 | 0.848 | 0.813 | 0.816 | 0.832 |\n",
    "| ExtraTreesClassifier | tvec | 0.872 | 0.128 | 0.858 | 0.885 | 0.879 | 0.868 |"
   ]
  },
  {
   "cell_type": "markdown",
   "id": "acad5198",
   "metadata": {},
   "source": [
    "## Data Dictionary "
   ]
  },
  {
   "cell_type": "markdown",
   "id": "ccc62827",
   "metadata": {},
   "source": [
    "| Feature  | Data Type | Dataset | Description |\n",
    "| --- | --- | --- | --- |\n",
    "| subreddit_cat | Integer | Train/Test | Subreddit category, 1 for boardgames, 2 for MobileGaming|\n",
    "| processed_text_lem | Object | Train/Test | Lemmatized Text |\n",
    "\n"
   ]
  },
  {
   "cell_type": "code",
   "execution_count": null,
   "id": "bc5d03aa",
   "metadata": {},
   "outputs": [],
   "source": []
  }
 ],
 "metadata": {
  "kernelspec": {
   "display_name": "Python 3",
   "language": "python",
   "name": "python3"
  },
  "language_info": {
   "codemirror_mode": {
    "name": "ipython",
    "version": 3
   },
   "file_extension": ".py",
   "mimetype": "text/x-python",
   "name": "python",
   "nbconvert_exporter": "python",
   "pygments_lexer": "ipython3",
   "version": "3.8.8"
  }
 },
 "nbformat": 4,
 "nbformat_minor": 5
}
