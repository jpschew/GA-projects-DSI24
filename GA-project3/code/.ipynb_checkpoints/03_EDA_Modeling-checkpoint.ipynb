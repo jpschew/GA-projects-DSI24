{
 "cells": [
  {
   "cell_type": "markdown",
   "id": "d23d14d5",
   "metadata": {},
   "source": [
    "<img src=\"http://imgur.com/1ZcRyrc.png\" style=\"float: left; margin: 20px; height: 55px\">\n",
    "\n",
    "# Project 3 - Web APIs & NLP"
   ]
  },
  {
   "cell_type": "markdown",
   "id": "2bc81a60",
   "metadata": {},
   "source": [
    "# Part 3 : EDA and Modeling "
   ]
  },
  {
   "cell_type": "markdown",
   "id": "a7fa96ee",
   "metadata": {},
   "source": [
    "### Contents:\n",
    "* [Import Libraries and Datasets](#Import-Libraries-and-Datasets)\n",
    "* [EDA](#EDA)\n",
    "* [Modeling](#Modeling)\n",
    "* [Misclassification Analysis](#Misclassification-Analysis)\n",
    "* [Conclusion](#Conclusion)"
   ]
  },
  {
   "cell_type": "markdown",
   "id": "1234f275",
   "metadata": {},
   "source": [
    "## Organistation of Notebooks:\n",
    "1. [Introduction](./01_Introduction.ipynb)\n",
    "2. [Web-scraping and Data Processing](./02_WebScraping_DataProcessing.ipynb)\n",
    "3. EDA and Modeling"
   ]
  },
  {
   "cell_type": "markdown",
   "id": "fe2cef81",
   "metadata": {},
   "source": [
    "## Import Libraries and Datasets"
   ]
  },
  {
   "cell_type": "code",
   "execution_count": 1,
   "id": "1c2a8858",
   "metadata": {},
   "outputs": [],
   "source": [
    "import requests\n",
    "import re\n",
    "import pandas as pd\n",
    "import numpy as np\n",
    "import time\n",
    "import matplotlib.pyplot as plt\n",
    "import seaborn as sns\n",
    "\n",
    "from wordcloud import WordCloud#, STOPWORDS, ImageColorGenerator\n",
    "\n",
    "# from sklearn.model_selection import train_test_split\n",
    "\n",
    "# from sklearn.feature_extraction.text import CountVectorizer\n",
    "\n",
    "from sklearn.model_selection import train_test_split, GridSearchCV\n",
    "from sklearn.pipeline import Pipeline\n",
    "from sklearn.naive_bayes import MultinomialNB\n",
    "from sklearn.linear_model import LogisticRegression\n",
    "from sklearn.neighbors import KNeighborsClassifier\n",
    "from sklearn.metrics import confusion_matrix, plot_confusion_matrix\n",
    "\n",
    "from sklearn.tree import DecisionTreeClassifier\n",
    "from sklearn.ensemble import (\n",
    "    BaggingClassifier,\n",
    "    RandomForestClassifier,\n",
    "    ExtraTreesClassifier\n",
    ")\n",
    "\n",
    "# Import CountVectorizer and TFIDFVectorizer from feature_extraction.text.\n",
    "from sklearn.feature_extraction.text import CountVectorizer, TfidfVectorizer"
   ]
  },
  {
   "cell_type": "code",
   "execution_count": 2,
   "id": "2c2e504f",
   "metadata": {},
   "outputs": [],
   "source": [
    "pd.set_option('display.max_rows', None)\n",
    "pd.set_option('display.max_columns', None)"
   ]
  },
  {
   "cell_type": "code",
   "execution_count": 3,
   "id": "0723e580",
   "metadata": {},
   "outputs": [],
   "source": [
    "posts = pd.read_csv('../data/posts.csv')"
   ]
  },
  {
   "cell_type": "code",
   "execution_count": 4,
   "id": "f9cdbf5c",
   "metadata": {},
   "outputs": [],
   "source": [
    "X = posts['processed_text_lem']\n",
    "y = posts['subreddit_cat']\n",
    "# Split the data into the training and testing sets.\n",
    "# stratify=y means to split the proportion of y into both x and y\n",
    "X_train, X_test, y_train, y_test = train_test_split(X,\n",
    "                                                    y,\n",
    "                                                    test_size=0.2,\n",
    "                                                    stratify=y,\n",
    "                                                    random_state=42)"
   ]
  },
  {
   "cell_type": "markdown",
   "id": "263a4447",
   "metadata": {},
   "source": [
    "## EDA"
   ]
  },
  {
   "cell_type": "markdown",
   "id": "2b0044fc",
   "metadata": {},
   "source": [
    "### Functions are defined here to plot barchart for EDA"
   ]
  },
  {
   "cell_type": "code",
   "execution_count": 5,
   "id": "eacd386a",
   "metadata": {},
   "outputs": [],
   "source": [
    "def vectorize(vectorizer, df):\n",
    "\n",
    "    # Fit the vectorizer on our train corpus.\n",
    "    # Transform the train corpus.\n",
    "    df = vectorizer.fit_transform(df)\n",
    "    \n",
    "    # get feature names\n",
    "    features = vectorizer.get_feature_names()\n",
    "    \n",
    "    # transform the test corpus\n",
    "#     df_test = vectorizer.transform(df_test)\n",
    "    \n",
    "    return df, features"
   ]
  },
  {
   "cell_type": "code",
   "execution_count": 6,
   "id": "386465e7",
   "metadata": {},
   "outputs": [],
   "source": [
    "def barplot_words(vectorizer, X_df, y_df):\n",
    "    \n",
    "    df_vect, features = vectorize(vectorizer,X_df)\n",
    "    df = pd.DataFrame(df_vect.todense(),  \n",
    "                          columns=features)\n",
    "    y_df = y_df.reset_index(drop=True)\n",
    "    df = df.merge(y_df, how='left', left_index=True, right_index=True)\n",
    "    \n",
    "    rows = round(len(df['subreddit_cat'].unique())/2)\n",
    "    fig, ax = plt.subplots(rows, 2, figsize=(18, 16))\n",
    "    ax = ax.ravel()\n",
    "    \n",
    "\n",
    "    for idx, subreddit in enumerate(df['subreddit_cat'].unique()):\n",
    "        df_desc = df.loc[df['subreddit_cat'] == subreddit, [col for col in df.columns if col != 'subreddit_cat']].sum().sort_values(ascending=False)\n",
    "#         column_index = np.sort(df_desc.index)[::-1]\n",
    "#         feature_list = [df.columns[i] for i in column_index]\n",
    "#         cvec_wc = WordCloud(background_color=\"white\", max_words=150, colormap='cividis').generate_from_frequencies(df_desc.T)\n",
    "\n",
    "        \n",
    "        bp = sns.barplot(\n",
    "                    # y to specify list of category\n",
    "                    y=df_desc.index[:15], \n",
    "                    # x to specify the data to the list of category\n",
    "                    x=df_desc[:15],\n",
    "\n",
    "\n",
    "                    ax=ax[idx]        \n",
    "        )\n",
    "        bp.set_xlabel('Frequency', fontdict={'fontsize':12, 'fontweight': 'bold'})\n",
    "        bp.set_ylabel('Words', fontdict={'fontsize':12, 'fontweight': 'bold'})\n",
    "        if subreddit == 0:\n",
    "            bp.set_title(f'Word Count in Mobile Gaming Subreddit', fontdict={'fontsize':16, 'fontweight': 'bold'})\n",
    "        else:\n",
    "            bp.set_title(f'Word Count in Board Games Subreddit', fontdict={'fontsize':16, 'fontweight': 'bold'})\n",
    "#         ax[idx].imshow(cvec_wc)\n",
    "#         ax[idx].axis('off')\n",
    "    if type(vectorizer) == type(CountVectorizer()):\n",
    "        vectorizer_name = 'Count Vectorizer'\n",
    "    elif type(vectorizer) == type(TfidfVectorizer()):\n",
    "        vectorizer_name = 'Tf-idf Vectorizer'\n",
    "        \n",
    "    fig.suptitle(vectorizer_name, fontsize=20, fontweight='bold', y=0.92)   \n",
    "    \n",
    "    if (len(df['subreddit_cat'].unique()) % 2) != 0:\n",
    "    # remove extra subplot that are not used\n",
    "        ax.flat[-1].set_visible(False)\n",
    "#     plt.tight_layout()\n",
    "    plt.show()"
   ]
  },
  {
   "cell_type": "code",
   "execution_count": 7,
   "id": "4bfe8116",
   "metadata": {},
   "outputs": [],
   "source": [
    "# Instantiate a CountVectorizer.\n",
    "# help to turn all into lowercase\n",
    "# takes in entire corpus\n",
    "# builds the vocab, which is the column names (unique tokens)\n",
    "# counts to fill the rows\n",
    "cvec = CountVectorizer(stop_words='english')\n",
    "tvec = TfidfVectorizer(stop_words='english')\n",
    "\n",
    "# X_train_cvec, X_test_cvec, features_name_cvec = vectorize(cvec, X_train, dX_test)\n",
    "# X_train_tvec, X_test_tvec, features_name_tvec = vectorize(tvec, X_train, dX_test)"
   ]
  },
  {
   "cell_type": "code",
   "execution_count": 8,
   "id": "bb1651bb",
   "metadata": {},
   "outputs": [
    {
     "data": {
      "image/png": "[encoded data removed]",
      "text/plain": [
       "<Figure size 1296x1152 with 2 Axes>"
      ]
     },
     "metadata": {
      "needs_background": "light"
     },
     "output_type": "display_data"
    }
   ],
   "source": [
    "barplot_words(cvec, X_train, y_train)"
   ]
  },
  {
   "cell_type": "code",
   "execution_count": 9,
   "id": "5b5f1120",
   "metadata": {},
   "outputs": [
    {
     "data": {
      "image/png": "[encoded data removed]",
      "text/plain": [
       "<Figure size 1296x1152 with 2 Axes>"
      ]
     },
     "metadata": {
      "needs_background": "light"
     },
     "output_type": "display_data"
    }
   ],
   "source": [
    "barplot_words(tvec, X_train, y_train)"
   ]
  },
  {
   "cell_type": "markdown",
   "id": "687eea2a",
   "metadata": {},
   "source": [
    "### Observations:\n",
    "\n",
    "It can be observed from the 2 barcharts that what are the most frequency occurence words that appeared in the 2 different subreddit catogories. By looking at the top 10 occurence of the word for the 'boardgames' and 'MobileGaming' subreddit groups, it can help us to include some of the words to the stopwords when we do our modelling. Words like 'mobile', 'android', phone', 'card', 'board' are words that we can distinctly differentiate from the 2 subbreddit groups. Hence, in order to build a more robust model, these words are added to the stopwords for modeling. Other words like 'games', 'play', 'new' , 'like', 'just' are some words that appear in both subbreddit, which might not be helpful in correctly classifying the 2 categories, are also added to the stopwords for modeling."
   ]
  },
  {
   "cell_type": "code",
   "execution_count": 10,
   "id": "12d6768c",
   "metadata": {},
   "outputs": [],
   "source": [
    "my_stopwords = ['games', 'game', 'mobile', 'board', 'android', \\\n",
    "                'like', 'phone', 'card', 'cards'] \n",
    "eng_stopwords = list(CountVectorizer(stop_words = 'english').get_stop_words())\n",
    "all_stopwords = my_stopwords + eng_stopwords"
   ]
  },
  {
   "cell_type": "markdown",
   "id": "72bf2165",
   "metadata": {},
   "source": [
    "## Modeling"
   ]
  },
  {
   "cell_type": "markdown",
   "id": "ee64aee9",
   "metadata": {},
   "source": [
    "### Functions are defined here to plot the coefficient, feature importance and the feature log. probability for the as well as computing the confusion matrix for the different models"
   ]
  },
  {
   "cell_type": "code",
   "execution_count": 11,
   "id": "969acb08",
   "metadata": {},
   "outputs": [],
   "source": [
    "def plot_top_features(gv_model_list, vectorizer_list, class_model, is_boardgame, num_features):\n",
    "    rows = round(len(gv_model_list) / 2)\n",
    "    fig, ax = plt.subplots(rows, 2, figsize=(18, 10))\n",
    "    ax = ax.ravel()\n",
    "    \n",
    "    for idx, gv_model in enumerate(gv_model_list):\n",
    "\n",
    "        feature_list = gv_model.best_estimator_[vectorizer_list[idx]].get_feature_names()\n",
    "        \n",
    "        if class_model == 'nb':\n",
    "            \n",
    "            plot_title = 'Naive Bayes'\n",
    "            \n",
    "            if is_boardgame:\n",
    "                #  get the probability diff \n",
    "                # higher means tend towards boardgame\n",
    "                log_prob_diff = gv_model.best_estimator_[class_model].feature_log_prob_[1] \\\n",
    "                                      - gv_model.best_estimator_[class_model].feature_log_prob_[0]\n",
    "\n",
    "            \n",
    "            else:\n",
    "                #  get the probability diff \n",
    "                # higher means tend towards mobilegame\n",
    "                log_prob_diff = gv_model.best_estimator_[class_model].feature_log_prob_[0] \\\n",
    "                                      - gv_model.best_estimator_[class_model].feature_log_prob_[1]\n",
    "                \n",
    "            # sort the index of coef in descending order\n",
    "            log_prob_diff_idx = log_prob_diff.argsort()[::-1]\n",
    "            # map index to feature list\n",
    "            feature = [feature_list[i] for i in log_prob_diff_idx]\n",
    "            # sort coef in desc order\n",
    "            feature_impt = np.sort(log_prob_diff)[::-1]\n",
    "                \n",
    "        \n",
    "        elif class_model == 'logreg':\n",
    "            \n",
    "            plot_title = 'Logistic Regression'\n",
    "\n",
    "            if is_boardgame:\n",
    "#             if class_model == 'logreg':\n",
    "                # sort the index of coef in descending order\n",
    "                coef_idx = gv_model.best_estimator_[class_model].coef_[0].argsort()[::-1]\n",
    "                # map index to feature list\n",
    "                feature = [feature_list[i] for i in coef_idx]\n",
    "                # sort coef in desc order\n",
    "                feature_impt = np.sort(\n",
    "                                gv_model.best_estimator_[class_model].coef_[0]\n",
    "                )[::-1]\n",
    "\n",
    "            else:\n",
    "#             if class_model == 'logreg':\n",
    "            # sort the index of coeff. in ascending order\n",
    "                coef_idx = gv_model.best_estimator_[class_model].coef_[0].argsort()\n",
    "                # map index to feature list and coefficient\n",
    "                feature = [feature_list[i] for i in coef_idx]\n",
    "                # sort the index of coef in asc order\n",
    "                feature_impt = np.sort(\n",
    "                                gv_model.best_estimator_[class_model].coef_[0]\n",
    "                )[::1]\n",
    "\n",
    "            \n",
    "        if vectorizer_list[idx] == 'cvec':\n",
    "            bp = sns.barplot(\n",
    "                     # y to specify list of category\n",
    "                    y=feature[:num_features], \n",
    "                     # x to specify the data to the list of category\n",
    "                    x=feature_impt[:num_features],\n",
    "                    ax=ax[idx]        \n",
    "            )\n",
    "    #             bp.axvline(80, color='red')\n",
    "            bp.set_title(\n",
    "                'Top 10 Features for Count Vectorizer',\n",
    "                fontdict={'fontsize':14, 'fontweight': 'bold'}\n",
    "            )\n",
    "#             bp.set_xlabel('Coefficient', fontdict={'fontsize':12, 'fontweight': 'bold'})\n",
    "            bp.set_ylabel('Words', fontdict={'fontsize':12, 'fontweight': 'bold'})\n",
    "    \n",
    "            if class_model == 'logreg':\n",
    "                bp.set_xlabel('Coefficient', fontdict={'fontsize':12, 'fontweight': 'bold'})\n",
    "            elif class_model == 'nb':\n",
    "                bp.set_xlabel('Relative Log. Probability', fontdict={'fontsize':12, 'fontweight': 'bold'})\n",
    "                \n",
    "        elif vectorizer_list[idx] == 'tvec':\n",
    "            bp = sns.barplot(\n",
    "                     # y to specify list of category\n",
    "                    y=feature[:num_features], \n",
    "                      # x to specify the data to the list of category\n",
    "                    x=feature_impt[:num_features], \n",
    "                    ax=ax[idx]        \n",
    "            )\n",
    "    #             bp.axhline(80, color='red')\n",
    "            bp.set_title(\n",
    "                'Top 10 Features for Tf-idf Vectorizer',\n",
    "                fontdict={'fontsize':14, 'fontweight': 'bold'}\n",
    "            )\n",
    "#             bp.set_xlabel('Coefficient', fontdict={'fontsize':12, 'fontweight': 'bold'})\n",
    "            bp.set_ylabel('Words', fontdict={'fontsize':12, 'fontweight': 'bold'})\n",
    "    \n",
    "            if class_model == 'logreg':\n",
    "                bp.set_xlabel('Coefficient', fontdict={'fontsize':12, 'fontweight': 'bold'})\n",
    "            elif class_model == 'nb':\n",
    "                bp.set_xlabel('Relative Log. Probability', fontdict={'fontsize':12, 'fontweight': 'bold'})\n",
    "\n",
    "    fig.suptitle(plot_title, fontsize=18, fontweight='bold', y=0.95)\n",
    "    \n",
    "    if (len(gv_model_list) % 2) != 0:\n",
    "        # remove extra subplot that are not used\n",
    "        ax.flat[-1].set_visible(False)\n",
    "#     plt.tight_layout()\n",
    "    plt.show()"
   ]
  },
  {
   "cell_type": "code",
   "execution_count": 12,
   "id": "518b777c",
   "metadata": {},
   "outputs": [],
   "source": [
    "def plot_top_features_tree(gv_model_list, vectorizer_list, class_model, num_features):\n",
    "    rows = round(len(gv_model_list) / 2)\n",
    "    fig, ax = plt.subplots(rows, 2, figsize=(18, 10))\n",
    "    ax = ax.ravel()\n",
    "    \n",
    "    for idx, gv_model in enumerate(gv_model_list):\n",
    "        \n",
    "        feature_list = gv_model.best_estimator_[vectorizer_list[idx]].get_feature_names()\n",
    "        \n",
    "        if class_model == 'dt' or class_model == 'rf' or class_model == 'et':\n",
    "            \n",
    "            if class_model == 'dt':\n",
    "                plot_title = 'Decision Tree'\n",
    "            elif class_model == 'rf':\n",
    "                plot_title = 'Random Forest'\n",
    "            elif class_model == 'et':\n",
    "                plot_title = 'Extra Trees'\n",
    "                \n",
    "            feature_impt = gv_model.best_estimator_[class_model].feature_importances_\n",
    "\n",
    "        \n",
    "        elif class_model == 'bag':\n",
    "            \n",
    "            plot_title = 'Bag of Trees'\n",
    "            \n",
    "            # axis=0, take all the rows to compute the mean for each column\n",
    "            # axis=1, take all the columns to compute the mean for each row\n",
    "            feature_impt = np.mean([\n",
    "                tree.feature_importances_ for tree in gv_model.best_estimator_[class_model]\n",
    "            ], axis=0)\n",
    "            \n",
    "        df = pd.DataFrame({\n",
    "                'features_impt':feature_impt, \n",
    "                'column_name':feature_list}\n",
    "        )\n",
    "        df = df.sort_values(by='features_impt', ascending=False)\n",
    "\n",
    "        if vectorizer_list[idx] == 'cvec':\n",
    "            bp = sns.barplot(\n",
    "                     # y to specify list of category\n",
    "                    y=df['column_name'][:num_features], \n",
    "                     # x to specify the data to the list of category\n",
    "                    x=df['features_impt'][:num_features],\n",
    "                    ax=ax[idx]        \n",
    "            )\n",
    "\n",
    "            bp.set_title(\n",
    "                'Top 10 Features for Count Vectorizer',\n",
    "                fontdict={'fontsize':14, 'fontweight': 'bold'}\n",
    "            )\n",
    "\n",
    "            bp.set_ylabel('Words', fontdict={'fontsize':12, 'fontweight': 'bold'})\n",
    "            bp.set_xlabel('Feature Score', fontdict={'fontsize':12, 'fontweight': 'bold'})\n",
    "#             if class_model == 'logreg':\n",
    "#                 bp.set_xlabel('Coefficient', fontdict={'fontsize':12, 'fontweight': 'bold'})\n",
    "#             elif class_model == 'nb':\n",
    "#                 bp.set_xlabel('Log. Probability', fontdict={'fontsize':12, 'fontweight': 'bold'})\n",
    "                \n",
    "        elif vectorizer_list[idx] == 'tvec':\n",
    "            bp = sns.barplot(\n",
    "                     # y to specify list of category\n",
    "                    y=df['column_name'][:num_features], \n",
    "                     # x to specify the data to the list of category\n",
    "                    x=df['features_impt'][:num_features],\n",
    "                    ax=ax[idx]        \n",
    "            )\n",
    "\n",
    "            bp.set_title(\n",
    "                'Top 10 Features for Tf-idf Vectorizer',\n",
    "                fontdict={'fontsize':14, 'fontweight': 'bold'}\n",
    "            )\n",
    "            bp.set_xlabel('Coefficient', fontdict={'fontsize':12, 'fontweight': 'bold'})\n",
    "            bp.set_ylabel('Words', fontdict={'fontsize':12, 'fontweight': 'bold'})\n",
    "#             bp.set_xlabel('Feature Score', fontdict={'fontsize':12, 'fontweight': 'bold'})\n",
    "#             if class_model == 'logreg' :\n",
    "#                 bp.set_xlabel('Coefficient', fontdict={'fontsize':12, 'fontweight': 'bold'})\n",
    "#             elif class_model == 'nb':\n",
    "#                 bp.set_xlabel('Log. Probability', fontdict={'fontsize':12, 'fontweight': 'bold'})\n",
    "\n",
    "\n",
    "    #         bp.set_title(f'Bar chart for {feature}', fontdict={'fontsize':16, 'fontweight': 'bold'})\n",
    "    \n",
    "    fig.suptitle(plot_title, fontsize=18, fontweight='bold', y=0.95)\n",
    "    \n",
    "    if (len(gv_model_list) % 2) != 0:\n",
    "        # remove extra subplot that are not used\n",
    "        ax.flat[-1].set_visible(False)\n",
    "#     plt.tight_layout()\n",
    "    plt.show()"
   ]
  },
  {
   "cell_type": "code",
   "execution_count": 13,
   "id": "64c463f9",
   "metadata": {},
   "outputs": [],
   "source": [
    "def compute_metrics(gridsearch_model, test_var, test_outcome, df_results):\n",
    "    \n",
    "    # df to save the metrics\n",
    "    df = df_results\n",
    "    \n",
    "    preds = gridsearch_model.predict(test_var)\n",
    "    \n",
    "    tn, fp, fn, tp = confusion_matrix(test_outcome, preds).ravel()\n",
    "    \n",
    "    accuracy = (tp + tn) / (tp + fp + tn +fn)\n",
    "    misclassification = 1 - accuracy\n",
    "    # true positive rate/recall\n",
    "    sensitivity = tp / (tp + fn)\n",
    "    # true negative rate\n",
    "    specificity = tn / (tn + fp)\n",
    "    # positive predictive value, % correct for those that are predicted positive\n",
    "    precision = tp / (tp + fp)\n",
    "    # f1 score is the harmonic mean of precision and recall\n",
    "    # if care about precision and recall roughly the same amount\n",
    "    f1_score = 2 * (precision * sensitivity) / (precision + sensitivity)\n",
    "\n",
    "    fp_list = [test_var[test_var.index[idx]] for idx, (actual, predict) in enumerate(zip(test_outcome, preds)) if (actual != predict) and predict == 1]\n",
    "    fn_list = [test_var[test_var.index[idx]] for idx, (actual, predict) in enumerate(zip(test_outcome, preds)) if (actual != predict) and predict == 0]\n",
    "\n",
    "    plot_confusion_matrix(gridsearch_model, test_var, test_outcome, cmap='Blues', values_format='d');\n",
    "\n",
    "    column_names = ['model', 'vectorizer', 'accuracy', 'misclassification', 'sensitivity', 'specificity',\\\n",
    "                    'precision', 'f1_score', 'tn', 'tp', 'fn', 'fp', 'fn_list', 'fp_list']\n",
    "#     print(len(column_names))\n",
    "    if type(gridsearch_model.estimator[0]) == type(CountVectorizer()):\n",
    "        data = [gridsearch_model.estimator[1], 'cvec', accuracy, misclassification, sensitivity, specificity, \\\n",
    "                precision, f1_score, tn, tp, fn, fp, fn_list, fp_list]\n",
    "#         print(len(data))\n",
    "    elif type(gridsearch_model.estimator[0]) == type(TfidfVectorizer()):\n",
    "        data = [gridsearch_model.estimator[1], 'tvec', accuracy, misclassification, sensitivity, specificity, \\\n",
    "                precision, f1_score, tn, tp, fn, fp, fn_list, fp_list]\n",
    "#         print(len(data))\n",
    "    df = pd.concat([df, save_results(data, column_names)], ignore_index=True)\n",
    "    \n",
    "    print(f'Accuracy is {round(accuracy, 4)}.')\n",
    "    print(f'Misclassification is {round(misclassification, 4)}.')\n",
    "    print(f'Sensitivity is {round(sensitivity, 4)}.')\n",
    "    print(f'Specificity is {round(specificity, 4)}.')\n",
    "    print(f'F1_score is {round(f1_score, 4)}.')\n",
    "    return df#accuracy, misclassification, sensitivity, specificity, precision, f1_score, fn_list, fp_list\n",
    "    "
   ]
  },
  {
   "cell_type": "code",
   "execution_count": 14,
   "id": "5501977c",
   "metadata": {},
   "outputs": [],
   "source": [
    "def save_results(data, column_names):\n",
    "    return pd.DataFrame(data=[data], columns=column_names)"
   ]
  },
  {
   "cell_type": "markdown",
   "id": "8834849f",
   "metadata": {},
   "source": [
    "### Logistic Regression"
   ]
  },
  {
   "cell_type": "code",
   "execution_count": 15,
   "id": "6396b7de",
   "metadata": {},
   "outputs": [],
   "source": [
    "# pipeline takes a list of steps\n",
    "# order-dependent when u declare\n",
    "# only can have one estimator\n",
    "pipe_logreg_cvec = Pipeline([\n",
    "        ('cvec', CountVectorizer(stop_words=all_stopwords)), # transformer\n",
    "        ('logreg', LogisticRegression()) # estimator\n",
    "])"
   ]
  },
  {
   "cell_type": "code",
   "execution_count": 16,
   "id": "959d6c08",
   "metadata": {},
   "outputs": [],
   "source": [
    "# use best params\n",
    "pipe_logreg_cvec_params = {\n",
    "    'cvec__max_features': [None], #[None, 2000, 3000, 4000, 5000],\n",
    "    'cvec__ngram_range': [(1, 2)], #[(1, 2), (1, 3)],\n",
    "    'cvec__max_df': [0.9], #[0.9, 0.95, 0.98], # ignore words occur > specified value/% \n",
    "    'cvec__min_df': [0.01], #[0.01, 0.03, 0.05] # get words that occur > specified value/%\n",
    "}"
   ]
  },
  {
   "cell_type": "code",
   "execution_count": 17,
   "id": "cb2be7b4",
   "metadata": {},
   "outputs": [
    {
     "name": "stdout",
     "output_type": "stream",
     "text": [
      "CPU times: user 26 µs, sys: 0 ns, total: 26 µs\n",
      "Wall time: 28.8 µs\n"
     ]
    }
   ],
   "source": [
    "%%time\n",
    "pipe_logreg_cvec_gridsearch = GridSearchCV(\n",
    "            pipe_logreg_cvec, # model to use\n",
    "            pipe_logreg_cvec_params, # dictionary of hyperparameters to iterate\n",
    "            cv=5, # no. of folds in CV\n",
    "            verbose=1 # show the all rows and columns\n",
    ")"
   ]
  },
  {
   "cell_type": "code",
   "execution_count": 18,
   "id": "895693d8",
   "metadata": {},
   "outputs": [
    {
     "name": "stdout",
     "output_type": "stream",
     "text": [
      "Fitting 5 folds for each of 1 candidates, totalling 5 fits\n",
      "CPU times: user 839 ms, sys: 9.47 ms, total: 848 ms\n",
      "Wall time: 851 ms\n"
     ]
    },
    {
     "data": {
      "text/plain": [
       "GridSearchCV(cv=5,\n",
       "             estimator=Pipeline(steps=[('cvec',\n",
       "                                        CountVectorizer(stop_words=['games',\n",
       "                                                                    'game',\n",
       "                                                                    'mobile',\n",
       "                                                                    'board',\n",
       "                                                                    'android',\n",
       "                                                                    'like',\n",
       "                                                                    'phone',\n",
       "                                                                    'card',\n",
       "                                                                    'cards',\n",
       "                                                                    'whom',\n",
       "                                                                    'moreover',\n",
       "                                                                    'whenever',\n",
       "                                                                    'everyone',\n",
       "                                                                    'hereupon',\n",
       "                                                                    'noone',\n",
       "                                                                    'somewhere',\n",
       "                                                                    'serious',\n",
       "                                                                    'you',\n",
       "                                                                    'latter',\n",
       "                                                                    'anyway',\n",
       "                                                                    'eight',\n",
       "                                                                    'were',\n",
       "                                                                    'who',\n",
       "                                                                    'fifty',\n",
       "                                                                    'get', 'a',\n",
       "                                                                    'thin',\n",
       "                                                                    'move',\n",
       "                                                                    'whereas',\n",
       "                                                                    'is', ...])),\n",
       "                                       ('logreg', LogisticRegression())]),\n",
       "             param_grid={'cvec__max_df': [0.9], 'cvec__max_features': [None],\n",
       "                         'cvec__min_df': [0.01],\n",
       "                         'cvec__ngram_range': [(1, 2)]},\n",
       "             verbose=1)"
      ]
     },
     "execution_count": 18,
     "metadata": {},
     "output_type": "execute_result"
    }
   ],
   "source": [
    "%%time\n",
    "# about 2min\n",
    "# Fit the GridSearchCV object to the data.\n",
    "pipe_logreg_cvec_gridsearch.fit(X_train, y_train)"
   ]
  },
  {
   "cell_type": "code",
   "execution_count": 19,
   "id": "7436c574",
   "metadata": {},
   "outputs": [
    {
     "data": {
      "text/plain": [
       "0.8713419913419914"
      ]
     },
     "execution_count": 19,
     "metadata": {},
     "output_type": "execute_result"
    }
   ],
   "source": [
    "# Print out best score.\n",
    "# from documentation: Mean cross-validated score of the best_estimator\n",
    "pipe_logreg_cvec_gridsearch.best_score_"
   ]
  },
  {
   "cell_type": "code",
   "execution_count": 20,
   "id": "c3df9e3a",
   "metadata": {},
   "outputs": [],
   "source": [
    "# # Print out best params.\n",
    "# pipe_logreg_cvec_gridsearch.best_params_"
   ]
  },
  {
   "cell_type": "code",
   "execution_count": 21,
   "id": "4e0ca6d0",
   "metadata": {},
   "outputs": [],
   "source": [
    "# # Print out best estimator.\n",
    "# pipe_logreg_cvec_gridsearch.best_estimator_"
   ]
  },
  {
   "cell_type": "code",
   "execution_count": 22,
   "id": "4f27381b",
   "metadata": {},
   "outputs": [
    {
     "name": "stdout",
     "output_type": "stream",
     "text": [
      "Accuracy is 0.8499.\n",
      "Misclassification is 0.1501.\n",
      "Sensitivity is 0.8137.\n",
      "Specificity is 0.8852.\n",
      "F1_score is 0.8426.\n"
     ]
    },
    {
     "data": {
      "image/png": "[encoded data removed]",
      "text/plain": [
       "<Figure size 432x288 with 2 Axes>"
      ]
     },
     "metadata": {
      "needs_background": "light"
     },
     "output_type": "display_data"
    }
   ],
   "source": [
    "# df_results is used to save all the model metrics\n",
    "# initially, pass in empty dataframe, subsequently, pass in existing dataframe to concatenate the results\n",
    "df_results = compute_metrics(pipe_logreg_cvec_gridsearch, X_test, y_test, pd.DataFrame())"
   ]
  },
  {
   "cell_type": "code",
   "execution_count": 23,
   "id": "a6ab5032",
   "metadata": {},
   "outputs": [
    {
     "data": {
      "text/html": [
       "<div>\n",
       "<style scoped>\n",
       "    .dataframe tbody tr th:only-of-type {\n",
       "        vertical-align: middle;\n",
       "    }\n",
       "\n",
       "    .dataframe tbody tr th {\n",
       "        vertical-align: top;\n",
       "    }\n",
       "\n",
       "    .dataframe thead th {\n",
       "        text-align: right;\n",
       "    }\n",
       "</style>\n",
       "<table border=\"1\" class=\"dataframe\">\n",
       "  <thead>\n",
       "    <tr style=\"text-align: right;\">\n",
       "      <th></th>\n",
       "      <th>model</th>\n",
       "      <th>vectorizer</th>\n",
       "      <th>accuracy</th>\n",
       "      <th>misclassification</th>\n",
       "      <th>sensitivity</th>\n",
       "      <th>specificity</th>\n",
       "      <th>precision</th>\n",
       "      <th>f1_score</th>\n",
       "      <th>tn</th>\n",
       "      <th>tp</th>\n",
       "      <th>fn</th>\n",
       "      <th>fp</th>\n",
       "      <th>fn_list</th>\n",
       "      <th>fp_list</th>\n",
       "    </tr>\n",
       "  </thead>\n",
       "  <tbody>\n",
       "    <tr>\n",
       "      <th>0</th>\n",
       "      <td>LogisticRegression()</td>\n",
       "      <td>cvec</td>\n",
       "      <td>0.849879</td>\n",
       "      <td>0.150121</td>\n",
       "      <td>0.813725</td>\n",
       "      <td>0.885167</td>\n",
       "      <td>0.873684</td>\n",
       "      <td>0.84264</td>\n",
       "      <td>185</td>\n",
       "      <td>166</td>\n",
       "      <td>38</td>\n",
       "      <td>24</td>\n",
       "      <td>[i was recently reminded of the pop o matic i ...</td>\n",
       "      <td>[hello i recently got a ps also connected the ...</td>\n",
       "    </tr>\n",
       "  </tbody>\n",
       "</table>\n",
       "</div>"
      ],
      "text/plain": [
       "                  model vectorizer  accuracy  misclassification  sensitivity  \\\n",
       "0  LogisticRegression()       cvec  0.849879           0.150121     0.813725   \n",
       "\n",
       "   specificity  precision  f1_score   tn   tp  fn  fp  \\\n",
       "0     0.885167   0.873684   0.84264  185  166  38  24   \n",
       "\n",
       "                                             fn_list  \\\n",
       "0  [i was recently reminded of the pop o matic i ...   \n",
       "\n",
       "                                             fp_list  \n",
       "0  [hello i recently got a ps also connected the ...  "
      ]
     },
     "execution_count": 23,
     "metadata": {},
     "output_type": "execute_result"
    }
   ],
   "source": [
    "df_results"
   ]
  },
  {
   "cell_type": "code",
   "execution_count": 24,
   "id": "14967f1c",
   "metadata": {},
   "outputs": [],
   "source": [
    "# len(df_results['fp_list'][0])"
   ]
  },
  {
   "cell_type": "code",
   "execution_count": 25,
   "id": "70044f23",
   "metadata": {},
   "outputs": [],
   "source": [
    "# len(df_results['fn_list'][0])"
   ]
  },
  {
   "cell_type": "markdown",
   "id": "48974cf3",
   "metadata": {},
   "source": [
    "### Observations: \n",
    "\n",
    "The logistic regression model using a count vectorizer achieved an accuracy of 86.68% as well as ssensivity and specificity of 82.35% and 90.9% respectively. These are the 3 metrics that we will be looking out for as the model need to correctly classify the 2 categories which means that the type 1 (false positive) and type 2 (false negative) errors are of equal importance as we need to minimize the false negative and false positive to correctly identify which category each post belongs to."
   ]
  },
  {
   "cell_type": "code",
   "execution_count": 26,
   "id": "650694fa",
   "metadata": {},
   "outputs": [],
   "source": [
    "# pipeline takes a list of steps\n",
    "# order-dependent when u declare\n",
    "# only can have one estimator\n",
    "pipe_logreg_tvec = Pipeline([\n",
    "        ('tvec', TfidfVectorizer(stop_words=all_stopwords)), # transformer\n",
    "        ('logreg', LogisticRegression()) # estimator\n",
    "])"
   ]
  },
  {
   "cell_type": "code",
   "execution_count": 27,
   "id": "37110cbb",
   "metadata": {},
   "outputs": [],
   "source": [
    "# use best params\n",
    "pipe_logreg_tvec_params = {\n",
    "    'tvec__max_features': [None], #[None, 2000, 3000, 4000, 5000],\n",
    "    'tvec__ngram_range': [(1, 3)], #[(1, 2), (1, 3)],\n",
    "    'tvec__max_df': [0.9], #[0.9, 0.95, 0.98], # ignore words occur > specified value/% \n",
    "    'tvec__min_df': [0.01] #[0.03, 0.05] # get words that occur > specified value/%\n",
    "}"
   ]
  },
  {
   "cell_type": "code",
   "execution_count": 28,
   "id": "97c623bf",
   "metadata": {},
   "outputs": [
    {
     "name": "stdout",
     "output_type": "stream",
     "text": [
      "CPU times: user 18 µs, sys: 0 ns, total: 18 µs\n",
      "Wall time: 20 µs\n"
     ]
    }
   ],
   "source": [
    "%%time\n",
    "pipe_logreg_tvec_gridsearch = GridSearchCV(\n",
    "            pipe_logreg_tvec, # model to use\n",
    "            pipe_logreg_tvec_params, # dictionary of hyperparameters to iterate\n",
    "            cv=5, # no. of folds in CV\n",
    "            verbose=1 # show the all rows and columns\n",
    ")"
   ]
  },
  {
   "cell_type": "code",
   "execution_count": 29,
   "id": "134f5d76",
   "metadata": {},
   "outputs": [
    {
     "name": "stdout",
     "output_type": "stream",
     "text": [
      "Fitting 5 folds for each of 1 candidates, totalling 5 fits\n",
      "CPU times: user 1.12 s, sys: 13.8 ms, total: 1.13 s\n",
      "Wall time: 1.13 s\n"
     ]
    },
    {
     "data": {
      "text/plain": [
       "GridSearchCV(cv=5,\n",
       "             estimator=Pipeline(steps=[('tvec',\n",
       "                                        TfidfVectorizer(stop_words=['games',\n",
       "                                                                    'game',\n",
       "                                                                    'mobile',\n",
       "                                                                    'board',\n",
       "                                                                    'android',\n",
       "                                                                    'like',\n",
       "                                                                    'phone',\n",
       "                                                                    'card',\n",
       "                                                                    'cards',\n",
       "                                                                    'whom',\n",
       "                                                                    'moreover',\n",
       "                                                                    'whenever',\n",
       "                                                                    'everyone',\n",
       "                                                                    'hereupon',\n",
       "                                                                    'noone',\n",
       "                                                                    'somewhere',\n",
       "                                                                    'serious',\n",
       "                                                                    'you',\n",
       "                                                                    'latter',\n",
       "                                                                    'anyway',\n",
       "                                                                    'eight',\n",
       "                                                                    'were',\n",
       "                                                                    'who',\n",
       "                                                                    'fifty',\n",
       "                                                                    'get', 'a',\n",
       "                                                                    'thin',\n",
       "                                                                    'move',\n",
       "                                                                    'whereas',\n",
       "                                                                    'is', ...])),\n",
       "                                       ('logreg', LogisticRegression())]),\n",
       "             param_grid={'tvec__max_df': [0.9], 'tvec__max_features': [None],\n",
       "                         'tvec__min_df': [0.01],\n",
       "                         'tvec__ngram_range': [(1, 3)]},\n",
       "             verbose=1)"
      ]
     },
     "execution_count": 29,
     "metadata": {},
     "output_type": "execute_result"
    }
   ],
   "source": [
    "%%time\n",
    "# about 2min\n",
    "# Fit the GridSearchCV object to the data.\n",
    "pipe_logreg_tvec_gridsearch.fit(X_train, y_train)"
   ]
  },
  {
   "cell_type": "code",
   "execution_count": 30,
   "id": "dcdf23b6",
   "metadata": {},
   "outputs": [
    {
     "data": {
      "text/plain": [
       "0.8865174541770287"
      ]
     },
     "execution_count": 30,
     "metadata": {},
     "output_type": "execute_result"
    }
   ],
   "source": [
    "# Print out best score.\n",
    "pipe_logreg_tvec_gridsearch.best_score_"
   ]
  },
  {
   "cell_type": "code",
   "execution_count": 31,
   "id": "1662bb1e",
   "metadata": {},
   "outputs": [],
   "source": [
    "# # Print out best estimator.\n",
    "# pipe_logreg_tvec_gridsearch.best_estimator_"
   ]
  },
  {
   "cell_type": "code",
   "execution_count": 32,
   "id": "925d038e",
   "metadata": {},
   "outputs": [],
   "source": [
    "# # Print out best params.\n",
    "# pipe_logreg_tvec_gridsearch.best_params_"
   ]
  },
  {
   "cell_type": "code",
   "execution_count": 33,
   "id": "5c83fc96",
   "metadata": {},
   "outputs": [
    {
     "name": "stdout",
     "output_type": "stream",
     "text": [
      "Accuracy is 0.8571.\n",
      "Misclassification is 0.1429.\n",
      "Sensitivity is 0.8529.\n",
      "Specificity is 0.8612.\n",
      "F1_score is 0.855.\n"
     ]
    },
    {
     "data": {
      "image/png": "[encoded data removed]",
      "text/plain": [
       "<Figure size 432x288 with 2 Axes>"
      ]
     },
     "metadata": {
      "needs_background": "light"
     },
     "output_type": "display_data"
    }
   ],
   "source": [
    "# df_results is used to save all the model metrics\n",
    "# initially, pass in empty dataframe, subsequently, pass in existing dataframe to concatenate the results\n",
    "df_results = compute_metrics(pipe_logreg_tvec_gridsearch, X_test, y_test, df_results)"
   ]
  },
  {
   "cell_type": "code",
   "execution_count": 34,
   "id": "1bc92e6c",
   "metadata": {},
   "outputs": [
    {
     "data": {
      "text/html": [
       "<div>\n",
       "<style scoped>\n",
       "    .dataframe tbody tr th:only-of-type {\n",
       "        vertical-align: middle;\n",
       "    }\n",
       "\n",
       "    .dataframe tbody tr th {\n",
       "        vertical-align: top;\n",
       "    }\n",
       "\n",
       "    .dataframe thead th {\n",
       "        text-align: right;\n",
       "    }\n",
       "</style>\n",
       "<table border=\"1\" class=\"dataframe\">\n",
       "  <thead>\n",
       "    <tr style=\"text-align: right;\">\n",
       "      <th></th>\n",
       "      <th>model</th>\n",
       "      <th>vectorizer</th>\n",
       "      <th>accuracy</th>\n",
       "      <th>misclassification</th>\n",
       "      <th>sensitivity</th>\n",
       "      <th>specificity</th>\n",
       "      <th>precision</th>\n",
       "      <th>f1_score</th>\n",
       "      <th>tn</th>\n",
       "      <th>tp</th>\n",
       "      <th>fn</th>\n",
       "      <th>fp</th>\n",
       "      <th>fn_list</th>\n",
       "      <th>fp_list</th>\n",
       "    </tr>\n",
       "  </thead>\n",
       "  <tbody>\n",
       "    <tr>\n",
       "      <th>0</th>\n",
       "      <td>LogisticRegression()</td>\n",
       "      <td>cvec</td>\n",
       "      <td>0.849879</td>\n",
       "      <td>0.150121</td>\n",
       "      <td>0.813725</td>\n",
       "      <td>0.885167</td>\n",
       "      <td>0.873684</td>\n",
       "      <td>0.842640</td>\n",
       "      <td>185</td>\n",
       "      <td>166</td>\n",
       "      <td>38</td>\n",
       "      <td>24</td>\n",
       "      <td>[i was recently reminded of the pop o matic i ...</td>\n",
       "      <td>[hello i recently got a ps also connected the ...</td>\n",
       "    </tr>\n",
       "    <tr>\n",
       "      <th>1</th>\n",
       "      <td>LogisticRegression()</td>\n",
       "      <td>tvec</td>\n",
       "      <td>0.857143</td>\n",
       "      <td>0.142857</td>\n",
       "      <td>0.852941</td>\n",
       "      <td>0.861244</td>\n",
       "      <td>0.857143</td>\n",
       "      <td>0.855037</td>\n",
       "      <td>180</td>\n",
       "      <td>174</td>\n",
       "      <td>30</td>\n",
       "      <td>29</td>\n",
       "      <td>[it was carribean ship trading and battle base...</td>\n",
       "      <td>[recently i started playing mobile games again...</td>\n",
       "    </tr>\n",
       "  </tbody>\n",
       "</table>\n",
       "</div>"
      ],
      "text/plain": [
       "                  model vectorizer  accuracy  misclassification  sensitivity  \\\n",
       "0  LogisticRegression()       cvec  0.849879           0.150121     0.813725   \n",
       "1  LogisticRegression()       tvec  0.857143           0.142857     0.852941   \n",
       "\n",
       "   specificity  precision  f1_score   tn   tp  fn  fp  \\\n",
       "0     0.885167   0.873684  0.842640  185  166  38  24   \n",
       "1     0.861244   0.857143  0.855037  180  174  30  29   \n",
       "\n",
       "                                             fn_list  \\\n",
       "0  [i was recently reminded of the pop o matic i ...   \n",
       "1  [it was carribean ship trading and battle base...   \n",
       "\n",
       "                                             fp_list  \n",
       "0  [hello i recently got a ps also connected the ...  \n",
       "1  [recently i started playing mobile games again...  "
      ]
     },
     "execution_count": 34,
     "metadata": {},
     "output_type": "execute_result"
    }
   ],
   "source": [
    "df_results"
   ]
  },
  {
   "cell_type": "code",
   "execution_count": 35,
   "id": "c44a0d5e",
   "metadata": {},
   "outputs": [],
   "source": [
    "# len(df_results['fp_list'][1])"
   ]
  },
  {
   "cell_type": "code",
   "execution_count": 36,
   "id": "6b7ec5c7",
   "metadata": {},
   "outputs": [],
   "source": [
    "# len(df_results['fn_list'][1])"
   ]
  },
  {
   "cell_type": "markdown",
   "id": "4d1430bd",
   "metadata": {},
   "source": [
    "### Observations: \n",
    "\n",
    "The logistic regression model using a TfidfVectorizer achieved an accuracy of 87.17% as well as ssensivity and specificity of 84.8% and 89.5% respectively. It can be observed that the overall accuracy improved when TfidfVectorizer is used instead of CountVectorizer. This is due to CountVectorizer count the number of occurence of words in the post. This may lead to common words like 'a', 'the', 'an' etc  that do not carry the information of topic that you are interested in. Hence these words will have higher weight than the important words that will help to idenfity the topic that you are interested since the number of occurrences for the common words will be significantly higher than any other term.\n",
    "\n",
    "With TfidfVectorizer, it uses the inverse document frequency of the words that appear in the post and this would make the common words that do not carry useful information to have lower score than the rarer words that are more useful in determine your topic of interest."
   ]
  },
  {
   "cell_type": "code",
   "execution_count": 37,
   "id": "73585886",
   "metadata": {},
   "outputs": [
    {
     "data": {
      "image/png": "[encoded data removed]",
      "text/plain": [
       "<Figure size 1296x720 with 2 Axes>"
      ]
     },
     "metadata": {
      "needs_background": "light"
     },
     "output_type": "display_data"
    }
   ],
   "source": [
    "plot_top_features([pipe_logreg_cvec_gridsearch, pipe_logreg_tvec_gridsearch], ['cvec', 'tvec'], 'logreg', True, 10)"
   ]
  },
  {
   "cell_type": "markdown",
   "id": "792f7f41",
   "metadata": {},
   "source": [
    "### Observations:\n",
    "\n",
    "The 2 barcharts above show the top 10 words for each vectorizer which will classify the post into the 'boardgames' category. For logistic regression, the cofficient that are positive represent the words that will help to classify into the 'boardgames' category. The word with higher coeffiicient will have more impact in classifying the post into the 'boardgames' category. Hence, from the barcharts, it can be observed that words like 'boardgame', 'cards', 'rules', 'table', 'expansion' are some of the features that will be classified as 'boardgames' category."
   ]
  },
  {
   "cell_type": "code",
   "execution_count": 38,
   "id": "8ec2381d",
   "metadata": {},
   "outputs": [
    {
     "data": {
      "image/png": "[encoded data removed]",
      "text/plain": [
       "<Figure size 1296x720 with 2 Axes>"
      ]
     },
     "metadata": {
      "needs_background": "light"
     },
     "output_type": "display_data"
    }
   ],
   "source": [
    "plot_top_features([pipe_logreg_cvec_gridsearch, pipe_logreg_tvec_gridsearch], ['cvec', 'tvec'], 'logreg', False, 10)"
   ]
  },
  {
   "cell_type": "markdown",
   "id": "334940fb",
   "metadata": {},
   "source": [
    "### Observations:\n",
    "\n",
    "Likewise, the 2 barcharts above show the top 10 words for each vectorizer which will classify the post into the 'MobileGaming' category. However, it is the word with negative cofficient that will help to classify into the 'MobileGaming' category. The word with lower coeffiicient will have more impact in classifying the post into the 'MobileGaming' category. Likewise, it can be observed that words like 'multiplayer', 'gaming', 'controller', 'iphone', are some of the features that will be classified as 'MobileGaming' category."
   ]
  },
  {
   "cell_type": "markdown",
   "id": "746e963e",
   "metadata": {},
   "source": [
    "### Naive Bayes"
   ]
  },
  {
   "cell_type": "code",
   "execution_count": 39,
   "id": "89538ff2",
   "metadata": {},
   "outputs": [],
   "source": [
    "# pipeline takes a list of steps\n",
    "# order-dependent when u declare\n",
    "# only can have one estimator\n",
    "pipe_nb_cvec = Pipeline([\n",
    "        ('cvec', CountVectorizer(stop_words=all_stopwords)), # transformer\n",
    "        ('nb', MultinomialNB()) # estimator\n",
    "])"
   ]
  },
  {
   "cell_type": "code",
   "execution_count": 40,
   "id": "9b153fc3",
   "metadata": {},
   "outputs": [],
   "source": [
    "pipe_nb_cvec_params = {\n",
    "    'cvec__max_features': [None], #[None, 2000, 3000, 4000, 5000],\n",
    "    'cvec__ngram_range': [(1, 2)], #[(1, 2)] (1, 3)],\n",
    "    'cvec__max_df': [0.9], #[0.9, 0.95, 0.98], # ignore words occur > specified value/% \n",
    "    'cvec__min_df': [0.01], #[0.01] 0.03, 0.05], # get words that occur > specified value/%\n",
    "    'nb__alpha': [0.1] #[0.1, 1, 10, 100]\n",
    "}"
   ]
  },
  {
   "cell_type": "code",
   "execution_count": 41,
   "id": "8a36d359",
   "metadata": {},
   "outputs": [
    {
     "name": "stdout",
     "output_type": "stream",
     "text": [
      "CPU times: user 15 µs, sys: 0 ns, total: 15 µs\n",
      "Wall time: 16 µs\n"
     ]
    }
   ],
   "source": [
    "%%time\n",
    "pipe_nb_cvec_gridsearch = GridSearchCV(\n",
    "            pipe_nb_cvec, # model to use\n",
    "            pipe_nb_cvec_params, # dictionary of hyperparameters to iterate\n",
    "            cv=5, # no. of folds in CV\n",
    "            verbose=1 # show the all rows and columns\n",
    ")"
   ]
  },
  {
   "cell_type": "code",
   "execution_count": 42,
   "id": "d439f31a",
   "metadata": {},
   "outputs": [
    {
     "name": "stdout",
     "output_type": "stream",
     "text": [
      "Fitting 5 folds for each of 1 candidates, totalling 5 fits\n",
      "CPU times: user 761 ms, sys: 2.12 ms, total: 763 ms\n",
      "Wall time: 762 ms\n"
     ]
    },
    {
     "data": {
      "text/plain": [
       "GridSearchCV(cv=5,\n",
       "             estimator=Pipeline(steps=[('cvec',\n",
       "                                        CountVectorizer(stop_words=['games',\n",
       "                                                                    'game',\n",
       "                                                                    'mobile',\n",
       "                                                                    'board',\n",
       "                                                                    'android',\n",
       "                                                                    'like',\n",
       "                                                                    'phone',\n",
       "                                                                    'card',\n",
       "                                                                    'cards',\n",
       "                                                                    'whom',\n",
       "                                                                    'moreover',\n",
       "                                                                    'whenever',\n",
       "                                                                    'everyone',\n",
       "                                                                    'hereupon',\n",
       "                                                                    'noone',\n",
       "                                                                    'somewhere',\n",
       "                                                                    'serious',\n",
       "                                                                    'you',\n",
       "                                                                    'latter',\n",
       "                                                                    'anyway',\n",
       "                                                                    'eight',\n",
       "                                                                    'were',\n",
       "                                                                    'who',\n",
       "                                                                    'fifty',\n",
       "                                                                    'get', 'a',\n",
       "                                                                    'thin',\n",
       "                                                                    'move',\n",
       "                                                                    'whereas',\n",
       "                                                                    'is', ...])),\n",
       "                                       ('nb', MultinomialNB())]),\n",
       "             param_grid={'cvec__max_df': [0.9], 'cvec__max_features': [None],\n",
       "                         'cvec__min_df': [0.01], 'cvec__ngram_range': [(1, 2)],\n",
       "                         'nb__alpha': [0.1]},\n",
       "             verbose=1)"
      ]
     },
     "execution_count": 42,
     "metadata": {},
     "output_type": "execute_result"
    }
   ],
   "source": [
    "%%time\n",
    "# about 6min\n",
    "# Fit the GridSearchCV object to the data.\n",
    "pipe_nb_cvec_gridsearch.fit(X_train, y_train)"
   ]
  },
  {
   "cell_type": "code",
   "execution_count": 43,
   "id": "9a174000",
   "metadata": {},
   "outputs": [
    {
     "data": {
      "text/plain": [
       "0.8883393202542139"
      ]
     },
     "execution_count": 43,
     "metadata": {},
     "output_type": "execute_result"
    }
   ],
   "source": [
    "# Print out best score.\n",
    "pipe_nb_cvec_gridsearch.best_score_"
   ]
  },
  {
   "cell_type": "code",
   "execution_count": 44,
   "id": "d6d1ce4d",
   "metadata": {},
   "outputs": [],
   "source": [
    "# # Print out best params.\n",
    "# pipe_nb_cvec_gridsearch.best_params_"
   ]
  },
  {
   "cell_type": "code",
   "execution_count": 45,
   "id": "6a9384d1",
   "metadata": {},
   "outputs": [],
   "source": [
    "# # Print out best estiimator.\n",
    "# pipe_nb_cvec_gridsearch.best_estimator_"
   ]
  },
  {
   "cell_type": "code",
   "execution_count": 46,
   "id": "5ab6ec1f",
   "metadata": {},
   "outputs": [
    {
     "name": "stdout",
     "output_type": "stream",
     "text": [
      "Accuracy is 0.8571.\n",
      "Misclassification is 0.1429.\n",
      "Sensitivity is 0.8971.\n",
      "Specificity is 0.8182.\n",
      "F1_score is 0.8612.\n"
     ]
    },
    {
     "data": {
      "image/png": "[encoded data removed]",
      "text/plain": [
       "<Figure size 432x288 with 2 Axes>"
      ]
     },
     "metadata": {
      "needs_background": "light"
     },
     "output_type": "display_data"
    }
   ],
   "source": [
    "# df_results is used to save all the model metrics\n",
    "# initially, pass in empty dataframe, subsequently, pass in existing dataframe to concatenate the results\n",
    "df_results = compute_metrics(pipe_nb_cvec_gridsearch, X_test, y_test, df_results)"
   ]
  },
  {
   "cell_type": "code",
   "execution_count": 47,
   "id": "35bba639",
   "metadata": {},
   "outputs": [
    {
     "data": {
      "text/html": [
       "<div>\n",
       "<style scoped>\n",
       "    .dataframe tbody tr th:only-of-type {\n",
       "        vertical-align: middle;\n",
       "    }\n",
       "\n",
       "    .dataframe tbody tr th {\n",
       "        vertical-align: top;\n",
       "    }\n",
       "\n",
       "    .dataframe thead th {\n",
       "        text-align: right;\n",
       "    }\n",
       "</style>\n",
       "<table border=\"1\" class=\"dataframe\">\n",
       "  <thead>\n",
       "    <tr style=\"text-align: right;\">\n",
       "      <th></th>\n",
       "      <th>model</th>\n",
       "      <th>vectorizer</th>\n",
       "      <th>accuracy</th>\n",
       "      <th>misclassification</th>\n",
       "      <th>sensitivity</th>\n",
       "      <th>specificity</th>\n",
       "      <th>precision</th>\n",
       "      <th>f1_score</th>\n",
       "      <th>tn</th>\n",
       "      <th>tp</th>\n",
       "      <th>fn</th>\n",
       "      <th>fp</th>\n",
       "      <th>fn_list</th>\n",
       "      <th>fp_list</th>\n",
       "    </tr>\n",
       "  </thead>\n",
       "  <tbody>\n",
       "    <tr>\n",
       "      <th>0</th>\n",
       "      <td>LogisticRegression()</td>\n",
       "      <td>cvec</td>\n",
       "      <td>0.849879</td>\n",
       "      <td>0.150121</td>\n",
       "      <td>0.813725</td>\n",
       "      <td>0.885167</td>\n",
       "      <td>0.873684</td>\n",
       "      <td>0.842640</td>\n",
       "      <td>185</td>\n",
       "      <td>166</td>\n",
       "      <td>38</td>\n",
       "      <td>24</td>\n",
       "      <td>[i was recently reminded of the pop o matic i ...</td>\n",
       "      <td>[hello i recently got a ps also connected the ...</td>\n",
       "    </tr>\n",
       "    <tr>\n",
       "      <th>1</th>\n",
       "      <td>LogisticRegression()</td>\n",
       "      <td>tvec</td>\n",
       "      <td>0.857143</td>\n",
       "      <td>0.142857</td>\n",
       "      <td>0.852941</td>\n",
       "      <td>0.861244</td>\n",
       "      <td>0.857143</td>\n",
       "      <td>0.855037</td>\n",
       "      <td>180</td>\n",
       "      <td>174</td>\n",
       "      <td>30</td>\n",
       "      <td>29</td>\n",
       "      <td>[it was carribean ship trading and battle base...</td>\n",
       "      <td>[recently i started playing mobile games again...</td>\n",
       "    </tr>\n",
       "    <tr>\n",
       "      <th>2</th>\n",
       "      <td>MultinomialNB()</td>\n",
       "      <td>cvec</td>\n",
       "      <td>0.857143</td>\n",
       "      <td>0.142857</td>\n",
       "      <td>0.897059</td>\n",
       "      <td>0.818182</td>\n",
       "      <td>0.828054</td>\n",
       "      <td>0.861176</td>\n",
       "      <td>171</td>\n",
       "      <td>183</td>\n",
       "      <td>21</td>\n",
       "      <td>38</td>\n",
       "      <td>[for example do you only need the app for were...</td>\n",
       "      <td>[recently i started playing mobile games again...</td>\n",
       "    </tr>\n",
       "  </tbody>\n",
       "</table>\n",
       "</div>"
      ],
      "text/plain": [
       "                  model vectorizer  accuracy  misclassification  sensitivity  \\\n",
       "0  LogisticRegression()       cvec  0.849879           0.150121     0.813725   \n",
       "1  LogisticRegression()       tvec  0.857143           0.142857     0.852941   \n",
       "2       MultinomialNB()       cvec  0.857143           0.142857     0.897059   \n",
       "\n",
       "   specificity  precision  f1_score   tn   tp  fn  fp  \\\n",
       "0     0.885167   0.873684  0.842640  185  166  38  24   \n",
       "1     0.861244   0.857143  0.855037  180  174  30  29   \n",
       "2     0.818182   0.828054  0.861176  171  183  21  38   \n",
       "\n",
       "                                             fn_list  \\\n",
       "0  [i was recently reminded of the pop o matic i ...   \n",
       "1  [it was carribean ship trading and battle base...   \n",
       "2  [for example do you only need the app for were...   \n",
       "\n",
       "                                             fp_list  \n",
       "0  [hello i recently got a ps also connected the ...  \n",
       "1  [recently i started playing mobile games again...  \n",
       "2  [recently i started playing mobile games again...  "
      ]
     },
     "execution_count": 47,
     "metadata": {},
     "output_type": "execute_result"
    }
   ],
   "source": [
    "df_results"
   ]
  },
  {
   "cell_type": "code",
   "execution_count": 48,
   "id": "8375bade",
   "metadata": {},
   "outputs": [],
   "source": [
    "# len(df_results['fn_list'][2])"
   ]
  },
  {
   "cell_type": "markdown",
   "id": "edbd2c9d",
   "metadata": {},
   "source": [
    "### Observations: \n",
    "\n",
    "The naive bayes model using a count vectorizer achieved an accuracy of 86.2% as well as ssensivity and specificity of 89.7% and 82.78% respectively. \n",
    "\n",
    "As Naïve Bayes assumes all the features to be conditionally independent, which means that the algorithm expects the features to be independent. However, this is not always is the case. Hence, some of the features are in fact dependent on each other, the prediction might be poorer than logistic regression as it typically works reasonably well even when some of the features are correlated due to feature space is splited linearly in logistic regression."
   ]
  },
  {
   "cell_type": "code",
   "execution_count": 49,
   "id": "07d34811",
   "metadata": {},
   "outputs": [],
   "source": [
    "# pipeline takes a list of steps\n",
    "# order-dependent when u declare\n",
    "# only can have one estimator\n",
    "pipe_nb_tvec = Pipeline([\n",
    "        ('tvec', TfidfVectorizer(stop_words=all_stopwords)), # transformer\n",
    "        ('nb', MultinomialNB()) # estimator\n",
    "])"
   ]
  },
  {
   "cell_type": "code",
   "execution_count": 50,
   "id": "b9fe1449",
   "metadata": {},
   "outputs": [],
   "source": [
    "pipe_nb_tvec_params = {\n",
    "    'tvec__max_features': [None], #[None, 2000, 3000, 4000, 5000],\n",
    "    'tvec__ngram_range': [(1, 2)], #[(1, 2)] (1, 3)],\n",
    "    'tvec__max_df': [0.9], #[0.9, 0.95, 0.98], # ignore words occur > specified value/% \n",
    "    'tvec__min_df': [0.01], #[0.01] 0.03, 0.05], # get words that occur > specified value/%\n",
    "    'nb__alpha': [1] #[0.1, 1, 10, 100]\n",
    "}"
   ]
  },
  {
   "cell_type": "code",
   "execution_count": 51,
   "id": "ed170625",
   "metadata": {},
   "outputs": [
    {
     "name": "stdout",
     "output_type": "stream",
     "text": [
      "CPU times: user 19 µs, sys: 0 ns, total: 19 µs\n",
      "Wall time: 22.2 µs\n"
     ]
    }
   ],
   "source": [
    "%%time\n",
    "pipe_nb_tvec_gridsearch = GridSearchCV(\n",
    "            pipe_nb_tvec, # model to use\n",
    "            pipe_nb_tvec_params, # dictionary of hyperparameters to iterate\n",
    "            cv=5, # no. of folds in CV\n",
    "            verbose=1 # show the all rows and columns\n",
    ")"
   ]
  },
  {
   "cell_type": "code",
   "execution_count": 52,
   "id": "17842793",
   "metadata": {},
   "outputs": [
    {
     "name": "stdout",
     "output_type": "stream",
     "text": [
      "Fitting 5 folds for each of 1 candidates, totalling 5 fits\n",
      "CPU times: user 765 ms, sys: 4.72 ms, total: 770 ms\n",
      "Wall time: 769 ms\n"
     ]
    },
    {
     "data": {
      "text/plain": [
       "GridSearchCV(cv=5,\n",
       "             estimator=Pipeline(steps=[('tvec',\n",
       "                                        TfidfVectorizer(stop_words=['games',\n",
       "                                                                    'game',\n",
       "                                                                    'mobile',\n",
       "                                                                    'board',\n",
       "                                                                    'android',\n",
       "                                                                    'like',\n",
       "                                                                    'phone',\n",
       "                                                                    'card',\n",
       "                                                                    'cards',\n",
       "                                                                    'whom',\n",
       "                                                                    'moreover',\n",
       "                                                                    'whenever',\n",
       "                                                                    'everyone',\n",
       "                                                                    'hereupon',\n",
       "                                                                    'noone',\n",
       "                                                                    'somewhere',\n",
       "                                                                    'serious',\n",
       "                                                                    'you',\n",
       "                                                                    'latter',\n",
       "                                                                    'anyway',\n",
       "                                                                    'eight',\n",
       "                                                                    'were',\n",
       "                                                                    'who',\n",
       "                                                                    'fifty',\n",
       "                                                                    'get', 'a',\n",
       "                                                                    'thin',\n",
       "                                                                    'move',\n",
       "                                                                    'whereas',\n",
       "                                                                    'is', ...])),\n",
       "                                       ('nb', MultinomialNB())]),\n",
       "             param_grid={'nb__alpha': [1], 'tvec__max_df': [0.9],\n",
       "                         'tvec__max_features': [None], 'tvec__min_df': [0.01],\n",
       "                         'tvec__ngram_range': [(1, 2)]},\n",
       "             verbose=1)"
      ]
     },
     "execution_count": 52,
     "metadata": {},
     "output_type": "execute_result"
    }
   ],
   "source": [
    "%%time\n",
    "# about 6min\n",
    "# Fit the GridSearchCV object to the data.\n",
    "pipe_nb_tvec_gridsearch.fit(X_train, y_train)"
   ]
  },
  {
   "cell_type": "code",
   "execution_count": 53,
   "id": "4e14e8f8",
   "metadata": {},
   "outputs": [
    {
     "data": {
      "text/plain": [
       "0.8889453808602743"
      ]
     },
     "execution_count": 53,
     "metadata": {},
     "output_type": "execute_result"
    }
   ],
   "source": [
    "# Print out best score.\n",
    "pipe_nb_tvec_gridsearch.best_score_"
   ]
  },
  {
   "cell_type": "code",
   "execution_count": 54,
   "id": "6873ef17",
   "metadata": {},
   "outputs": [],
   "source": [
    "# # Print out best params.\n",
    "# pipe_nb_tvec_gridsearch.best_params_"
   ]
  },
  {
   "cell_type": "code",
   "execution_count": 55,
   "id": "0887f508",
   "metadata": {},
   "outputs": [],
   "source": [
    "# # Print out best estimator.\n",
    "# pipe_nb_tvec_gridsearch.best_estimator_"
   ]
  },
  {
   "cell_type": "code",
   "execution_count": 56,
   "id": "0f5db48a",
   "metadata": {},
   "outputs": [
    {
     "name": "stdout",
     "output_type": "stream",
     "text": [
      "Accuracy is 0.8402.\n",
      "Misclassification is 0.1598.\n",
      "Sensitivity is 0.8824.\n",
      "Specificity is 0.799.\n",
      "F1_score is 0.8451.\n"
     ]
    },
    {
     "data": {
      "image/png": "[encoded data removed]",
      "text/plain": [
       "<Figure size 432x288 with 2 Axes>"
      ]
     },
     "metadata": {
      "needs_background": "light"
     },
     "output_type": "display_data"
    }
   ],
   "source": [
    "# df_results is used to save all the model metrics\n",
    "# initially, pass in empty dataframe, subsequently, pass in existing dataframe to concatenate the results\n",
    "df_results = compute_metrics(pipe_nb_tvec_gridsearch, X_test, y_test, df_results)"
   ]
  },
  {
   "cell_type": "code",
   "execution_count": 57,
   "id": "d15c602a",
   "metadata": {},
   "outputs": [
    {
     "data": {
      "text/html": [
       "<div>\n",
       "<style scoped>\n",
       "    .dataframe tbody tr th:only-of-type {\n",
       "        vertical-align: middle;\n",
       "    }\n",
       "\n",
       "    .dataframe tbody tr th {\n",
       "        vertical-align: top;\n",
       "    }\n",
       "\n",
       "    .dataframe thead th {\n",
       "        text-align: right;\n",
       "    }\n",
       "</style>\n",
       "<table border=\"1\" class=\"dataframe\">\n",
       "  <thead>\n",
       "    <tr style=\"text-align: right;\">\n",
       "      <th></th>\n",
       "      <th>model</th>\n",
       "      <th>vectorizer</th>\n",
       "      <th>accuracy</th>\n",
       "      <th>misclassification</th>\n",
       "      <th>sensitivity</th>\n",
       "      <th>specificity</th>\n",
       "      <th>precision</th>\n",
       "      <th>f1_score</th>\n",
       "      <th>tn</th>\n",
       "      <th>tp</th>\n",
       "      <th>fn</th>\n",
       "      <th>fp</th>\n",
       "      <th>fn_list</th>\n",
       "      <th>fp_list</th>\n",
       "    </tr>\n",
       "  </thead>\n",
       "  <tbody>\n",
       "    <tr>\n",
       "      <th>0</th>\n",
       "      <td>LogisticRegression()</td>\n",
       "      <td>cvec</td>\n",
       "      <td>0.849879</td>\n",
       "      <td>0.150121</td>\n",
       "      <td>0.813725</td>\n",
       "      <td>0.885167</td>\n",
       "      <td>0.873684</td>\n",
       "      <td>0.842640</td>\n",
       "      <td>185</td>\n",
       "      <td>166</td>\n",
       "      <td>38</td>\n",
       "      <td>24</td>\n",
       "      <td>[i was recently reminded of the pop o matic i ...</td>\n",
       "      <td>[hello i recently got a ps also connected the ...</td>\n",
       "    </tr>\n",
       "    <tr>\n",
       "      <th>1</th>\n",
       "      <td>LogisticRegression()</td>\n",
       "      <td>tvec</td>\n",
       "      <td>0.857143</td>\n",
       "      <td>0.142857</td>\n",
       "      <td>0.852941</td>\n",
       "      <td>0.861244</td>\n",
       "      <td>0.857143</td>\n",
       "      <td>0.855037</td>\n",
       "      <td>180</td>\n",
       "      <td>174</td>\n",
       "      <td>30</td>\n",
       "      <td>29</td>\n",
       "      <td>[it was carribean ship trading and battle base...</td>\n",
       "      <td>[recently i started playing mobile games again...</td>\n",
       "    </tr>\n",
       "    <tr>\n",
       "      <th>2</th>\n",
       "      <td>MultinomialNB()</td>\n",
       "      <td>cvec</td>\n",
       "      <td>0.857143</td>\n",
       "      <td>0.142857</td>\n",
       "      <td>0.897059</td>\n",
       "      <td>0.818182</td>\n",
       "      <td>0.828054</td>\n",
       "      <td>0.861176</td>\n",
       "      <td>171</td>\n",
       "      <td>183</td>\n",
       "      <td>21</td>\n",
       "      <td>38</td>\n",
       "      <td>[for example do you only need the app for were...</td>\n",
       "      <td>[recently i started playing mobile games again...</td>\n",
       "    </tr>\n",
       "    <tr>\n",
       "      <th>3</th>\n",
       "      <td>MultinomialNB()</td>\n",
       "      <td>tvec</td>\n",
       "      <td>0.840194</td>\n",
       "      <td>0.159806</td>\n",
       "      <td>0.882353</td>\n",
       "      <td>0.799043</td>\n",
       "      <td>0.810811</td>\n",
       "      <td>0.845070</td>\n",
       "      <td>167</td>\n",
       "      <td>180</td>\n",
       "      <td>24</td>\n",
       "      <td>42</td>\n",
       "      <td>[for example do you only need the app for were...</td>\n",
       "      <td>[recently i started playing mobile games again...</td>\n",
       "    </tr>\n",
       "  </tbody>\n",
       "</table>\n",
       "</div>"
      ],
      "text/plain": [
       "                  model vectorizer  accuracy  misclassification  sensitivity  \\\n",
       "0  LogisticRegression()       cvec  0.849879           0.150121     0.813725   \n",
       "1  LogisticRegression()       tvec  0.857143           0.142857     0.852941   \n",
       "2       MultinomialNB()       cvec  0.857143           0.142857     0.897059   \n",
       "3       MultinomialNB()       tvec  0.840194           0.159806     0.882353   \n",
       "\n",
       "   specificity  precision  f1_score   tn   tp  fn  fp  \\\n",
       "0     0.885167   0.873684  0.842640  185  166  38  24   \n",
       "1     0.861244   0.857143  0.855037  180  174  30  29   \n",
       "2     0.818182   0.828054  0.861176  171  183  21  38   \n",
       "3     0.799043   0.810811  0.845070  167  180  24  42   \n",
       "\n",
       "                                             fn_list  \\\n",
       "0  [i was recently reminded of the pop o matic i ...   \n",
       "1  [it was carribean ship trading and battle base...   \n",
       "2  [for example do you only need the app for were...   \n",
       "3  [for example do you only need the app for were...   \n",
       "\n",
       "                                             fp_list  \n",
       "0  [hello i recently got a ps also connected the ...  \n",
       "1  [recently i started playing mobile games again...  \n",
       "2  [recently i started playing mobile games again...  \n",
       "3  [recently i started playing mobile games again...  "
      ]
     },
     "execution_count": 57,
     "metadata": {},
     "output_type": "execute_result"
    }
   ],
   "source": [
    "df_results"
   ]
  },
  {
   "cell_type": "markdown",
   "id": "ec99d954",
   "metadata": {},
   "source": [
    "### Observations: \n",
    "\n",
    "The naive bayes model using a TfidfVectorizer achieved an accuracy of 84.2% as well as sensivity and specificity of 87.7% and 80.86% respectively. "
   ]
  },
  {
   "cell_type": "code",
   "execution_count": 58,
   "id": "415e47fa",
   "metadata": {},
   "outputs": [
    {
     "data": {
      "image/png": "[encoded data removed]",
      "text/plain": [
       "<Figure size 1296x720 with 2 Axes>"
      ]
     },
     "metadata": {
      "needs_background": "light"
     },
     "output_type": "display_data"
    }
   ],
   "source": [
    "plot_top_features([pipe_nb_cvec_gridsearch, pipe_nb_tvec_gridsearch], ['cvec', 'tvec'], 'nb', True, 10)"
   ]
  },
  {
   "cell_type": "markdown",
   "id": "7fd80786",
   "metadata": {},
   "source": [
    "### Observations:\n",
    "\n",
    "The 2 barcharts above show the top 10 words for each vectorizer which will classify the post into the 'boardgames' category. For Naive bayes, the relative log probability of the features that are positive represent the feature that will help to classify into the 'boardgames' category. The word with higher relative log probability value will have more impact in classifying the post into the 'boardgames' category. Hence, from the barcharts, it can be observed that words like 'boardgame', 'expansion', 'bgg' (short form for broadgamegeek) are some of the features that will be classified as 'boardgames' category."
   ]
  },
  {
   "cell_type": "code",
   "execution_count": 59,
   "id": "14f2edd7",
   "metadata": {},
   "outputs": [
    {
     "data": {
      "image/png": "[encoded data removed]",
      "text/plain": [
       "<Figure size 1296x720 with 2 Axes>"
      ]
     },
     "metadata": {
      "needs_background": "light"
     },
     "output_type": "display_data"
    }
   ],
   "source": [
    "plot_top_features([pipe_nb_cvec_gridsearch, pipe_nb_tvec_gridsearch], ['cvec', 'tvec'], 'nb', False, 10)"
   ]
  },
  {
   "cell_type": "markdown",
   "id": "c720e1a2",
   "metadata": {},
   "source": [
    "### Observations:\n",
    "\n",
    "The 2 barcharts above show the top 10 words for each vectorizer which will classify the post into the 'boardgames' category. For Naive bayes, the relative log probability of the features that are positive represent the feature that will help to classify into the 'MobileGaming' category. The word with higher relative log probability value will have more impact in classifying the post into the 'boardgames' category. Hence, from the barcharts, it can be observed that words like 'boardgame', 'expansion', 'bgg' (short form for broadgamegeek) are some of the features that will be classified as 'boardgames' category."
   ]
  },
  {
   "cell_type": "markdown",
   "id": "382c2cc2",
   "metadata": {},
   "source": [
    "### KNN"
   ]
  },
  {
   "cell_type": "code",
   "execution_count": 60,
   "id": "cf506732",
   "metadata": {},
   "outputs": [],
   "source": [
    "pipe_knn_cvec = Pipeline([\n",
    "        ('cvec', CountVectorizer(stop_words=all_stopwords)), # transformer\n",
    "        ('knn', KNeighborsClassifier()) # estimator\n",
    "])"
   ]
  },
  {
   "cell_type": "code",
   "execution_count": 61,
   "id": "e58c5335",
   "metadata": {},
   "outputs": [],
   "source": [
    "# use best params\n",
    "pipe_knn_cvec_params = {\n",
    "    'knn__n_neighbors': [5], #range(3, 11, 2),\n",
    "    'cvec__max_features': [None], #[None, 2000, 3000, 4000, 5000],\n",
    "    'cvec__ngram_range': [(1, 2)], #[(1, 2), (1, 3)],\n",
    "    'cvec__max_df': [0.9], #[0.9, 0.95, 0.98], # ignore words occur > specified value/% \n",
    "    'cvec__min_df': [0.03] #[0.01, 0.03, 0.05] # get words that occur > specified value/%\n",
    "    \n",
    "}"
   ]
  },
  {
   "cell_type": "code",
   "execution_count": 62,
   "id": "efd94af5",
   "metadata": {},
   "outputs": [
    {
     "name": "stdout",
     "output_type": "stream",
     "text": [
      "CPU times: user 18 µs, sys: 1e+03 ns, total: 19 µs\n",
      "Wall time: 19.8 µs\n"
     ]
    }
   ],
   "source": [
    "%%time\n",
    "pipe_knn_cvec_gridsearch = GridSearchCV(\n",
    "        pipe_knn_cvec, # What is the model we want to fit?\n",
    "        pipe_knn_cvec_params, # What is the dictionary of hyperparameters?\n",
    "        cv=5, # What number of folds in CV will we use?\n",
    "        verbose=1 # verbose=1 means print out everything\n",
    ") "
   ]
  },
  {
   "cell_type": "code",
   "execution_count": 63,
   "id": "c2b04994",
   "metadata": {},
   "outputs": [
    {
     "name": "stdout",
     "output_type": "stream",
     "text": [
      "Fitting 5 folds for each of 1 candidates, totalling 5 fits\n",
      "CPU times: user 867 ms, sys: 6.07 ms, total: 873 ms\n",
      "Wall time: 873 ms\n"
     ]
    },
    {
     "data": {
      "text/plain": [
       "GridSearchCV(cv=5,\n",
       "             estimator=Pipeline(steps=[('cvec',\n",
       "                                        CountVectorizer(stop_words=['games',\n",
       "                                                                    'game',\n",
       "                                                                    'mobile',\n",
       "                                                                    'board',\n",
       "                                                                    'android',\n",
       "                                                                    'like',\n",
       "                                                                    'phone',\n",
       "                                                                    'card',\n",
       "                                                                    'cards',\n",
       "                                                                    'whom',\n",
       "                                                                    'moreover',\n",
       "                                                                    'whenever',\n",
       "                                                                    'everyone',\n",
       "                                                                    'hereupon',\n",
       "                                                                    'noone',\n",
       "                                                                    'somewhere',\n",
       "                                                                    'serious',\n",
       "                                                                    'you',\n",
       "                                                                    'latter',\n",
       "                                                                    'anyway',\n",
       "                                                                    'eight',\n",
       "                                                                    'were',\n",
       "                                                                    'who',\n",
       "                                                                    'fifty',\n",
       "                                                                    'get', 'a',\n",
       "                                                                    'thin',\n",
       "                                                                    'move',\n",
       "                                                                    'whereas',\n",
       "                                                                    'is', ...])),\n",
       "                                       ('knn', KNeighborsClassifier())]),\n",
       "             param_grid={'cvec__max_df': [0.9], 'cvec__max_features': [None],\n",
       "                         'cvec__min_df': [0.03], 'cvec__ngram_range': [(1, 2)],\n",
       "                         'knn__n_neighbors': [5]},\n",
       "             verbose=1)"
      ]
     },
     "execution_count": 63,
     "metadata": {},
     "output_type": "execute_result"
    }
   ],
   "source": [
    "%%time\n",
    "# takes about 6min\n",
    "pipe_knn_cvec_gridsearch.fit(X_train, y_train)"
   ]
  },
  {
   "cell_type": "code",
   "execution_count": 64,
   "id": "96a8f7ba",
   "metadata": {},
   "outputs": [
    {
     "data": {
      "text/plain": [
       "0.6571483835313623"
      ]
     },
     "execution_count": 64,
     "metadata": {},
     "output_type": "execute_result"
    }
   ],
   "source": [
    "pipe_knn_cvec_gridsearch.best_score_"
   ]
  },
  {
   "cell_type": "code",
   "execution_count": 65,
   "id": "8dde2a8e",
   "metadata": {},
   "outputs": [],
   "source": [
    "# pipe_knn_cvec_gridsearch.best_params_"
   ]
  },
  {
   "cell_type": "code",
   "execution_count": 66,
   "id": "d27c028f",
   "metadata": {},
   "outputs": [],
   "source": [
    "# pipe_knn_cvec_gridsearch.best_estimator_"
   ]
  },
  {
   "cell_type": "code",
   "execution_count": 67,
   "id": "259e6684",
   "metadata": {},
   "outputs": [
    {
     "name": "stdout",
     "output_type": "stream",
     "text": [
      "Accuracy is 0.6804.\n",
      "Misclassification is 0.3196.\n",
      "Sensitivity is 0.4902.\n",
      "Specificity is 0.866.\n",
      "F1_score is 0.6024.\n"
     ]
    },
    {
     "data": {
      "image/png": "[encoded data removed]",
      "text/plain": [
       "<Figure size 432x288 with 2 Axes>"
      ]
     },
     "metadata": {
      "needs_background": "light"
     },
     "output_type": "display_data"
    }
   ],
   "source": [
    "# df_results is used to save all the model metrics\n",
    "# initially, pass in empty dataframe, subsequently, pass in existing dataframe to concatenate the results\n",
    "df_results = compute_metrics(pipe_knn_cvec_gridsearch, X_test, y_test, df_results)"
   ]
  },
  {
   "cell_type": "code",
   "execution_count": 68,
   "id": "4ad5ce86",
   "metadata": {},
   "outputs": [
    {
     "data": {
      "text/html": [
       "<div>\n",
       "<style scoped>\n",
       "    .dataframe tbody tr th:only-of-type {\n",
       "        vertical-align: middle;\n",
       "    }\n",
       "\n",
       "    .dataframe tbody tr th {\n",
       "        vertical-align: top;\n",
       "    }\n",
       "\n",
       "    .dataframe thead th {\n",
       "        text-align: right;\n",
       "    }\n",
       "</style>\n",
       "<table border=\"1\" class=\"dataframe\">\n",
       "  <thead>\n",
       "    <tr style=\"text-align: right;\">\n",
       "      <th></th>\n",
       "      <th>model</th>\n",
       "      <th>vectorizer</th>\n",
       "      <th>accuracy</th>\n",
       "      <th>misclassification</th>\n",
       "      <th>sensitivity</th>\n",
       "      <th>specificity</th>\n",
       "      <th>precision</th>\n",
       "      <th>f1_score</th>\n",
       "      <th>tn</th>\n",
       "      <th>tp</th>\n",
       "      <th>fn</th>\n",
       "      <th>fp</th>\n",
       "      <th>fn_list</th>\n",
       "      <th>fp_list</th>\n",
       "    </tr>\n",
       "  </thead>\n",
       "  <tbody>\n",
       "    <tr>\n",
       "      <th>0</th>\n",
       "      <td>LogisticRegression()</td>\n",
       "      <td>cvec</td>\n",
       "      <td>0.849879</td>\n",
       "      <td>0.150121</td>\n",
       "      <td>0.813725</td>\n",
       "      <td>0.885167</td>\n",
       "      <td>0.873684</td>\n",
       "      <td>0.842640</td>\n",
       "      <td>185</td>\n",
       "      <td>166</td>\n",
       "      <td>38</td>\n",
       "      <td>24</td>\n",
       "      <td>[i was recently reminded of the pop o matic i ...</td>\n",
       "      <td>[hello i recently got a ps also connected the ...</td>\n",
       "    </tr>\n",
       "    <tr>\n",
       "      <th>1</th>\n",
       "      <td>LogisticRegression()</td>\n",
       "      <td>tvec</td>\n",
       "      <td>0.857143</td>\n",
       "      <td>0.142857</td>\n",
       "      <td>0.852941</td>\n",
       "      <td>0.861244</td>\n",
       "      <td>0.857143</td>\n",
       "      <td>0.855037</td>\n",
       "      <td>180</td>\n",
       "      <td>174</td>\n",
       "      <td>30</td>\n",
       "      <td>29</td>\n",
       "      <td>[it was carribean ship trading and battle base...</td>\n",
       "      <td>[recently i started playing mobile games again...</td>\n",
       "    </tr>\n",
       "    <tr>\n",
       "      <th>2</th>\n",
       "      <td>MultinomialNB()</td>\n",
       "      <td>cvec</td>\n",
       "      <td>0.857143</td>\n",
       "      <td>0.142857</td>\n",
       "      <td>0.897059</td>\n",
       "      <td>0.818182</td>\n",
       "      <td>0.828054</td>\n",
       "      <td>0.861176</td>\n",
       "      <td>171</td>\n",
       "      <td>183</td>\n",
       "      <td>21</td>\n",
       "      <td>38</td>\n",
       "      <td>[for example do you only need the app for were...</td>\n",
       "      <td>[recently i started playing mobile games again...</td>\n",
       "    </tr>\n",
       "    <tr>\n",
       "      <th>3</th>\n",
       "      <td>MultinomialNB()</td>\n",
       "      <td>tvec</td>\n",
       "      <td>0.840194</td>\n",
       "      <td>0.159806</td>\n",
       "      <td>0.882353</td>\n",
       "      <td>0.799043</td>\n",
       "      <td>0.810811</td>\n",
       "      <td>0.845070</td>\n",
       "      <td>167</td>\n",
       "      <td>180</td>\n",
       "      <td>24</td>\n",
       "      <td>42</td>\n",
       "      <td>[for example do you only need the app for were...</td>\n",
       "      <td>[recently i started playing mobile games again...</td>\n",
       "    </tr>\n",
       "    <tr>\n",
       "      <th>4</th>\n",
       "      <td>KNeighborsClassifier()</td>\n",
       "      <td>cvec</td>\n",
       "      <td>0.680387</td>\n",
       "      <td>0.319613</td>\n",
       "      <td>0.490196</td>\n",
       "      <td>0.866029</td>\n",
       "      <td>0.781250</td>\n",
       "      <td>0.602410</td>\n",
       "      <td>181</td>\n",
       "      <td>100</td>\n",
       "      <td>104</td>\n",
       "      <td>28</td>\n",
       "      <td>[it was hard to believe that there isn t any s...</td>\n",
       "      <td>[i don t know if this is the right place to as...</td>\n",
       "    </tr>\n",
       "  </tbody>\n",
       "</table>\n",
       "</div>"
      ],
      "text/plain": [
       "                    model vectorizer  accuracy  misclassification  \\\n",
       "0    LogisticRegression()       cvec  0.849879           0.150121   \n",
       "1    LogisticRegression()       tvec  0.857143           0.142857   \n",
       "2         MultinomialNB()       cvec  0.857143           0.142857   \n",
       "3         MultinomialNB()       tvec  0.840194           0.159806   \n",
       "4  KNeighborsClassifier()       cvec  0.680387           0.319613   \n",
       "\n",
       "   sensitivity  specificity  precision  f1_score   tn   tp   fn  fp  \\\n",
       "0     0.813725     0.885167   0.873684  0.842640  185  166   38  24   \n",
       "1     0.852941     0.861244   0.857143  0.855037  180  174   30  29   \n",
       "2     0.897059     0.818182   0.828054  0.861176  171  183   21  38   \n",
       "3     0.882353     0.799043   0.810811  0.845070  167  180   24  42   \n",
       "4     0.490196     0.866029   0.781250  0.602410  181  100  104  28   \n",
       "\n",
       "                                             fn_list  \\\n",
       "0  [i was recently reminded of the pop o matic i ...   \n",
       "1  [it was carribean ship trading and battle base...   \n",
       "2  [for example do you only need the app for were...   \n",
       "3  [for example do you only need the app for were...   \n",
       "4  [it was hard to believe that there isn t any s...   \n",
       "\n",
       "                                             fp_list  \n",
       "0  [hello i recently got a ps also connected the ...  \n",
       "1  [recently i started playing mobile games again...  \n",
       "2  [recently i started playing mobile games again...  \n",
       "3  [recently i started playing mobile games again...  \n",
       "4  [i don t know if this is the right place to as...  "
      ]
     },
     "execution_count": 68,
     "metadata": {},
     "output_type": "execute_result"
    }
   ],
   "source": [
    "df_results"
   ]
  },
  {
   "cell_type": "markdown",
   "id": "927c572a",
   "metadata": {},
   "source": [
    "### Observations: \n",
    "\n",
    "The k-nearest neighbors model using a count vectorizer achieved an accuracy of 69% as well as ssensivity and specificity of 50% and 87.56% respectively. \n",
    "\n",
    "As k-nearest neighbors is a distance-based algorithm, it does not associate which features/words are important to be classified in the 'boardgames' or 'MobileGaming\" category, therefore produce very poor results."
   ]
  },
  {
   "cell_type": "code",
   "execution_count": 69,
   "id": "cddc5401",
   "metadata": {},
   "outputs": [],
   "source": [
    "pipe_knn_tvec = Pipeline([\n",
    "        ('tvec', TfidfVectorizer(stop_words=all_stopwords)), # transformer\n",
    "        ('knn', KNeighborsClassifier()) # estimator\n",
    "])"
   ]
  },
  {
   "cell_type": "code",
   "execution_count": 70,
   "id": "96aa744c",
   "metadata": {},
   "outputs": [],
   "source": [
    "pipe_knn_tvec_params = {\n",
    "    'knn__n_neighbors': [9], #range(3, 11, 2),\n",
    "    'tvec__max_features': [None, 2000, 3000, 4000, 5000],\n",
    "    'tvec__ngram_range': [(1, 2)], #[(1, 2), (1, 3)],\n",
    "    'tvec__max_df': [0.9], #[0.9 0.95, 0.98], # ignore words occur > specified value/% (def:1.0)\n",
    "    'tvec__min_df': [0.01], #[0.03, 0.05] # ignore words < specified value/% (def:1)\n",
    "}"
   ]
  },
  {
   "cell_type": "code",
   "execution_count": 71,
   "id": "df59e143",
   "metadata": {},
   "outputs": [
    {
     "name": "stdout",
     "output_type": "stream",
     "text": [
      "CPU times: user 27 µs, sys: 0 ns, total: 27 µs\n",
      "Wall time: 30 µs\n"
     ]
    }
   ],
   "source": [
    "%%time\n",
    "pipe_knn_tvec_gridsearch = GridSearchCV(\n",
    "        pipe_knn_tvec, # What is the model we want to fit?\n",
    "        pipe_knn_tvec_params, # What is the dictionary of hyperparameters?\n",
    "        cv=5, # What number of folds in CV will we use?\n",
    "        verbose=1 # verbose=1 means print out everything\n",
    ") "
   ]
  },
  {
   "cell_type": "code",
   "execution_count": 72,
   "id": "721a1634",
   "metadata": {},
   "outputs": [
    {
     "name": "stdout",
     "output_type": "stream",
     "text": [
      "Fitting 5 folds for each of 5 candidates, totalling 25 fits\n"
     ]
    },
    {
     "data": {
      "text/plain": [
       "GridSearchCV(cv=5,\n",
       "             estimator=Pipeline(steps=[('tvec',\n",
       "                                        TfidfVectorizer(stop_words=['games',\n",
       "                                                                    'game',\n",
       "                                                                    'mobile',\n",
       "                                                                    'board',\n",
       "                                                                    'android',\n",
       "                                                                    'like',\n",
       "                                                                    'phone',\n",
       "                                                                    'card',\n",
       "                                                                    'cards',\n",
       "                                                                    'whom',\n",
       "                                                                    'moreover',\n",
       "                                                                    'whenever',\n",
       "                                                                    'everyone',\n",
       "                                                                    'hereupon',\n",
       "                                                                    'noone',\n",
       "                                                                    'somewhere',\n",
       "                                                                    'serious',\n",
       "                                                                    'you',\n",
       "                                                                    'latter',\n",
       "                                                                    'anyway',\n",
       "                                                                    'eight',\n",
       "                                                                    'were',\n",
       "                                                                    'who',\n",
       "                                                                    'fifty',\n",
       "                                                                    'get', 'a',\n",
       "                                                                    'thin',\n",
       "                                                                    'move',\n",
       "                                                                    'whereas',\n",
       "                                                                    'is', ...])),\n",
       "                                       ('knn', KNeighborsClassifier())]),\n",
       "             param_grid={'knn__n_neighbors': [9], 'tvec__max_df': [0.9],\n",
       "                         'tvec__max_features': [None, 2000, 3000, 4000, 5000],\n",
       "                         'tvec__min_df': [0.01],\n",
       "                         'tvec__ngram_range': [(1, 2)]},\n",
       "             verbose=1)"
      ]
     },
     "execution_count": 72,
     "metadata": {},
     "output_type": "execute_result"
    }
   ],
   "source": [
    "pipe_knn_tvec_gridsearch.fit(X_train, y_train)"
   ]
  },
  {
   "cell_type": "code",
   "execution_count": 73,
   "id": "a229c270",
   "metadata": {},
   "outputs": [
    {
     "data": {
      "text/plain": [
       "0.7961149488809063"
      ]
     },
     "execution_count": 73,
     "metadata": {},
     "output_type": "execute_result"
    }
   ],
   "source": [
    "pipe_knn_tvec_gridsearch.best_score_"
   ]
  },
  {
   "cell_type": "code",
   "execution_count": 74,
   "id": "91ee00fa",
   "metadata": {},
   "outputs": [],
   "source": [
    "# pipe_knn_tvec_gridsearch.best_params_"
   ]
  },
  {
   "cell_type": "code",
   "execution_count": 75,
   "id": "e4efed91",
   "metadata": {},
   "outputs": [],
   "source": [
    "# pipe_knn_tvec_gridsearch.best_estimator_"
   ]
  },
  {
   "cell_type": "code",
   "execution_count": 76,
   "id": "21717c55",
   "metadata": {},
   "outputs": [
    {
     "name": "stdout",
     "output_type": "stream",
     "text": [
      "Accuracy is 0.7651.\n",
      "Misclassification is 0.2349.\n",
      "Sensitivity is 0.598.\n",
      "Specificity is 0.9282.\n",
      "F1_score is 0.7155.\n"
     ]
    },
    {
     "data": {
      "image/png": "[encoded data removed]",
      "text/plain": [
       "<Figure size 432x288 with 2 Axes>"
      ]
     },
     "metadata": {
      "needs_background": "light"
     },
     "output_type": "display_data"
    }
   ],
   "source": [
    "# df_results is used to save all the model metrics\n",
    "# initially, pass in empty dataframe, subsequently, pass in existing dataframe to concatenate the results\n",
    "df_results = compute_metrics(pipe_knn_tvec_gridsearch, X_test, y_test, df_results)"
   ]
  },
  {
   "cell_type": "code",
   "execution_count": 77,
   "id": "4a04def8",
   "metadata": {},
   "outputs": [
    {
     "data": {
      "text/html": [
       "<div>\n",
       "<style scoped>\n",
       "    .dataframe tbody tr th:only-of-type {\n",
       "        vertical-align: middle;\n",
       "    }\n",
       "\n",
       "    .dataframe tbody tr th {\n",
       "        vertical-align: top;\n",
       "    }\n",
       "\n",
       "    .dataframe thead th {\n",
       "        text-align: right;\n",
       "    }\n",
       "</style>\n",
       "<table border=\"1\" class=\"dataframe\">\n",
       "  <thead>\n",
       "    <tr style=\"text-align: right;\">\n",
       "      <th></th>\n",
       "      <th>model</th>\n",
       "      <th>vectorizer</th>\n",
       "      <th>accuracy</th>\n",
       "      <th>misclassification</th>\n",
       "      <th>sensitivity</th>\n",
       "      <th>specificity</th>\n",
       "      <th>precision</th>\n",
       "      <th>f1_score</th>\n",
       "      <th>tn</th>\n",
       "      <th>tp</th>\n",
       "      <th>fn</th>\n",
       "      <th>fp</th>\n",
       "      <th>fn_list</th>\n",
       "      <th>fp_list</th>\n",
       "    </tr>\n",
       "  </thead>\n",
       "  <tbody>\n",
       "    <tr>\n",
       "      <th>0</th>\n",
       "      <td>LogisticRegression()</td>\n",
       "      <td>cvec</td>\n",
       "      <td>0.849879</td>\n",
       "      <td>0.150121</td>\n",
       "      <td>0.813725</td>\n",
       "      <td>0.885167</td>\n",
       "      <td>0.873684</td>\n",
       "      <td>0.842640</td>\n",
       "      <td>185</td>\n",
       "      <td>166</td>\n",
       "      <td>38</td>\n",
       "      <td>24</td>\n",
       "      <td>[i was recently reminded of the pop o matic i ...</td>\n",
       "      <td>[hello i recently got a ps also connected the ...</td>\n",
       "    </tr>\n",
       "    <tr>\n",
       "      <th>1</th>\n",
       "      <td>LogisticRegression()</td>\n",
       "      <td>tvec</td>\n",
       "      <td>0.857143</td>\n",
       "      <td>0.142857</td>\n",
       "      <td>0.852941</td>\n",
       "      <td>0.861244</td>\n",
       "      <td>0.857143</td>\n",
       "      <td>0.855037</td>\n",
       "      <td>180</td>\n",
       "      <td>174</td>\n",
       "      <td>30</td>\n",
       "      <td>29</td>\n",
       "      <td>[it was carribean ship trading and battle base...</td>\n",
       "      <td>[recently i started playing mobile games again...</td>\n",
       "    </tr>\n",
       "    <tr>\n",
       "      <th>2</th>\n",
       "      <td>MultinomialNB()</td>\n",
       "      <td>cvec</td>\n",
       "      <td>0.857143</td>\n",
       "      <td>0.142857</td>\n",
       "      <td>0.897059</td>\n",
       "      <td>0.818182</td>\n",
       "      <td>0.828054</td>\n",
       "      <td>0.861176</td>\n",
       "      <td>171</td>\n",
       "      <td>183</td>\n",
       "      <td>21</td>\n",
       "      <td>38</td>\n",
       "      <td>[for example do you only need the app for were...</td>\n",
       "      <td>[recently i started playing mobile games again...</td>\n",
       "    </tr>\n",
       "    <tr>\n",
       "      <th>3</th>\n",
       "      <td>MultinomialNB()</td>\n",
       "      <td>tvec</td>\n",
       "      <td>0.840194</td>\n",
       "      <td>0.159806</td>\n",
       "      <td>0.882353</td>\n",
       "      <td>0.799043</td>\n",
       "      <td>0.810811</td>\n",
       "      <td>0.845070</td>\n",
       "      <td>167</td>\n",
       "      <td>180</td>\n",
       "      <td>24</td>\n",
       "      <td>42</td>\n",
       "      <td>[for example do you only need the app for were...</td>\n",
       "      <td>[recently i started playing mobile games again...</td>\n",
       "    </tr>\n",
       "    <tr>\n",
       "      <th>4</th>\n",
       "      <td>KNeighborsClassifier()</td>\n",
       "      <td>cvec</td>\n",
       "      <td>0.680387</td>\n",
       "      <td>0.319613</td>\n",
       "      <td>0.490196</td>\n",
       "      <td>0.866029</td>\n",
       "      <td>0.781250</td>\n",
       "      <td>0.602410</td>\n",
       "      <td>181</td>\n",
       "      <td>100</td>\n",
       "      <td>104</td>\n",
       "      <td>28</td>\n",
       "      <td>[it was hard to believe that there isn t any s...</td>\n",
       "      <td>[i don t know if this is the right place to as...</td>\n",
       "    </tr>\n",
       "    <tr>\n",
       "      <th>5</th>\n",
       "      <td>KNeighborsClassifier()</td>\n",
       "      <td>tvec</td>\n",
       "      <td>0.765133</td>\n",
       "      <td>0.234867</td>\n",
       "      <td>0.598039</td>\n",
       "      <td>0.928230</td>\n",
       "      <td>0.890511</td>\n",
       "      <td>0.715543</td>\n",
       "      <td>194</td>\n",
       "      <td>122</td>\n",
       "      <td>82</td>\n",
       "      <td>15</td>\n",
       "      <td>[our first game with players we get to the rai...</td>\n",
       "      <td>[recently i started playing mobile games again...</td>\n",
       "    </tr>\n",
       "  </tbody>\n",
       "</table>\n",
       "</div>"
      ],
      "text/plain": [
       "                    model vectorizer  accuracy  misclassification  \\\n",
       "0    LogisticRegression()       cvec  0.849879           0.150121   \n",
       "1    LogisticRegression()       tvec  0.857143           0.142857   \n",
       "2         MultinomialNB()       cvec  0.857143           0.142857   \n",
       "3         MultinomialNB()       tvec  0.840194           0.159806   \n",
       "4  KNeighborsClassifier()       cvec  0.680387           0.319613   \n",
       "5  KNeighborsClassifier()       tvec  0.765133           0.234867   \n",
       "\n",
       "   sensitivity  specificity  precision  f1_score   tn   tp   fn  fp  \\\n",
       "0     0.813725     0.885167   0.873684  0.842640  185  166   38  24   \n",
       "1     0.852941     0.861244   0.857143  0.855037  180  174   30  29   \n",
       "2     0.897059     0.818182   0.828054  0.861176  171  183   21  38   \n",
       "3     0.882353     0.799043   0.810811  0.845070  167  180   24  42   \n",
       "4     0.490196     0.866029   0.781250  0.602410  181  100  104  28   \n",
       "5     0.598039     0.928230   0.890511  0.715543  194  122   82  15   \n",
       "\n",
       "                                             fn_list  \\\n",
       "0  [i was recently reminded of the pop o matic i ...   \n",
       "1  [it was carribean ship trading and battle base...   \n",
       "2  [for example do you only need the app for were...   \n",
       "3  [for example do you only need the app for were...   \n",
       "4  [it was hard to believe that there isn t any s...   \n",
       "5  [our first game with players we get to the rai...   \n",
       "\n",
       "                                             fp_list  \n",
       "0  [hello i recently got a ps also connected the ...  \n",
       "1  [recently i started playing mobile games again...  \n",
       "2  [recently i started playing mobile games again...  \n",
       "3  [recently i started playing mobile games again...  \n",
       "4  [i don t know if this is the right place to as...  \n",
       "5  [recently i started playing mobile games again...  "
      ]
     },
     "execution_count": 77,
     "metadata": {},
     "output_type": "execute_result"
    }
   ],
   "source": [
    "df_results"
   ]
  },
  {
   "cell_type": "markdown",
   "id": "e7569ec5",
   "metadata": {},
   "source": [
    "### Observations: \n",
    "\n",
    "The k-nearest neighbors model using a TfidfVectorizer achieved an accuracy of 72% as well as ssensivity and specificity of 48% and 96% respectively. \n",
    "\n",
    "As k-nearest neighbors is a distance-based algorithm, it does not associate which features/words are important to be classified in the 'boardgames' or 'MobileGaming\" category, therefore produce very poor results."
   ]
  },
  {
   "cell_type": "markdown",
   "id": "874bfb12",
   "metadata": {},
   "source": [
    "### Decision Tree"
   ]
  },
  {
   "cell_type": "code",
   "execution_count": 78,
   "id": "93e25436",
   "metadata": {},
   "outputs": [],
   "source": [
    "# use gini impurity to split\n",
    "# measure impurity of the node and calculated as (1 - gini)\n",
    "# Instantiate model with random_state = 42.\n",
    "# dt = DecisionTreeClassifier(random_state=42)\n",
    "pipe_dt_cvec = Pipeline([\n",
    "        ('cvec', CountVectorizer(stop_words=all_stopwords)), # transformer\n",
    "        ('dt', DecisionTreeClassifier(random_state=42)) # estimator\n",
    "])"
   ]
  },
  {
   "cell_type": "code",
   "execution_count": 79,
   "id": "aa1c64e9",
   "metadata": {},
   "outputs": [],
   "source": [
    "pipe_dt_cvec_params = {\n",
    "    'dt__min_samples_split': [3], #[2, 3, 4] , # min. no of sample required to split, def:2\n",
    "    'dt__min_samples_leaf': [1], #[1, 3, 5, 7], # min. no. of samples required a leaf node, def:1\n",
    "    'cvec__ngram_range': [(1, 2)], #[(1, 2), (1, 3)],\n",
    "    'cvec__max_df': [0.9], #[0.9, 0.95, 0.98], # ignore words occur > specified value/% \n",
    "    'cvec__min_df': [0.01] #[0.01, 0.03, 0.05] # get words that occur > specified value/%\n",
    "}"
   ]
  },
  {
   "cell_type": "code",
   "execution_count": 80,
   "id": "c50cf5b8",
   "metadata": {},
   "outputs": [
    {
     "name": "stdout",
     "output_type": "stream",
     "text": [
      "CPU times: user 18 µs, sys: 0 ns, total: 18 µs\n",
      "Wall time: 18.8 µs\n"
     ]
    }
   ],
   "source": [
    "%%time\n",
    "pipe_dt_cvec_gridsearch = GridSearchCV(\n",
    "        pipe_dt_cvec, # What is the model we want to fit?\n",
    "        pipe_dt_cvec_params, # What is the dictionary of hyperparameters?\n",
    "        cv=5, # What number of folds in CV will we use?\n",
    "        verbose=1 # verbose=1 means print out everything\n",
    ") "
   ]
  },
  {
   "cell_type": "code",
   "execution_count": 81,
   "id": "355abec0",
   "metadata": {},
   "outputs": [
    {
     "name": "stdout",
     "output_type": "stream",
     "text": [
      "Fitting 5 folds for each of 1 candidates, totalling 5 fits\n",
      "CPU times: user 908 ms, sys: 2.85 ms, total: 911 ms\n",
      "Wall time: 910 ms\n"
     ]
    },
    {
     "data": {
      "text/plain": [
       "GridSearchCV(cv=5,\n",
       "             estimator=Pipeline(steps=[('cvec',\n",
       "                                        CountVectorizer(stop_words=['games',\n",
       "                                                                    'game',\n",
       "                                                                    'mobile',\n",
       "                                                                    'board',\n",
       "                                                                    'android',\n",
       "                                                                    'like',\n",
       "                                                                    'phone',\n",
       "                                                                    'card',\n",
       "                                                                    'cards',\n",
       "                                                                    'whom',\n",
       "                                                                    'moreover',\n",
       "                                                                    'whenever',\n",
       "                                                                    'everyone',\n",
       "                                                                    'hereupon',\n",
       "                                                                    'noone',\n",
       "                                                                    'somewhere',\n",
       "                                                                    'serious',\n",
       "                                                                    'you',\n",
       "                                                                    'latter',\n",
       "                                                                    'anyway',\n",
       "                                                                    'eight',\n",
       "                                                                    'were',\n",
       "                                                                    'who',\n",
       "                                                                    'fifty',\n",
       "                                                                    'get', 'a',\n",
       "                                                                    'thin',\n",
       "                                                                    'move',\n",
       "                                                                    'whereas',\n",
       "                                                                    'is', ...])),\n",
       "                                       ('dt',\n",
       "                                        DecisionTreeClassifier(random_state=42))]),\n",
       "             param_grid={'cvec__max_df': [0.9], 'cvec__min_df': [0.01],\n",
       "                         'cvec__ngram_range': [(1, 2)],\n",
       "                         'dt__min_samples_leaf': [1],\n",
       "                         'dt__min_samples_split': [3]},\n",
       "             verbose=1)"
      ]
     },
     "execution_count": 81,
     "metadata": {},
     "output_type": "execute_result"
    }
   ],
   "source": [
    "%%time\n",
    "# takes 2min\n",
    "# takes about 11min\n",
    "# Fit the GridSearchCV object to the data\n",
    "pipe_dt_cvec_gridsearch.fit(X_train, y_train)"
   ]
  },
  {
   "cell_type": "code",
   "execution_count": 82,
   "id": "986e01bb",
   "metadata": {},
   "outputs": [
    {
     "data": {
      "text/plain": [
       "0.7615289674864144"
      ]
     },
     "execution_count": 82,
     "metadata": {},
     "output_type": "execute_result"
    }
   ],
   "source": [
    "pipe_dt_cvec_gridsearch.best_score_"
   ]
  },
  {
   "cell_type": "code",
   "execution_count": 83,
   "id": "cb58ae8b",
   "metadata": {},
   "outputs": [],
   "source": [
    "# pipe_dt_cvec_gridsearch.best_params_"
   ]
  },
  {
   "cell_type": "code",
   "execution_count": 84,
   "id": "0b0a8144",
   "metadata": {},
   "outputs": [],
   "source": [
    "# pipe_dt_cvec_gridsearch.best_estimator_"
   ]
  },
  {
   "cell_type": "code",
   "execution_count": 85,
   "id": "be82eb41",
   "metadata": {},
   "outputs": [
    {
     "name": "stdout",
     "output_type": "stream",
     "text": [
      "Accuracy is 0.7821.\n",
      "Misclassification is 0.2179.\n",
      "Sensitivity is 0.7255.\n",
      "Specificity is 0.8373.\n",
      "F1_score is 0.7668.\n"
     ]
    },
    {
     "data": {
      "image/png": "[encoded data removed]",
      "text/plain": [
       "<Figure size 432x288 with 2 Axes>"
      ]
     },
     "metadata": {
      "needs_background": "light"
     },
     "output_type": "display_data"
    }
   ],
   "source": [
    "# df_results is used to save all the model metrics\n",
    "# initially, pass in empty dataframe, subsequently, pass in existing dataframe to concatenate the results\n",
    "df_results = compute_metrics(pipe_dt_cvec_gridsearch, X_test, y_test, df_results)"
   ]
  },
  {
   "cell_type": "code",
   "execution_count": 86,
   "id": "a4b8f283",
   "metadata": {},
   "outputs": [
    {
     "data": {
      "text/html": [
       "<div>\n",
       "<style scoped>\n",
       "    .dataframe tbody tr th:only-of-type {\n",
       "        vertical-align: middle;\n",
       "    }\n",
       "\n",
       "    .dataframe tbody tr th {\n",
       "        vertical-align: top;\n",
       "    }\n",
       "\n",
       "    .dataframe thead th {\n",
       "        text-align: right;\n",
       "    }\n",
       "</style>\n",
       "<table border=\"1\" class=\"dataframe\">\n",
       "  <thead>\n",
       "    <tr style=\"text-align: right;\">\n",
       "      <th></th>\n",
       "      <th>model</th>\n",
       "      <th>vectorizer</th>\n",
       "      <th>accuracy</th>\n",
       "      <th>misclassification</th>\n",
       "      <th>sensitivity</th>\n",
       "      <th>specificity</th>\n",
       "      <th>precision</th>\n",
       "      <th>f1_score</th>\n",
       "      <th>tn</th>\n",
       "      <th>tp</th>\n",
       "      <th>fn</th>\n",
       "      <th>fp</th>\n",
       "      <th>fn_list</th>\n",
       "      <th>fp_list</th>\n",
       "    </tr>\n",
       "  </thead>\n",
       "  <tbody>\n",
       "    <tr>\n",
       "      <th>0</th>\n",
       "      <td>LogisticRegression()</td>\n",
       "      <td>cvec</td>\n",
       "      <td>0.849879</td>\n",
       "      <td>0.150121</td>\n",
       "      <td>0.813725</td>\n",
       "      <td>0.885167</td>\n",
       "      <td>0.873684</td>\n",
       "      <td>0.842640</td>\n",
       "      <td>185</td>\n",
       "      <td>166</td>\n",
       "      <td>38</td>\n",
       "      <td>24</td>\n",
       "      <td>[i was recently reminded of the pop o matic i ...</td>\n",
       "      <td>[hello i recently got a ps also connected the ...</td>\n",
       "    </tr>\n",
       "    <tr>\n",
       "      <th>1</th>\n",
       "      <td>LogisticRegression()</td>\n",
       "      <td>tvec</td>\n",
       "      <td>0.857143</td>\n",
       "      <td>0.142857</td>\n",
       "      <td>0.852941</td>\n",
       "      <td>0.861244</td>\n",
       "      <td>0.857143</td>\n",
       "      <td>0.855037</td>\n",
       "      <td>180</td>\n",
       "      <td>174</td>\n",
       "      <td>30</td>\n",
       "      <td>29</td>\n",
       "      <td>[it was carribean ship trading and battle base...</td>\n",
       "      <td>[recently i started playing mobile games again...</td>\n",
       "    </tr>\n",
       "    <tr>\n",
       "      <th>2</th>\n",
       "      <td>MultinomialNB()</td>\n",
       "      <td>cvec</td>\n",
       "      <td>0.857143</td>\n",
       "      <td>0.142857</td>\n",
       "      <td>0.897059</td>\n",
       "      <td>0.818182</td>\n",
       "      <td>0.828054</td>\n",
       "      <td>0.861176</td>\n",
       "      <td>171</td>\n",
       "      <td>183</td>\n",
       "      <td>21</td>\n",
       "      <td>38</td>\n",
       "      <td>[for example do you only need the app for were...</td>\n",
       "      <td>[recently i started playing mobile games again...</td>\n",
       "    </tr>\n",
       "    <tr>\n",
       "      <th>3</th>\n",
       "      <td>MultinomialNB()</td>\n",
       "      <td>tvec</td>\n",
       "      <td>0.840194</td>\n",
       "      <td>0.159806</td>\n",
       "      <td>0.882353</td>\n",
       "      <td>0.799043</td>\n",
       "      <td>0.810811</td>\n",
       "      <td>0.845070</td>\n",
       "      <td>167</td>\n",
       "      <td>180</td>\n",
       "      <td>24</td>\n",
       "      <td>42</td>\n",
       "      <td>[for example do you only need the app for were...</td>\n",
       "      <td>[recently i started playing mobile games again...</td>\n",
       "    </tr>\n",
       "    <tr>\n",
       "      <th>4</th>\n",
       "      <td>KNeighborsClassifier()</td>\n",
       "      <td>cvec</td>\n",
       "      <td>0.680387</td>\n",
       "      <td>0.319613</td>\n",
       "      <td>0.490196</td>\n",
       "      <td>0.866029</td>\n",
       "      <td>0.781250</td>\n",
       "      <td>0.602410</td>\n",
       "      <td>181</td>\n",
       "      <td>100</td>\n",
       "      <td>104</td>\n",
       "      <td>28</td>\n",
       "      <td>[it was hard to believe that there isn t any s...</td>\n",
       "      <td>[i don t know if this is the right place to as...</td>\n",
       "    </tr>\n",
       "    <tr>\n",
       "      <th>5</th>\n",
       "      <td>KNeighborsClassifier()</td>\n",
       "      <td>tvec</td>\n",
       "      <td>0.765133</td>\n",
       "      <td>0.234867</td>\n",
       "      <td>0.598039</td>\n",
       "      <td>0.928230</td>\n",
       "      <td>0.890511</td>\n",
       "      <td>0.715543</td>\n",
       "      <td>194</td>\n",
       "      <td>122</td>\n",
       "      <td>82</td>\n",
       "      <td>15</td>\n",
       "      <td>[our first game with players we get to the rai...</td>\n",
       "      <td>[recently i started playing mobile games again...</td>\n",
       "    </tr>\n",
       "    <tr>\n",
       "      <th>6</th>\n",
       "      <td>DecisionTreeClassifier(random_state=42)</td>\n",
       "      <td>cvec</td>\n",
       "      <td>0.782082</td>\n",
       "      <td>0.217918</td>\n",
       "      <td>0.725490</td>\n",
       "      <td>0.837321</td>\n",
       "      <td>0.813187</td>\n",
       "      <td>0.766839</td>\n",
       "      <td>175</td>\n",
       "      <td>148</td>\n",
       "      <td>56</td>\n",
       "      <td>34</td>\n",
       "      <td>[i was recently reminded of the pop o matic i ...</td>\n",
       "      <td>[recently i started playing mobile games again...</td>\n",
       "    </tr>\n",
       "  </tbody>\n",
       "</table>\n",
       "</div>"
      ],
      "text/plain": [
       "                                     model vectorizer  accuracy  \\\n",
       "0                     LogisticRegression()       cvec  0.849879   \n",
       "1                     LogisticRegression()       tvec  0.857143   \n",
       "2                          MultinomialNB()       cvec  0.857143   \n",
       "3                          MultinomialNB()       tvec  0.840194   \n",
       "4                   KNeighborsClassifier()       cvec  0.680387   \n",
       "5                   KNeighborsClassifier()       tvec  0.765133   \n",
       "6  DecisionTreeClassifier(random_state=42)       cvec  0.782082   \n",
       "\n",
       "   misclassification  sensitivity  specificity  precision  f1_score   tn   tp  \\\n",
       "0           0.150121     0.813725     0.885167   0.873684  0.842640  185  166   \n",
       "1           0.142857     0.852941     0.861244   0.857143  0.855037  180  174   \n",
       "2           0.142857     0.897059     0.818182   0.828054  0.861176  171  183   \n",
       "3           0.159806     0.882353     0.799043   0.810811  0.845070  167  180   \n",
       "4           0.319613     0.490196     0.866029   0.781250  0.602410  181  100   \n",
       "5           0.234867     0.598039     0.928230   0.890511  0.715543  194  122   \n",
       "6           0.217918     0.725490     0.837321   0.813187  0.766839  175  148   \n",
       "\n",
       "    fn  fp                                            fn_list  \\\n",
       "0   38  24  [i was recently reminded of the pop o matic i ...   \n",
       "1   30  29  [it was carribean ship trading and battle base...   \n",
       "2   21  38  [for example do you only need the app for were...   \n",
       "3   24  42  [for example do you only need the app for were...   \n",
       "4  104  28  [it was hard to believe that there isn t any s...   \n",
       "5   82  15  [our first game with players we get to the rai...   \n",
       "6   56  34  [i was recently reminded of the pop o matic i ...   \n",
       "\n",
       "                                             fp_list  \n",
       "0  [hello i recently got a ps also connected the ...  \n",
       "1  [recently i started playing mobile games again...  \n",
       "2  [recently i started playing mobile games again...  \n",
       "3  [recently i started playing mobile games again...  \n",
       "4  [i don t know if this is the right place to as...  \n",
       "5  [recently i started playing mobile games again...  \n",
       "6  [recently i started playing mobile games again...  "
      ]
     },
     "execution_count": 86,
     "metadata": {},
     "output_type": "execute_result"
    }
   ],
   "source": [
    "df_results"
   ]
  },
  {
   "cell_type": "markdown",
   "id": "2e68afc1",
   "metadata": {},
   "source": [
    "### Observations: \n",
    "\n",
    "The decision tree model using a CountVectorizer achieved an accuracy of 80.39% as well as sensivity and specificity of 77.45% and 83.25% respectively. "
   ]
  },
  {
   "cell_type": "code",
   "execution_count": 87,
   "id": "de9fe051",
   "metadata": {},
   "outputs": [],
   "source": [
    "# use gini impurity to split\n",
    "# measure impurity of the node and calculated as (1 - gini)\n",
    "# Instantiate model with random_state = 42.\n",
    "# dt = DecisionTreeClassifier(random_state=42)\n",
    "pipe_dt_tvec = Pipeline([\n",
    "        ('tvec', TfidfVectorizer(stop_words=all_stopwords)), # transformer\n",
    "        ('dt', DecisionTreeClassifier(random_state=42)) # estimator\n",
    "])"
   ]
  },
  {
   "cell_type": "code",
   "execution_count": 88,
   "id": "4da76750",
   "metadata": {},
   "outputs": [],
   "source": [
    "pipe_dt_tvec_params = {\n",
    "    'dt__min_samples_split': [2], #[2, 3, 4] , # min. no of sample required to split, def:2\n",
    "    'dt__min_samples_leaf': [5], # [1, 3, 5, 7], # min. no. of samples required a leaf node, def:1\n",
    "    'tvec__ngram_range': [(1, 2)], #[(1, 2), (1, 3)],\n",
    "    'tvec__max_df': [0.9], #[0.9, 0.95, 0.98], # ignore words occur > specified value/% \n",
    "    'tvec__min_df': [0.01] #[0.01, 0.03, 0.05] # get words that occur > specified value/%\n",
    "}"
   ]
  },
  {
   "cell_type": "code",
   "execution_count": 89,
   "id": "d6df7bfe",
   "metadata": {},
   "outputs": [
    {
     "name": "stdout",
     "output_type": "stream",
     "text": [
      "CPU times: user 19 µs, sys: 0 ns, total: 19 µs\n",
      "Wall time: 21 µs\n"
     ]
    }
   ],
   "source": [
    "%%time\n",
    "pipe_dt_tvec_gridsearch = GridSearchCV(\n",
    "        pipe_dt_tvec, # What is the model we want to fit?\n",
    "        pipe_dt_tvec_params, # What is the dictionary of hyperparameters?\n",
    "        cv=5, # What number of folds in CV will we use?\n",
    "        verbose=1 # verbose=1 means print out everything\n",
    ") "
   ]
  },
  {
   "cell_type": "code",
   "execution_count": 90,
   "id": "f7e59f92",
   "metadata": {},
   "outputs": [
    {
     "name": "stdout",
     "output_type": "stream",
     "text": [
      "Fitting 5 folds for each of 1 candidates, totalling 5 fits\n",
      "CPU times: user 952 ms, sys: 4.01 ms, total: 956 ms\n",
      "Wall time: 955 ms\n"
     ]
    },
    {
     "data": {
      "text/plain": [
       "GridSearchCV(cv=5,\n",
       "             estimator=Pipeline(steps=[('tvec',\n",
       "                                        TfidfVectorizer(stop_words=['games',\n",
       "                                                                    'game',\n",
       "                                                                    'mobile',\n",
       "                                                                    'board',\n",
       "                                                                    'android',\n",
       "                                                                    'like',\n",
       "                                                                    'phone',\n",
       "                                                                    'card',\n",
       "                                                                    'cards',\n",
       "                                                                    'whom',\n",
       "                                                                    'moreover',\n",
       "                                                                    'whenever',\n",
       "                                                                    'everyone',\n",
       "                                                                    'hereupon',\n",
       "                                                                    'noone',\n",
       "                                                                    'somewhere',\n",
       "                                                                    'serious',\n",
       "                                                                    'you',\n",
       "                                                                    'latter',\n",
       "                                                                    'anyway',\n",
       "                                                                    'eight',\n",
       "                                                                    'were',\n",
       "                                                                    'who',\n",
       "                                                                    'fifty',\n",
       "                                                                    'get', 'a',\n",
       "                                                                    'thin',\n",
       "                                                                    'move',\n",
       "                                                                    'whereas',\n",
       "                                                                    'is', ...])),\n",
       "                                       ('dt',\n",
       "                                        DecisionTreeClassifier(random_state=42))]),\n",
       "             param_grid={'dt__min_samples_leaf': [5],\n",
       "                         'dt__min_samples_split': [2], 'tvec__max_df': [0.9],\n",
       "                         'tvec__min_df': [0.01],\n",
       "                         'tvec__ngram_range': [(1, 2)]},\n",
       "             verbose=1)"
      ]
     },
     "execution_count": 90,
     "metadata": {},
     "output_type": "execute_result"
    }
   ],
   "source": [
    "%%time\n",
    "# takes 3min\n",
    "# takes about 11min\n",
    "# Fit the GridSearchCV object to the data\n",
    "pipe_dt_tvec_gridsearch.fit(X_train, y_train)"
   ]
  },
  {
   "cell_type": "code",
   "execution_count": 91,
   "id": "482e2bca",
   "metadata": {},
   "outputs": [
    {
     "data": {
      "text/plain": [
       "0.7244726904301372"
      ]
     },
     "execution_count": 91,
     "metadata": {},
     "output_type": "execute_result"
    }
   ],
   "source": [
    "pipe_dt_tvec_gridsearch.best_score_"
   ]
  },
  {
   "cell_type": "code",
   "execution_count": 92,
   "id": "64e69dd9",
   "metadata": {},
   "outputs": [],
   "source": [
    "# pipe_dt_tvec_gridsearch.best_params_"
   ]
  },
  {
   "cell_type": "code",
   "execution_count": 93,
   "id": "a653cf45",
   "metadata": {},
   "outputs": [],
   "source": [
    "# pipe_dt_tvec_gridsearch.best_estimator_"
   ]
  },
  {
   "cell_type": "code",
   "execution_count": 94,
   "id": "2b62c883",
   "metadata": {},
   "outputs": [
    {
     "name": "stdout",
     "output_type": "stream",
     "text": [
      "Accuracy is 0.7312.\n",
      "Misclassification is 0.2688.\n",
      "Sensitivity is 0.7451.\n",
      "Specificity is 0.7177.\n",
      "F1_score is 0.7325.\n"
     ]
    },
    {
     "data": {
      "image/png": "[encoded data removed]",
      "text/plain": [
       "<Figure size 432x288 with 2 Axes>"
      ]
     },
     "metadata": {
      "needs_background": "light"
     },
     "output_type": "display_data"
    }
   ],
   "source": [
    "# df_results is used to save all the model metrics\n",
    "# initially, pass in empty dataframe, subsequently, pass in existing dataframe to concatenate the results\n",
    "df_results = compute_metrics(pipe_dt_tvec_gridsearch, X_test, y_test, df_results)"
   ]
  },
  {
   "cell_type": "code",
   "execution_count": 95,
   "id": "f6debe65",
   "metadata": {},
   "outputs": [
    {
     "data": {
      "text/html": [
       "<div>\n",
       "<style scoped>\n",
       "    .dataframe tbody tr th:only-of-type {\n",
       "        vertical-align: middle;\n",
       "    }\n",
       "\n",
       "    .dataframe tbody tr th {\n",
       "        vertical-align: top;\n",
       "    }\n",
       "\n",
       "    .dataframe thead th {\n",
       "        text-align: right;\n",
       "    }\n",
       "</style>\n",
       "<table border=\"1\" class=\"dataframe\">\n",
       "  <thead>\n",
       "    <tr style=\"text-align: right;\">\n",
       "      <th></th>\n",
       "      <th>model</th>\n",
       "      <th>vectorizer</th>\n",
       "      <th>accuracy</th>\n",
       "      <th>misclassification</th>\n",
       "      <th>sensitivity</th>\n",
       "      <th>specificity</th>\n",
       "      <th>precision</th>\n",
       "      <th>f1_score</th>\n",
       "      <th>tn</th>\n",
       "      <th>tp</th>\n",
       "      <th>fn</th>\n",
       "      <th>fp</th>\n",
       "      <th>fn_list</th>\n",
       "      <th>fp_list</th>\n",
       "    </tr>\n",
       "  </thead>\n",
       "  <tbody>\n",
       "    <tr>\n",
       "      <th>0</th>\n",
       "      <td>LogisticRegression()</td>\n",
       "      <td>cvec</td>\n",
       "      <td>0.849879</td>\n",
       "      <td>0.150121</td>\n",
       "      <td>0.813725</td>\n",
       "      <td>0.885167</td>\n",
       "      <td>0.873684</td>\n",
       "      <td>0.842640</td>\n",
       "      <td>185</td>\n",
       "      <td>166</td>\n",
       "      <td>38</td>\n",
       "      <td>24</td>\n",
       "      <td>[i was recently reminded of the pop o matic i ...</td>\n",
       "      <td>[hello i recently got a ps also connected the ...</td>\n",
       "    </tr>\n",
       "    <tr>\n",
       "      <th>1</th>\n",
       "      <td>LogisticRegression()</td>\n",
       "      <td>tvec</td>\n",
       "      <td>0.857143</td>\n",
       "      <td>0.142857</td>\n",
       "      <td>0.852941</td>\n",
       "      <td>0.861244</td>\n",
       "      <td>0.857143</td>\n",
       "      <td>0.855037</td>\n",
       "      <td>180</td>\n",
       "      <td>174</td>\n",
       "      <td>30</td>\n",
       "      <td>29</td>\n",
       "      <td>[it was carribean ship trading and battle base...</td>\n",
       "      <td>[recently i started playing mobile games again...</td>\n",
       "    </tr>\n",
       "    <tr>\n",
       "      <th>2</th>\n",
       "      <td>MultinomialNB()</td>\n",
       "      <td>cvec</td>\n",
       "      <td>0.857143</td>\n",
       "      <td>0.142857</td>\n",
       "      <td>0.897059</td>\n",
       "      <td>0.818182</td>\n",
       "      <td>0.828054</td>\n",
       "      <td>0.861176</td>\n",
       "      <td>171</td>\n",
       "      <td>183</td>\n",
       "      <td>21</td>\n",
       "      <td>38</td>\n",
       "      <td>[for example do you only need the app for were...</td>\n",
       "      <td>[recently i started playing mobile games again...</td>\n",
       "    </tr>\n",
       "    <tr>\n",
       "      <th>3</th>\n",
       "      <td>MultinomialNB()</td>\n",
       "      <td>tvec</td>\n",
       "      <td>0.840194</td>\n",
       "      <td>0.159806</td>\n",
       "      <td>0.882353</td>\n",
       "      <td>0.799043</td>\n",
       "      <td>0.810811</td>\n",
       "      <td>0.845070</td>\n",
       "      <td>167</td>\n",
       "      <td>180</td>\n",
       "      <td>24</td>\n",
       "      <td>42</td>\n",
       "      <td>[for example do you only need the app for were...</td>\n",
       "      <td>[recently i started playing mobile games again...</td>\n",
       "    </tr>\n",
       "    <tr>\n",
       "      <th>4</th>\n",
       "      <td>KNeighborsClassifier()</td>\n",
       "      <td>cvec</td>\n",
       "      <td>0.680387</td>\n",
       "      <td>0.319613</td>\n",
       "      <td>0.490196</td>\n",
       "      <td>0.866029</td>\n",
       "      <td>0.781250</td>\n",
       "      <td>0.602410</td>\n",
       "      <td>181</td>\n",
       "      <td>100</td>\n",
       "      <td>104</td>\n",
       "      <td>28</td>\n",
       "      <td>[it was hard to believe that there isn t any s...</td>\n",
       "      <td>[i don t know if this is the right place to as...</td>\n",
       "    </tr>\n",
       "    <tr>\n",
       "      <th>5</th>\n",
       "      <td>KNeighborsClassifier()</td>\n",
       "      <td>tvec</td>\n",
       "      <td>0.765133</td>\n",
       "      <td>0.234867</td>\n",
       "      <td>0.598039</td>\n",
       "      <td>0.928230</td>\n",
       "      <td>0.890511</td>\n",
       "      <td>0.715543</td>\n",
       "      <td>194</td>\n",
       "      <td>122</td>\n",
       "      <td>82</td>\n",
       "      <td>15</td>\n",
       "      <td>[our first game with players we get to the rai...</td>\n",
       "      <td>[recently i started playing mobile games again...</td>\n",
       "    </tr>\n",
       "    <tr>\n",
       "      <th>6</th>\n",
       "      <td>DecisionTreeClassifier(random_state=42)</td>\n",
       "      <td>cvec</td>\n",
       "      <td>0.782082</td>\n",
       "      <td>0.217918</td>\n",
       "      <td>0.725490</td>\n",
       "      <td>0.837321</td>\n",
       "      <td>0.813187</td>\n",
       "      <td>0.766839</td>\n",
       "      <td>175</td>\n",
       "      <td>148</td>\n",
       "      <td>56</td>\n",
       "      <td>34</td>\n",
       "      <td>[i was recently reminded of the pop o matic i ...</td>\n",
       "      <td>[recently i started playing mobile games again...</td>\n",
       "    </tr>\n",
       "    <tr>\n",
       "      <th>7</th>\n",
       "      <td>DecisionTreeClassifier(random_state=42)</td>\n",
       "      <td>tvec</td>\n",
       "      <td>0.731235</td>\n",
       "      <td>0.268765</td>\n",
       "      <td>0.745098</td>\n",
       "      <td>0.717703</td>\n",
       "      <td>0.720379</td>\n",
       "      <td>0.732530</td>\n",
       "      <td>150</td>\n",
       "      <td>152</td>\n",
       "      <td>52</td>\n",
       "      <td>59</td>\n",
       "      <td>[our first game with players we get to the rai...</td>\n",
       "      <td>[i don t know if this is the right place to as...</td>\n",
       "    </tr>\n",
       "  </tbody>\n",
       "</table>\n",
       "</div>"
      ],
      "text/plain": [
       "                                     model vectorizer  accuracy  \\\n",
       "0                     LogisticRegression()       cvec  0.849879   \n",
       "1                     LogisticRegression()       tvec  0.857143   \n",
       "2                          MultinomialNB()       cvec  0.857143   \n",
       "3                          MultinomialNB()       tvec  0.840194   \n",
       "4                   KNeighborsClassifier()       cvec  0.680387   \n",
       "5                   KNeighborsClassifier()       tvec  0.765133   \n",
       "6  DecisionTreeClassifier(random_state=42)       cvec  0.782082   \n",
       "7  DecisionTreeClassifier(random_state=42)       tvec  0.731235   \n",
       "\n",
       "   misclassification  sensitivity  specificity  precision  f1_score   tn   tp  \\\n",
       "0           0.150121     0.813725     0.885167   0.873684  0.842640  185  166   \n",
       "1           0.142857     0.852941     0.861244   0.857143  0.855037  180  174   \n",
       "2           0.142857     0.897059     0.818182   0.828054  0.861176  171  183   \n",
       "3           0.159806     0.882353     0.799043   0.810811  0.845070  167  180   \n",
       "4           0.319613     0.490196     0.866029   0.781250  0.602410  181  100   \n",
       "5           0.234867     0.598039     0.928230   0.890511  0.715543  194  122   \n",
       "6           0.217918     0.725490     0.837321   0.813187  0.766839  175  148   \n",
       "7           0.268765     0.745098     0.717703   0.720379  0.732530  150  152   \n",
       "\n",
       "    fn  fp                                            fn_list  \\\n",
       "0   38  24  [i was recently reminded of the pop o matic i ...   \n",
       "1   30  29  [it was carribean ship trading and battle base...   \n",
       "2   21  38  [for example do you only need the app for were...   \n",
       "3   24  42  [for example do you only need the app for were...   \n",
       "4  104  28  [it was hard to believe that there isn t any s...   \n",
       "5   82  15  [our first game with players we get to the rai...   \n",
       "6   56  34  [i was recently reminded of the pop o matic i ...   \n",
       "7   52  59  [our first game with players we get to the rai...   \n",
       "\n",
       "                                             fp_list  \n",
       "0  [hello i recently got a ps also connected the ...  \n",
       "1  [recently i started playing mobile games again...  \n",
       "2  [recently i started playing mobile games again...  \n",
       "3  [recently i started playing mobile games again...  \n",
       "4  [i don t know if this is the right place to as...  \n",
       "5  [recently i started playing mobile games again...  \n",
       "6  [recently i started playing mobile games again...  \n",
       "7  [i don t know if this is the right place to as...  "
      ]
     },
     "execution_count": 95,
     "metadata": {},
     "output_type": "execute_result"
    }
   ],
   "source": [
    "df_results"
   ]
  },
  {
   "cell_type": "markdown",
   "id": "e5c11cf9",
   "metadata": {},
   "source": [
    "### Observations: \n",
    "\n",
    "The decision tree model using a TfidfVectorizer achieved an accuracy of 79.9% as well as sensivity and specificity of 75.98% and 83.73% respectively. "
   ]
  },
  {
   "cell_type": "code",
   "execution_count": 96,
   "id": "c03864d2",
   "metadata": {},
   "outputs": [
    {
     "data": {
      "image/png": "[encoded data removed]",
      "text/plain": [
       "<Figure size 1296x720 with 2 Axes>"
      ]
     },
     "metadata": {
      "needs_background": "light"
     },
     "output_type": "display_data"
    }
   ],
   "source": [
    "plot_top_features_tree([pipe_dt_cvec_gridsearch, pipe_dt_tvec_gridsearch], ['cvec', 'tvec'], 'dt', 10)"
   ]
  },
  {
   "cell_type": "markdown",
   "id": "092f20b3",
   "metadata": {},
   "source": [
    "### Observations: \n",
    "\n",
    "From the 2 barcharts above, it can be observed that the top 10 features that are important in correctly classifying the 2 subrreddit groups. The higher the score of the features, the more important these features are to correctly classify the 2 groups. However, one limitation is that we do not know which features/words are associated with which subreddit group."
   ]
  },
  {
   "cell_type": "markdown",
   "id": "203c4f7b",
   "metadata": {},
   "source": [
    "### Boostrap Aggregating (Bagging)"
   ]
  },
  {
   "cell_type": "code",
   "execution_count": 97,
   "id": "90a3ba30",
   "metadata": {},
   "outputs": [],
   "source": [
    "pipe_bag_cvec = Pipeline([\n",
    "    ('cvec', CountVectorizer(stop_words=all_stopwords)),\n",
    "    ('bag', BaggingClassifier(base_estimator=DecisionTreeClassifier(),\n",
    "                              random_state=42,\n",
    "                              n_jobs=-1))\n",
    "])"
   ]
  },
  {
   "cell_type": "code",
   "execution_count": 98,
   "id": "00c06da4",
   "metadata": {},
   "outputs": [],
   "source": [
    "pipe_bag_cvec_params = {\n",
    "    'bag__n_estimators': [500], #[500, 1000, 1500],\n",
    "    'cvec__ngram_range': [(1, 3)], #[(1, 2), (1, 3)],\n",
    "    'cvec__max_df': [0.9], #[0.9, 0.95, 0.98], # ignore words occur > specified value/% \n",
    "    'cvec__min_df': [0.01] #[0.01, 0.03, 0.05] # get words that occur > specified value/%\n",
    "}"
   ]
  },
  {
   "cell_type": "code",
   "execution_count": 99,
   "id": "e630925d",
   "metadata": {},
   "outputs": [
    {
     "name": "stdout",
     "output_type": "stream",
     "text": [
      "CPU times: user 18 µs, sys: 0 ns, total: 18 µs\n",
      "Wall time: 19.1 µs\n"
     ]
    }
   ],
   "source": [
    "%%time\n",
    "pipe_bag_cvec_gridsearch = GridSearchCV(\n",
    "        pipe_bag_cvec, # What is the model we want to fit?\n",
    "        pipe_bag_cvec_params, # What is the dictionary of hyperparameters?\n",
    "        cv=5, # What number of folds in CV will we use?\n",
    "        verbose=1 # verbose=1 means print out everything\n",
    ") "
   ]
  },
  {
   "cell_type": "code",
   "execution_count": 100,
   "id": "7fa81e52",
   "metadata": {},
   "outputs": [
    {
     "name": "stdout",
     "output_type": "stream",
     "text": [
      "Fitting 5 folds for each of 1 candidates, totalling 5 fits\n",
      "CPU times: user 1.66 s, sys: 256 ms, total: 1.92 s\n",
      "Wall time: 17.3 s\n"
     ]
    },
    {
     "data": {
      "text/plain": [
       "GridSearchCV(cv=5,\n",
       "             estimator=Pipeline(steps=[('cvec',\n",
       "                                        CountVectorizer(stop_words=['games',\n",
       "                                                                    'game',\n",
       "                                                                    'mobile',\n",
       "                                                                    'board',\n",
       "                                                                    'android',\n",
       "                                                                    'like',\n",
       "                                                                    'phone',\n",
       "                                                                    'card',\n",
       "                                                                    'cards',\n",
       "                                                                    'whom',\n",
       "                                                                    'moreover',\n",
       "                                                                    'whenever',\n",
       "                                                                    'everyone',\n",
       "                                                                    'hereupon',\n",
       "                                                                    'noone',\n",
       "                                                                    'somewhere',\n",
       "                                                                    'serious',\n",
       "                                                                    'you',\n",
       "                                                                    'latter',\n",
       "                                                                    'anyway',\n",
       "                                                                    'eight',\n",
       "                                                                    'were',\n",
       "                                                                    'who',\n",
       "                                                                    'fifty',\n",
       "                                                                    'get', 'a',\n",
       "                                                                    'thin',\n",
       "                                                                    'move',\n",
       "                                                                    'whereas',\n",
       "                                                                    'is', ...])),\n",
       "                                       ('bag',\n",
       "                                        BaggingClassifier(base_estimator=DecisionTreeClassifier(),\n",
       "                                                          n_jobs=-1,\n",
       "                                                          random_state=42))]),\n",
       "             param_grid={'bag__n_estimators': [500], 'cvec__max_df': [0.9],\n",
       "                         'cvec__min_df': [0.01],\n",
       "                         'cvec__ngram_range': [(1, 3)]},\n",
       "             verbose=1)"
      ]
     },
     "execution_count": 100,
     "metadata": {},
     "output_type": "execute_result"
    }
   ],
   "source": [
    "%%time\n",
    "# take about 13min\n",
    "# Fit the GridSearchCV object to the data\n",
    "# if there is no key/value associated with knn, error\n",
    "# need to pass in the scaled train data\n",
    "pipe_bag_cvec_gridsearch.fit(X_train, y_train)"
   ]
  },
  {
   "cell_type": "code",
   "execution_count": 101,
   "id": "d6975c7f",
   "metadata": {},
   "outputs": [
    {
     "data": {
      "text/plain": [
       "0.8282914248871697"
      ]
     },
     "execution_count": 101,
     "metadata": {},
     "output_type": "execute_result"
    }
   ],
   "source": [
    "pipe_bag_cvec_gridsearch.best_score_"
   ]
  },
  {
   "cell_type": "code",
   "execution_count": 102,
   "id": "b5121d98",
   "metadata": {},
   "outputs": [],
   "source": [
    "# pipe_bag_cvec_gridsearch.best_params_"
   ]
  },
  {
   "cell_type": "code",
   "execution_count": 103,
   "id": "33c46bf0",
   "metadata": {},
   "outputs": [],
   "source": [
    "# pipe_bag_cvec_gridsearch.best_estimator_"
   ]
  },
  {
   "cell_type": "code",
   "execution_count": 104,
   "id": "d57c36e3",
   "metadata": {},
   "outputs": [
    {
     "name": "stdout",
     "output_type": "stream",
     "text": [
      "Accuracy is 0.799.\n",
      "Misclassification is 0.201.\n",
      "Sensitivity is 0.7794.\n",
      "Specificity is 0.8182.\n",
      "F1_score is 0.793.\n"
     ]
    },
    {
     "data": {
      "image/png": "[encoded data removed]",
      "text/plain": [
       "<Figure size 432x288 with 2 Axes>"
      ]
     },
     "metadata": {
      "needs_background": "light"
     },
     "output_type": "display_data"
    }
   ],
   "source": [
    "# df_results is used to save all the model metrics\n",
    "# initially, pass in empty dataframe, subsequently, pass in existing dataframe to concatenate the results\n",
    "df_results = compute_metrics(pipe_bag_cvec_gridsearch, X_test, y_test, df_results)"
   ]
  },
  {
   "cell_type": "code",
   "execution_count": 105,
   "id": "32328eb6",
   "metadata": {},
   "outputs": [
    {
     "data": {
      "text/html": [
       "<div>\n",
       "<style scoped>\n",
       "    .dataframe tbody tr th:only-of-type {\n",
       "        vertical-align: middle;\n",
       "    }\n",
       "\n",
       "    .dataframe tbody tr th {\n",
       "        vertical-align: top;\n",
       "    }\n",
       "\n",
       "    .dataframe thead th {\n",
       "        text-align: right;\n",
       "    }\n",
       "</style>\n",
       "<table border=\"1\" class=\"dataframe\">\n",
       "  <thead>\n",
       "    <tr style=\"text-align: right;\">\n",
       "      <th></th>\n",
       "      <th>model</th>\n",
       "      <th>vectorizer</th>\n",
       "      <th>accuracy</th>\n",
       "      <th>misclassification</th>\n",
       "      <th>sensitivity</th>\n",
       "      <th>specificity</th>\n",
       "      <th>precision</th>\n",
       "      <th>f1_score</th>\n",
       "      <th>tn</th>\n",
       "      <th>tp</th>\n",
       "      <th>fn</th>\n",
       "      <th>fp</th>\n",
       "      <th>fn_list</th>\n",
       "      <th>fp_list</th>\n",
       "    </tr>\n",
       "  </thead>\n",
       "  <tbody>\n",
       "    <tr>\n",
       "      <th>0</th>\n",
       "      <td>LogisticRegression()</td>\n",
       "      <td>cvec</td>\n",
       "      <td>0.849879</td>\n",
       "      <td>0.150121</td>\n",
       "      <td>0.813725</td>\n",
       "      <td>0.885167</td>\n",
       "      <td>0.873684</td>\n",
       "      <td>0.842640</td>\n",
       "      <td>185</td>\n",
       "      <td>166</td>\n",
       "      <td>38</td>\n",
       "      <td>24</td>\n",
       "      <td>[i was recently reminded of the pop o matic i ...</td>\n",
       "      <td>[hello i recently got a ps also connected the ...</td>\n",
       "    </tr>\n",
       "    <tr>\n",
       "      <th>1</th>\n",
       "      <td>LogisticRegression()</td>\n",
       "      <td>tvec</td>\n",
       "      <td>0.857143</td>\n",
       "      <td>0.142857</td>\n",
       "      <td>0.852941</td>\n",
       "      <td>0.861244</td>\n",
       "      <td>0.857143</td>\n",
       "      <td>0.855037</td>\n",
       "      <td>180</td>\n",
       "      <td>174</td>\n",
       "      <td>30</td>\n",
       "      <td>29</td>\n",
       "      <td>[it was carribean ship trading and battle base...</td>\n",
       "      <td>[recently i started playing mobile games again...</td>\n",
       "    </tr>\n",
       "    <tr>\n",
       "      <th>2</th>\n",
       "      <td>MultinomialNB()</td>\n",
       "      <td>cvec</td>\n",
       "      <td>0.857143</td>\n",
       "      <td>0.142857</td>\n",
       "      <td>0.897059</td>\n",
       "      <td>0.818182</td>\n",
       "      <td>0.828054</td>\n",
       "      <td>0.861176</td>\n",
       "      <td>171</td>\n",
       "      <td>183</td>\n",
       "      <td>21</td>\n",
       "      <td>38</td>\n",
       "      <td>[for example do you only need the app for were...</td>\n",
       "      <td>[recently i started playing mobile games again...</td>\n",
       "    </tr>\n",
       "    <tr>\n",
       "      <th>3</th>\n",
       "      <td>MultinomialNB()</td>\n",
       "      <td>tvec</td>\n",
       "      <td>0.840194</td>\n",
       "      <td>0.159806</td>\n",
       "      <td>0.882353</td>\n",
       "      <td>0.799043</td>\n",
       "      <td>0.810811</td>\n",
       "      <td>0.845070</td>\n",
       "      <td>167</td>\n",
       "      <td>180</td>\n",
       "      <td>24</td>\n",
       "      <td>42</td>\n",
       "      <td>[for example do you only need the app for were...</td>\n",
       "      <td>[recently i started playing mobile games again...</td>\n",
       "    </tr>\n",
       "    <tr>\n",
       "      <th>4</th>\n",
       "      <td>KNeighborsClassifier()</td>\n",
       "      <td>cvec</td>\n",
       "      <td>0.680387</td>\n",
       "      <td>0.319613</td>\n",
       "      <td>0.490196</td>\n",
       "      <td>0.866029</td>\n",
       "      <td>0.781250</td>\n",
       "      <td>0.602410</td>\n",
       "      <td>181</td>\n",
       "      <td>100</td>\n",
       "      <td>104</td>\n",
       "      <td>28</td>\n",
       "      <td>[it was hard to believe that there isn t any s...</td>\n",
       "      <td>[i don t know if this is the right place to as...</td>\n",
       "    </tr>\n",
       "    <tr>\n",
       "      <th>5</th>\n",
       "      <td>KNeighborsClassifier()</td>\n",
       "      <td>tvec</td>\n",
       "      <td>0.765133</td>\n",
       "      <td>0.234867</td>\n",
       "      <td>0.598039</td>\n",
       "      <td>0.928230</td>\n",
       "      <td>0.890511</td>\n",
       "      <td>0.715543</td>\n",
       "      <td>194</td>\n",
       "      <td>122</td>\n",
       "      <td>82</td>\n",
       "      <td>15</td>\n",
       "      <td>[our first game with players we get to the rai...</td>\n",
       "      <td>[recently i started playing mobile games again...</td>\n",
       "    </tr>\n",
       "    <tr>\n",
       "      <th>6</th>\n",
       "      <td>DecisionTreeClassifier(random_state=42)</td>\n",
       "      <td>cvec</td>\n",
       "      <td>0.782082</td>\n",
       "      <td>0.217918</td>\n",
       "      <td>0.725490</td>\n",
       "      <td>0.837321</td>\n",
       "      <td>0.813187</td>\n",
       "      <td>0.766839</td>\n",
       "      <td>175</td>\n",
       "      <td>148</td>\n",
       "      <td>56</td>\n",
       "      <td>34</td>\n",
       "      <td>[i was recently reminded of the pop o matic i ...</td>\n",
       "      <td>[recently i started playing mobile games again...</td>\n",
       "    </tr>\n",
       "    <tr>\n",
       "      <th>7</th>\n",
       "      <td>DecisionTreeClassifier(random_state=42)</td>\n",
       "      <td>tvec</td>\n",
       "      <td>0.731235</td>\n",
       "      <td>0.268765</td>\n",
       "      <td>0.745098</td>\n",
       "      <td>0.717703</td>\n",
       "      <td>0.720379</td>\n",
       "      <td>0.732530</td>\n",
       "      <td>150</td>\n",
       "      <td>152</td>\n",
       "      <td>52</td>\n",
       "      <td>59</td>\n",
       "      <td>[our first game with players we get to the rai...</td>\n",
       "      <td>[i don t know if this is the right place to as...</td>\n",
       "    </tr>\n",
       "    <tr>\n",
       "      <th>8</th>\n",
       "      <td>BaggingClassifier(base_estimator=DecisionTreeC...</td>\n",
       "      <td>cvec</td>\n",
       "      <td>0.799031</td>\n",
       "      <td>0.200969</td>\n",
       "      <td>0.779412</td>\n",
       "      <td>0.818182</td>\n",
       "      <td>0.807107</td>\n",
       "      <td>0.793017</td>\n",
       "      <td>171</td>\n",
       "      <td>159</td>\n",
       "      <td>45</td>\n",
       "      <td>38</td>\n",
       "      <td>[pleasegimme ur best print n play games, for e...</td>\n",
       "      <td>[i don t know if this is the right place to as...</td>\n",
       "    </tr>\n",
       "  </tbody>\n",
       "</table>\n",
       "</div>"
      ],
      "text/plain": [
       "                                               model vectorizer  accuracy  \\\n",
       "0                               LogisticRegression()       cvec  0.849879   \n",
       "1                               LogisticRegression()       tvec  0.857143   \n",
       "2                                    MultinomialNB()       cvec  0.857143   \n",
       "3                                    MultinomialNB()       tvec  0.840194   \n",
       "4                             KNeighborsClassifier()       cvec  0.680387   \n",
       "5                             KNeighborsClassifier()       tvec  0.765133   \n",
       "6            DecisionTreeClassifier(random_state=42)       cvec  0.782082   \n",
       "7            DecisionTreeClassifier(random_state=42)       tvec  0.731235   \n",
       "8  BaggingClassifier(base_estimator=DecisionTreeC...       cvec  0.799031   \n",
       "\n",
       "   misclassification  sensitivity  specificity  precision  f1_score   tn   tp  \\\n",
       "0           0.150121     0.813725     0.885167   0.873684  0.842640  185  166   \n",
       "1           0.142857     0.852941     0.861244   0.857143  0.855037  180  174   \n",
       "2           0.142857     0.897059     0.818182   0.828054  0.861176  171  183   \n",
       "3           0.159806     0.882353     0.799043   0.810811  0.845070  167  180   \n",
       "4           0.319613     0.490196     0.866029   0.781250  0.602410  181  100   \n",
       "5           0.234867     0.598039     0.928230   0.890511  0.715543  194  122   \n",
       "6           0.217918     0.725490     0.837321   0.813187  0.766839  175  148   \n",
       "7           0.268765     0.745098     0.717703   0.720379  0.732530  150  152   \n",
       "8           0.200969     0.779412     0.818182   0.807107  0.793017  171  159   \n",
       "\n",
       "    fn  fp                                            fn_list  \\\n",
       "0   38  24  [i was recently reminded of the pop o matic i ...   \n",
       "1   30  29  [it was carribean ship trading and battle base...   \n",
       "2   21  38  [for example do you only need the app for were...   \n",
       "3   24  42  [for example do you only need the app for were...   \n",
       "4  104  28  [it was hard to believe that there isn t any s...   \n",
       "5   82  15  [our first game with players we get to the rai...   \n",
       "6   56  34  [i was recently reminded of the pop o matic i ...   \n",
       "7   52  59  [our first game with players we get to the rai...   \n",
       "8   45  38  [pleasegimme ur best print n play games, for e...   \n",
       "\n",
       "                                             fp_list  \n",
       "0  [hello i recently got a ps also connected the ...  \n",
       "1  [recently i started playing mobile games again...  \n",
       "2  [recently i started playing mobile games again...  \n",
       "3  [recently i started playing mobile games again...  \n",
       "4  [i don t know if this is the right place to as...  \n",
       "5  [recently i started playing mobile games again...  \n",
       "6  [recently i started playing mobile games again...  \n",
       "7  [i don t know if this is the right place to as...  \n",
       "8  [i don t know if this is the right place to as...  "
      ]
     },
     "execution_count": 105,
     "metadata": {},
     "output_type": "execute_result"
    }
   ],
   "source": [
    "df_results"
   ]
  },
  {
   "cell_type": "markdown",
   "id": "e21ee966",
   "metadata": {},
   "source": [
    "### Observations: \n",
    "\n",
    "Bagging is an ensemble model which combines several decision trees to produce better predictive performance than utilizing a single decision tree. The Bagging model using a CountVectorizer achieved an accuracy of 83.29% as well as sensivity and specificity of 79.9% and 86.6% respectively."
   ]
  },
  {
   "cell_type": "code",
   "execution_count": 106,
   "id": "637b03f7",
   "metadata": {},
   "outputs": [],
   "source": [
    "pipe_bag_tvec = Pipeline([\n",
    "    ('tvec', TfidfVectorizer(stop_words=all_stopwords)),\n",
    "    ('bag', BaggingClassifier(base_estimator=DecisionTreeClassifier(),\n",
    "                              random_state=42,\n",
    "                              n_jobs=-1))\n",
    "])"
   ]
  },
  {
   "cell_type": "code",
   "execution_count": 107,
   "id": "c2e32392",
   "metadata": {},
   "outputs": [],
   "source": [
    "pipe_bag_tvec_params = {\n",
    "    'bag__n_estimators': [1000], #[500, 1000, 1500],\n",
    "    'tvec__ngram_range': [(1, 3)], #[(1, 2), (1, 3)],\n",
    "    'tvec__max_df': [0.9], #[0.9, 0.95, 0.98], # ignore words occur > specified value/% \n",
    "    'tvec__min_df': [0.01] #[0.01, 0.03, 0.05] # get words that occur > specified value/%\n",
    "}"
   ]
  },
  {
   "cell_type": "code",
   "execution_count": 108,
   "id": "ec8fa62c",
   "metadata": {},
   "outputs": [
    {
     "name": "stdout",
     "output_type": "stream",
     "text": [
      "CPU times: user 19 µs, sys: 2 µs, total: 21 µs\n",
      "Wall time: 22.9 µs\n"
     ]
    }
   ],
   "source": [
    "%%time\n",
    "pipe_bag_tvec_gridsearch = GridSearchCV(\n",
    "        pipe_bag_tvec, # What is the model we want to fit?\n",
    "        pipe_bag_tvec_params, # What is the dictionary of hyperparameters?\n",
    "        cv=5, # What number of folds in CV will we use?\n",
    "        verbose=1 # verbose=1 means print out everything\n",
    ") "
   ]
  },
  {
   "cell_type": "code",
   "execution_count": 109,
   "id": "50b79cf1",
   "metadata": {},
   "outputs": [
    {
     "name": "stdout",
     "output_type": "stream",
     "text": [
      "Fitting 5 folds for each of 1 candidates, totalling 5 fits\n",
      "CPU times: user 2.15 s, sys: 275 ms, total: 2.43 s\n",
      "Wall time: 43.7 s\n"
     ]
    },
    {
     "data": {
      "text/plain": [
       "GridSearchCV(cv=5,\n",
       "             estimator=Pipeline(steps=[('tvec',\n",
       "                                        TfidfVectorizer(stop_words=['games',\n",
       "                                                                    'game',\n",
       "                                                                    'mobile',\n",
       "                                                                    'board',\n",
       "                                                                    'android',\n",
       "                                                                    'like',\n",
       "                                                                    'phone',\n",
       "                                                                    'card',\n",
       "                                                                    'cards',\n",
       "                                                                    'whom',\n",
       "                                                                    'moreover',\n",
       "                                                                    'whenever',\n",
       "                                                                    'everyone',\n",
       "                                                                    'hereupon',\n",
       "                                                                    'noone',\n",
       "                                                                    'somewhere',\n",
       "                                                                    'serious',\n",
       "                                                                    'you',\n",
       "                                                                    'latter',\n",
       "                                                                    'anyway',\n",
       "                                                                    'eight',\n",
       "                                                                    'were',\n",
       "                                                                    'who',\n",
       "                                                                    'fifty',\n",
       "                                                                    'get', 'a',\n",
       "                                                                    'thin',\n",
       "                                                                    'move',\n",
       "                                                                    'whereas',\n",
       "                                                                    'is', ...])),\n",
       "                                       ('bag',\n",
       "                                        BaggingClassifier(base_estimator=DecisionTreeClassifier(),\n",
       "                                                          n_jobs=-1,\n",
       "                                                          random_state=42))]),\n",
       "             param_grid={'bag__n_estimators': [1000], 'tvec__max_df': [0.9],\n",
       "                         'tvec__min_df': [0.01],\n",
       "                         'tvec__ngram_range': [(1, 3)]},\n",
       "             verbose=1)"
      ]
     },
     "execution_count": 109,
     "metadata": {},
     "output_type": "execute_result"
    }
   ],
   "source": [
    "%%time\n",
    "# takes about 20min\n",
    "# Fit the GridSearchCV object to the data\n",
    "# if there is no key/value associated with knn, error\n",
    "# need to pass in the scaled train data\n",
    "pipe_bag_tvec_gridsearch.fit(X_train, y_train)"
   ]
  },
  {
   "cell_type": "code",
   "execution_count": 110,
   "id": "47aef351",
   "metadata": {},
   "outputs": [
    {
     "data": {
      "text/plain": [
       "0.8191655153357281"
      ]
     },
     "execution_count": 110,
     "metadata": {},
     "output_type": "execute_result"
    }
   ],
   "source": [
    "pipe_bag_tvec_gridsearch.best_score_"
   ]
  },
  {
   "cell_type": "code",
   "execution_count": 111,
   "id": "ab2c5f61",
   "metadata": {},
   "outputs": [],
   "source": [
    "# pipe_bag_tvec_gridsearch.best_params_"
   ]
  },
  {
   "cell_type": "code",
   "execution_count": 112,
   "id": "24c25a91",
   "metadata": {},
   "outputs": [],
   "source": [
    "# pipe_bag_tvec_gridsearcbest_estimator_mator_timator_"
   ]
  },
  {
   "cell_type": "code",
   "execution_count": 113,
   "id": "cf2b33a1",
   "metadata": {},
   "outputs": [
    {
     "name": "stdout",
     "output_type": "stream",
     "text": [
      "Accuracy is 0.8257.\n",
      "Misclassification is 0.1743.\n",
      "Sensitivity is 0.7696.\n",
      "Specificity is 0.8804.\n",
      "F1_score is 0.8135.\n"
     ]
    },
    {
     "data": {
      "image/png": "[encoded data removed]",
      "text/plain": [
       "<Figure size 432x288 with 2 Axes>"
      ]
     },
     "metadata": {
      "needs_background": "light"
     },
     "output_type": "display_data"
    }
   ],
   "source": [
    "# df_results is used to save all the model metrics\n",
    "# initially, pass in empty dataframe, subsequently, pass in existing dataframe to concatenate the results\n",
    "df_results = compute_metrics(pipe_bag_tvec_gridsearch, X_test, y_test, df_results)"
   ]
  },
  {
   "cell_type": "code",
   "execution_count": 114,
   "id": "fac4c090",
   "metadata": {},
   "outputs": [
    {
     "data": {
      "text/html": [
       "<div>\n",
       "<style scoped>\n",
       "    .dataframe tbody tr th:only-of-type {\n",
       "        vertical-align: middle;\n",
       "    }\n",
       "\n",
       "    .dataframe tbody tr th {\n",
       "        vertical-align: top;\n",
       "    }\n",
       "\n",
       "    .dataframe thead th {\n",
       "        text-align: right;\n",
       "    }\n",
       "</style>\n",
       "<table border=\"1\" class=\"dataframe\">\n",
       "  <thead>\n",
       "    <tr style=\"text-align: right;\">\n",
       "      <th></th>\n",
       "      <th>model</th>\n",
       "      <th>vectorizer</th>\n",
       "      <th>accuracy</th>\n",
       "      <th>misclassification</th>\n",
       "      <th>sensitivity</th>\n",
       "      <th>specificity</th>\n",
       "      <th>precision</th>\n",
       "      <th>f1_score</th>\n",
       "      <th>tn</th>\n",
       "      <th>tp</th>\n",
       "      <th>fn</th>\n",
       "      <th>fp</th>\n",
       "      <th>fn_list</th>\n",
       "      <th>fp_list</th>\n",
       "    </tr>\n",
       "  </thead>\n",
       "  <tbody>\n",
       "    <tr>\n",
       "      <th>0</th>\n",
       "      <td>LogisticRegression()</td>\n",
       "      <td>cvec</td>\n",
       "      <td>0.849879</td>\n",
       "      <td>0.150121</td>\n",
       "      <td>0.813725</td>\n",
       "      <td>0.885167</td>\n",
       "      <td>0.873684</td>\n",
       "      <td>0.842640</td>\n",
       "      <td>185</td>\n",
       "      <td>166</td>\n",
       "      <td>38</td>\n",
       "      <td>24</td>\n",
       "      <td>[i was recently reminded of the pop o matic i ...</td>\n",
       "      <td>[hello i recently got a ps also connected the ...</td>\n",
       "    </tr>\n",
       "    <tr>\n",
       "      <th>1</th>\n",
       "      <td>LogisticRegression()</td>\n",
       "      <td>tvec</td>\n",
       "      <td>0.857143</td>\n",
       "      <td>0.142857</td>\n",
       "      <td>0.852941</td>\n",
       "      <td>0.861244</td>\n",
       "      <td>0.857143</td>\n",
       "      <td>0.855037</td>\n",
       "      <td>180</td>\n",
       "      <td>174</td>\n",
       "      <td>30</td>\n",
       "      <td>29</td>\n",
       "      <td>[it was carribean ship trading and battle base...</td>\n",
       "      <td>[recently i started playing mobile games again...</td>\n",
       "    </tr>\n",
       "    <tr>\n",
       "      <th>2</th>\n",
       "      <td>MultinomialNB()</td>\n",
       "      <td>cvec</td>\n",
       "      <td>0.857143</td>\n",
       "      <td>0.142857</td>\n",
       "      <td>0.897059</td>\n",
       "      <td>0.818182</td>\n",
       "      <td>0.828054</td>\n",
       "      <td>0.861176</td>\n",
       "      <td>171</td>\n",
       "      <td>183</td>\n",
       "      <td>21</td>\n",
       "      <td>38</td>\n",
       "      <td>[for example do you only need the app for were...</td>\n",
       "      <td>[recently i started playing mobile games again...</td>\n",
       "    </tr>\n",
       "    <tr>\n",
       "      <th>3</th>\n",
       "      <td>MultinomialNB()</td>\n",
       "      <td>tvec</td>\n",
       "      <td>0.840194</td>\n",
       "      <td>0.159806</td>\n",
       "      <td>0.882353</td>\n",
       "      <td>0.799043</td>\n",
       "      <td>0.810811</td>\n",
       "      <td>0.845070</td>\n",
       "      <td>167</td>\n",
       "      <td>180</td>\n",
       "      <td>24</td>\n",
       "      <td>42</td>\n",
       "      <td>[for example do you only need the app for were...</td>\n",
       "      <td>[recently i started playing mobile games again...</td>\n",
       "    </tr>\n",
       "    <tr>\n",
       "      <th>4</th>\n",
       "      <td>KNeighborsClassifier()</td>\n",
       "      <td>cvec</td>\n",
       "      <td>0.680387</td>\n",
       "      <td>0.319613</td>\n",
       "      <td>0.490196</td>\n",
       "      <td>0.866029</td>\n",
       "      <td>0.781250</td>\n",
       "      <td>0.602410</td>\n",
       "      <td>181</td>\n",
       "      <td>100</td>\n",
       "      <td>104</td>\n",
       "      <td>28</td>\n",
       "      <td>[it was hard to believe that there isn t any s...</td>\n",
       "      <td>[i don t know if this is the right place to as...</td>\n",
       "    </tr>\n",
       "    <tr>\n",
       "      <th>5</th>\n",
       "      <td>KNeighborsClassifier()</td>\n",
       "      <td>tvec</td>\n",
       "      <td>0.765133</td>\n",
       "      <td>0.234867</td>\n",
       "      <td>0.598039</td>\n",
       "      <td>0.928230</td>\n",
       "      <td>0.890511</td>\n",
       "      <td>0.715543</td>\n",
       "      <td>194</td>\n",
       "      <td>122</td>\n",
       "      <td>82</td>\n",
       "      <td>15</td>\n",
       "      <td>[our first game with players we get to the rai...</td>\n",
       "      <td>[recently i started playing mobile games again...</td>\n",
       "    </tr>\n",
       "    <tr>\n",
       "      <th>6</th>\n",
       "      <td>DecisionTreeClassifier(random_state=42)</td>\n",
       "      <td>cvec</td>\n",
       "      <td>0.782082</td>\n",
       "      <td>0.217918</td>\n",
       "      <td>0.725490</td>\n",
       "      <td>0.837321</td>\n",
       "      <td>0.813187</td>\n",
       "      <td>0.766839</td>\n",
       "      <td>175</td>\n",
       "      <td>148</td>\n",
       "      <td>56</td>\n",
       "      <td>34</td>\n",
       "      <td>[i was recently reminded of the pop o matic i ...</td>\n",
       "      <td>[recently i started playing mobile games again...</td>\n",
       "    </tr>\n",
       "    <tr>\n",
       "      <th>7</th>\n",
       "      <td>DecisionTreeClassifier(random_state=42)</td>\n",
       "      <td>tvec</td>\n",
       "      <td>0.731235</td>\n",
       "      <td>0.268765</td>\n",
       "      <td>0.745098</td>\n",
       "      <td>0.717703</td>\n",
       "      <td>0.720379</td>\n",
       "      <td>0.732530</td>\n",
       "      <td>150</td>\n",
       "      <td>152</td>\n",
       "      <td>52</td>\n",
       "      <td>59</td>\n",
       "      <td>[our first game with players we get to the rai...</td>\n",
       "      <td>[i don t know if this is the right place to as...</td>\n",
       "    </tr>\n",
       "    <tr>\n",
       "      <th>8</th>\n",
       "      <td>BaggingClassifier(base_estimator=DecisionTreeC...</td>\n",
       "      <td>cvec</td>\n",
       "      <td>0.799031</td>\n",
       "      <td>0.200969</td>\n",
       "      <td>0.779412</td>\n",
       "      <td>0.818182</td>\n",
       "      <td>0.807107</td>\n",
       "      <td>0.793017</td>\n",
       "      <td>171</td>\n",
       "      <td>159</td>\n",
       "      <td>45</td>\n",
       "      <td>38</td>\n",
       "      <td>[pleasegimme ur best print n play games, for e...</td>\n",
       "      <td>[i don t know if this is the right place to as...</td>\n",
       "    </tr>\n",
       "    <tr>\n",
       "      <th>9</th>\n",
       "      <td>BaggingClassifier(base_estimator=DecisionTreeC...</td>\n",
       "      <td>tvec</td>\n",
       "      <td>0.825666</td>\n",
       "      <td>0.174334</td>\n",
       "      <td>0.769608</td>\n",
       "      <td>0.880383</td>\n",
       "      <td>0.862637</td>\n",
       "      <td>0.813472</td>\n",
       "      <td>184</td>\n",
       "      <td>157</td>\n",
       "      <td>47</td>\n",
       "      <td>25</td>\n",
       "      <td>[it was carribean ship trading and battle base...</td>\n",
       "      <td>[recently i started playing mobile games again...</td>\n",
       "    </tr>\n",
       "  </tbody>\n",
       "</table>\n",
       "</div>"
      ],
      "text/plain": [
       "                                               model vectorizer  accuracy  \\\n",
       "0                               LogisticRegression()       cvec  0.849879   \n",
       "1                               LogisticRegression()       tvec  0.857143   \n",
       "2                                    MultinomialNB()       cvec  0.857143   \n",
       "3                                    MultinomialNB()       tvec  0.840194   \n",
       "4                             KNeighborsClassifier()       cvec  0.680387   \n",
       "5                             KNeighborsClassifier()       tvec  0.765133   \n",
       "6            DecisionTreeClassifier(random_state=42)       cvec  0.782082   \n",
       "7            DecisionTreeClassifier(random_state=42)       tvec  0.731235   \n",
       "8  BaggingClassifier(base_estimator=DecisionTreeC...       cvec  0.799031   \n",
       "9  BaggingClassifier(base_estimator=DecisionTreeC...       tvec  0.825666   \n",
       "\n",
       "   misclassification  sensitivity  specificity  precision  f1_score   tn   tp  \\\n",
       "0           0.150121     0.813725     0.885167   0.873684  0.842640  185  166   \n",
       "1           0.142857     0.852941     0.861244   0.857143  0.855037  180  174   \n",
       "2           0.142857     0.897059     0.818182   0.828054  0.861176  171  183   \n",
       "3           0.159806     0.882353     0.799043   0.810811  0.845070  167  180   \n",
       "4           0.319613     0.490196     0.866029   0.781250  0.602410  181  100   \n",
       "5           0.234867     0.598039     0.928230   0.890511  0.715543  194  122   \n",
       "6           0.217918     0.725490     0.837321   0.813187  0.766839  175  148   \n",
       "7           0.268765     0.745098     0.717703   0.720379  0.732530  150  152   \n",
       "8           0.200969     0.779412     0.818182   0.807107  0.793017  171  159   \n",
       "9           0.174334     0.769608     0.880383   0.862637  0.813472  184  157   \n",
       "\n",
       "    fn  fp                                            fn_list  \\\n",
       "0   38  24  [i was recently reminded of the pop o matic i ...   \n",
       "1   30  29  [it was carribean ship trading and battle base...   \n",
       "2   21  38  [for example do you only need the app for were...   \n",
       "3   24  42  [for example do you only need the app for were...   \n",
       "4  104  28  [it was hard to believe that there isn t any s...   \n",
       "5   82  15  [our first game with players we get to the rai...   \n",
       "6   56  34  [i was recently reminded of the pop o matic i ...   \n",
       "7   52  59  [our first game with players we get to the rai...   \n",
       "8   45  38  [pleasegimme ur best print n play games, for e...   \n",
       "9   47  25  [it was carribean ship trading and battle base...   \n",
       "\n",
       "                                             fp_list  \n",
       "0  [hello i recently got a ps also connected the ...  \n",
       "1  [recently i started playing mobile games again...  \n",
       "2  [recently i started playing mobile games again...  \n",
       "3  [recently i started playing mobile games again...  \n",
       "4  [i don t know if this is the right place to as...  \n",
       "5  [recently i started playing mobile games again...  \n",
       "6  [recently i started playing mobile games again...  \n",
       "7  [i don t know if this is the right place to as...  \n",
       "8  [i don t know if this is the right place to as...  \n",
       "9  [recently i started playing mobile games again...  "
      ]
     },
     "execution_count": 114,
     "metadata": {},
     "output_type": "execute_result"
    }
   ],
   "source": [
    "df_results"
   ]
  },
  {
   "cell_type": "markdown",
   "id": "2d36dca5",
   "metadata": {},
   "source": [
    "### Observations: \n",
    "\n",
    "The Bagging model using a TfidfVectorizer achieved an accuracy of 85.71% as well as sensivity and specificity of 79.9% and 91.38% respectively."
   ]
  },
  {
   "cell_type": "code",
   "execution_count": 115,
   "id": "34f67590",
   "metadata": {},
   "outputs": [
    {
     "data": {
      "image/png": "[encoded data removed]",
      "text/plain": [
       "<Figure size 1296x720 with 2 Axes>"
      ]
     },
     "metadata": {
      "needs_background": "light"
     },
     "output_type": "display_data"
    }
   ],
   "source": [
    "plot_top_features_tree([pipe_bag_cvec_gridsearch, pipe_bag_tvec_gridsearch], ['cvec', 'tvec'], 'bag', 10)"
   ]
  },
  {
   "cell_type": "markdown",
   "id": "55b1da00",
   "metadata": {},
   "source": [
    "### Observations: \n",
    "\n",
    "From the 2 barcharts above, it can be observed that the top 10 features that are important in correctly classifying the 2 subrreddit groups. The higher the score of the features, the more important these features are to correctly classify the 2 groups. The feature score in bagging is computed using the average of each feature score. "
   ]
  },
  {
   "cell_type": "markdown",
   "id": "5ee8df71",
   "metadata": {},
   "source": [
    "### Random Forest"
   ]
  },
  {
   "cell_type": "code",
   "execution_count": 116,
   "id": "b6ea113c",
   "metadata": {},
   "outputs": [],
   "source": [
    "pipe_rf_cvec = Pipeline([\n",
    "    ('cvec', CountVectorizer(stop_words=all_stopwords)),\n",
    "    ('rf', RandomForestClassifier(random_state=42, n_jobs=-1))\n",
    "])"
   ]
  },
  {
   "cell_type": "code",
   "execution_count": 117,
   "id": "f5cf19d2",
   "metadata": {},
   "outputs": [],
   "source": [
    "pipe_rf_cvec_params = {\n",
    "    'rf__n_estimators': [1000], #[500, 1000],\n",
    "    'rf__min_samples_split': [3], #[2, 3, 4] , # min. no of sample required to split, def:2\n",
    "    'rf__min_samples_leaf': [1], #[1, 3, 5], # min. no. of samples required a leaf node, def:1\n",
    "    'cvec__ngram_range': [(1, 2)], #[(1, 2), (1, 3)],\n",
    "    'cvec__max_df': [0.9], #[0.9, 0.95, 0.98], # ignore words occur > specified value/% \n",
    "    'cvec__min_df': [0.01] #[0.01, 0.03, 0.05] # get words that occur > specified value/%\n",
    "}"
   ]
  },
  {
   "cell_type": "code",
   "execution_count": 118,
   "id": "a6cf9e58",
   "metadata": {},
   "outputs": [
    {
     "name": "stdout",
     "output_type": "stream",
     "text": [
      "CPU times: user 19 µs, sys: 6 µs, total: 25 µs\n",
      "Wall time: 26.2 µs\n"
     ]
    }
   ],
   "source": [
    "%%time\n",
    "pipe_rf_cvec_gridsearch = GridSearchCV(\n",
    "        pipe_rf_cvec, # What is the model we want to fit?\n",
    "        pipe_rf_cvec_params, # What is the dictionary of hyperparameters?\n",
    "        cv=5, # What number of folds in CV will we use?\n",
    "        verbose=1 # verbose=1 means print out everything\n",
    ") "
   ]
  },
  {
   "cell_type": "code",
   "execution_count": 119,
   "id": "dec6c16d",
   "metadata": {},
   "outputs": [
    {
     "name": "stdout",
     "output_type": "stream",
     "text": [
      "Fitting 5 folds for each of 1 candidates, totalling 5 fits\n",
      "CPU times: user 7.57 s, sys: 838 ms, total: 8.41 s\n",
      "Wall time: 6.25 s\n"
     ]
    },
    {
     "data": {
      "text/plain": [
       "GridSearchCV(cv=5,\n",
       "             estimator=Pipeline(steps=[('cvec',\n",
       "                                        CountVectorizer(stop_words=['games',\n",
       "                                                                    'game',\n",
       "                                                                    'mobile',\n",
       "                                                                    'board',\n",
       "                                                                    'android',\n",
       "                                                                    'like',\n",
       "                                                                    'phone',\n",
       "                                                                    'card',\n",
       "                                                                    'cards',\n",
       "                                                                    'whom',\n",
       "                                                                    'moreover',\n",
       "                                                                    'whenever',\n",
       "                                                                    'everyone',\n",
       "                                                                    'hereupon',\n",
       "                                                                    'noone',\n",
       "                                                                    'somewhere',\n",
       "                                                                    'serious',\n",
       "                                                                    'you',\n",
       "                                                                    'latter',\n",
       "                                                                    'anyway',\n",
       "                                                                    'eight',\n",
       "                                                                    'were',\n",
       "                                                                    'who',\n",
       "                                                                    'fifty',\n",
       "                                                                    'get', 'a',\n",
       "                                                                    'thin',\n",
       "                                                                    'move',\n",
       "                                                                    'whereas',\n",
       "                                                                    'is', ...])),\n",
       "                                       ('rf',\n",
       "                                        RandomForestClassifier(n_jobs=-1,\n",
       "                                                               random_state=42))]),\n",
       "             param_grid={'cvec__max_df': [0.9], 'cvec__min_df': [0.01],\n",
       "                         'cvec__ngram_range': [(1, 2)],\n",
       "                         'rf__min_samples_leaf': [1],\n",
       "                         'rf__min_samples_split': [3],\n",
       "                         'rf__n_estimators': [1000]},\n",
       "             verbose=1)"
      ]
     },
     "execution_count": 119,
     "metadata": {},
     "output_type": "execute_result"
    }
   ],
   "source": [
    "%%time\n",
    "# takes about 18min\n",
    "# Fit the GridSearchCV object to the data\n",
    "# if there is no key/value associated with knn, error\n",
    "# need to pass in the scaled train data\n",
    "pipe_rf_cvec_gridsearch.fit(X_train, y_train)"
   ]
  },
  {
   "cell_type": "code",
   "execution_count": 120,
   "id": "d2a8c09b",
   "metadata": {},
   "outputs": [
    {
     "data": {
      "text/plain": [
       "0.8580197107856682"
      ]
     },
     "execution_count": 120,
     "metadata": {},
     "output_type": "execute_result"
    }
   ],
   "source": [
    "pipe_rf_cvec_gridsearch.best_score_"
   ]
  },
  {
   "cell_type": "code",
   "execution_count": 121,
   "id": "b6a833c7",
   "metadata": {},
   "outputs": [],
   "source": [
    "# pipe_rf_cvec_gridsearch.best_params_"
   ]
  },
  {
   "cell_type": "code",
   "execution_count": 122,
   "id": "0f5d3179",
   "metadata": {},
   "outputs": [],
   "source": [
    "# pipe_rf_cvec_gridsearch.best_estimator_"
   ]
  },
  {
   "cell_type": "code",
   "execution_count": 123,
   "id": "5b6c04e0",
   "metadata": {},
   "outputs": [
    {
     "name": "stdout",
     "output_type": "stream",
     "text": [
      "Accuracy is 0.8547.\n",
      "Misclassification is 0.1453.\n",
      "Sensitivity is 0.8284.\n",
      "Specificity is 0.8804.\n",
      "F1_score is 0.8492.\n"
     ]
    },
    {
     "data": {
      "image/png": "[encoded data removed]",
      "text/plain": [
       "<Figure size 432x288 with 2 Axes>"
      ]
     },
     "metadata": {
      "needs_background": "light"
     },
     "output_type": "display_data"
    }
   ],
   "source": [
    "# df_results is used to save all the model metrics\n",
    "# initially, pass in empty dataframe, subsequently, pass in existing dataframe to concatenate the results\n",
    "df_results = compute_metrics(pipe_rf_cvec_gridsearch, X_test, y_test, df_results)"
   ]
  },
  {
   "cell_type": "code",
   "execution_count": 124,
   "id": "37629325",
   "metadata": {},
   "outputs": [
    {
     "data": {
      "text/html": [
       "<div>\n",
       "<style scoped>\n",
       "    .dataframe tbody tr th:only-of-type {\n",
       "        vertical-align: middle;\n",
       "    }\n",
       "\n",
       "    .dataframe tbody tr th {\n",
       "        vertical-align: top;\n",
       "    }\n",
       "\n",
       "    .dataframe thead th {\n",
       "        text-align: right;\n",
       "    }\n",
       "</style>\n",
       "<table border=\"1\" class=\"dataframe\">\n",
       "  <thead>\n",
       "    <tr style=\"text-align: right;\">\n",
       "      <th></th>\n",
       "      <th>model</th>\n",
       "      <th>vectorizer</th>\n",
       "      <th>accuracy</th>\n",
       "      <th>misclassification</th>\n",
       "      <th>sensitivity</th>\n",
       "      <th>specificity</th>\n",
       "      <th>precision</th>\n",
       "      <th>f1_score</th>\n",
       "      <th>tn</th>\n",
       "      <th>tp</th>\n",
       "      <th>fn</th>\n",
       "      <th>fp</th>\n",
       "      <th>fn_list</th>\n",
       "      <th>fp_list</th>\n",
       "    </tr>\n",
       "  </thead>\n",
       "  <tbody>\n",
       "    <tr>\n",
       "      <th>0</th>\n",
       "      <td>LogisticRegression()</td>\n",
       "      <td>cvec</td>\n",
       "      <td>0.849879</td>\n",
       "      <td>0.150121</td>\n",
       "      <td>0.813725</td>\n",
       "      <td>0.885167</td>\n",
       "      <td>0.873684</td>\n",
       "      <td>0.842640</td>\n",
       "      <td>185</td>\n",
       "      <td>166</td>\n",
       "      <td>38</td>\n",
       "      <td>24</td>\n",
       "      <td>[i was recently reminded of the pop o matic i ...</td>\n",
       "      <td>[hello i recently got a ps also connected the ...</td>\n",
       "    </tr>\n",
       "    <tr>\n",
       "      <th>1</th>\n",
       "      <td>LogisticRegression()</td>\n",
       "      <td>tvec</td>\n",
       "      <td>0.857143</td>\n",
       "      <td>0.142857</td>\n",
       "      <td>0.852941</td>\n",
       "      <td>0.861244</td>\n",
       "      <td>0.857143</td>\n",
       "      <td>0.855037</td>\n",
       "      <td>180</td>\n",
       "      <td>174</td>\n",
       "      <td>30</td>\n",
       "      <td>29</td>\n",
       "      <td>[it was carribean ship trading and battle base...</td>\n",
       "      <td>[recently i started playing mobile games again...</td>\n",
       "    </tr>\n",
       "    <tr>\n",
       "      <th>2</th>\n",
       "      <td>MultinomialNB()</td>\n",
       "      <td>cvec</td>\n",
       "      <td>0.857143</td>\n",
       "      <td>0.142857</td>\n",
       "      <td>0.897059</td>\n",
       "      <td>0.818182</td>\n",
       "      <td>0.828054</td>\n",
       "      <td>0.861176</td>\n",
       "      <td>171</td>\n",
       "      <td>183</td>\n",
       "      <td>21</td>\n",
       "      <td>38</td>\n",
       "      <td>[for example do you only need the app for were...</td>\n",
       "      <td>[recently i started playing mobile games again...</td>\n",
       "    </tr>\n",
       "    <tr>\n",
       "      <th>3</th>\n",
       "      <td>MultinomialNB()</td>\n",
       "      <td>tvec</td>\n",
       "      <td>0.840194</td>\n",
       "      <td>0.159806</td>\n",
       "      <td>0.882353</td>\n",
       "      <td>0.799043</td>\n",
       "      <td>0.810811</td>\n",
       "      <td>0.845070</td>\n",
       "      <td>167</td>\n",
       "      <td>180</td>\n",
       "      <td>24</td>\n",
       "      <td>42</td>\n",
       "      <td>[for example do you only need the app for were...</td>\n",
       "      <td>[recently i started playing mobile games again...</td>\n",
       "    </tr>\n",
       "    <tr>\n",
       "      <th>4</th>\n",
       "      <td>KNeighborsClassifier()</td>\n",
       "      <td>cvec</td>\n",
       "      <td>0.680387</td>\n",
       "      <td>0.319613</td>\n",
       "      <td>0.490196</td>\n",
       "      <td>0.866029</td>\n",
       "      <td>0.781250</td>\n",
       "      <td>0.602410</td>\n",
       "      <td>181</td>\n",
       "      <td>100</td>\n",
       "      <td>104</td>\n",
       "      <td>28</td>\n",
       "      <td>[it was hard to believe that there isn t any s...</td>\n",
       "      <td>[i don t know if this is the right place to as...</td>\n",
       "    </tr>\n",
       "    <tr>\n",
       "      <th>5</th>\n",
       "      <td>KNeighborsClassifier()</td>\n",
       "      <td>tvec</td>\n",
       "      <td>0.765133</td>\n",
       "      <td>0.234867</td>\n",
       "      <td>0.598039</td>\n",
       "      <td>0.928230</td>\n",
       "      <td>0.890511</td>\n",
       "      <td>0.715543</td>\n",
       "      <td>194</td>\n",
       "      <td>122</td>\n",
       "      <td>82</td>\n",
       "      <td>15</td>\n",
       "      <td>[our first game with players we get to the rai...</td>\n",
       "      <td>[recently i started playing mobile games again...</td>\n",
       "    </tr>\n",
       "    <tr>\n",
       "      <th>6</th>\n",
       "      <td>DecisionTreeClassifier(random_state=42)</td>\n",
       "      <td>cvec</td>\n",
       "      <td>0.782082</td>\n",
       "      <td>0.217918</td>\n",
       "      <td>0.725490</td>\n",
       "      <td>0.837321</td>\n",
       "      <td>0.813187</td>\n",
       "      <td>0.766839</td>\n",
       "      <td>175</td>\n",
       "      <td>148</td>\n",
       "      <td>56</td>\n",
       "      <td>34</td>\n",
       "      <td>[i was recently reminded of the pop o matic i ...</td>\n",
       "      <td>[recently i started playing mobile games again...</td>\n",
       "    </tr>\n",
       "    <tr>\n",
       "      <th>7</th>\n",
       "      <td>DecisionTreeClassifier(random_state=42)</td>\n",
       "      <td>tvec</td>\n",
       "      <td>0.731235</td>\n",
       "      <td>0.268765</td>\n",
       "      <td>0.745098</td>\n",
       "      <td>0.717703</td>\n",
       "      <td>0.720379</td>\n",
       "      <td>0.732530</td>\n",
       "      <td>150</td>\n",
       "      <td>152</td>\n",
       "      <td>52</td>\n",
       "      <td>59</td>\n",
       "      <td>[our first game with players we get to the rai...</td>\n",
       "      <td>[i don t know if this is the right place to as...</td>\n",
       "    </tr>\n",
       "    <tr>\n",
       "      <th>8</th>\n",
       "      <td>BaggingClassifier(base_estimator=DecisionTreeC...</td>\n",
       "      <td>cvec</td>\n",
       "      <td>0.799031</td>\n",
       "      <td>0.200969</td>\n",
       "      <td>0.779412</td>\n",
       "      <td>0.818182</td>\n",
       "      <td>0.807107</td>\n",
       "      <td>0.793017</td>\n",
       "      <td>171</td>\n",
       "      <td>159</td>\n",
       "      <td>45</td>\n",
       "      <td>38</td>\n",
       "      <td>[pleasegimme ur best print n play games, for e...</td>\n",
       "      <td>[i don t know if this is the right place to as...</td>\n",
       "    </tr>\n",
       "    <tr>\n",
       "      <th>9</th>\n",
       "      <td>BaggingClassifier(base_estimator=DecisionTreeC...</td>\n",
       "      <td>tvec</td>\n",
       "      <td>0.825666</td>\n",
       "      <td>0.174334</td>\n",
       "      <td>0.769608</td>\n",
       "      <td>0.880383</td>\n",
       "      <td>0.862637</td>\n",
       "      <td>0.813472</td>\n",
       "      <td>184</td>\n",
       "      <td>157</td>\n",
       "      <td>47</td>\n",
       "      <td>25</td>\n",
       "      <td>[it was carribean ship trading and battle base...</td>\n",
       "      <td>[recently i started playing mobile games again...</td>\n",
       "    </tr>\n",
       "    <tr>\n",
       "      <th>10</th>\n",
       "      <td>RandomForestClassifier(n_jobs=-1, random_state...</td>\n",
       "      <td>cvec</td>\n",
       "      <td>0.854722</td>\n",
       "      <td>0.145278</td>\n",
       "      <td>0.828431</td>\n",
       "      <td>0.880383</td>\n",
       "      <td>0.871134</td>\n",
       "      <td>0.849246</td>\n",
       "      <td>184</td>\n",
       "      <td>169</td>\n",
       "      <td>35</td>\n",
       "      <td>25</td>\n",
       "      <td>[pleasegimme ur best print n play games, for e...</td>\n",
       "      <td>[recently i started playing mobile games again...</td>\n",
       "    </tr>\n",
       "  </tbody>\n",
       "</table>\n",
       "</div>"
      ],
      "text/plain": [
       "                                                model vectorizer  accuracy  \\\n",
       "0                                LogisticRegression()       cvec  0.849879   \n",
       "1                                LogisticRegression()       tvec  0.857143   \n",
       "2                                     MultinomialNB()       cvec  0.857143   \n",
       "3                                     MultinomialNB()       tvec  0.840194   \n",
       "4                              KNeighborsClassifier()       cvec  0.680387   \n",
       "5                              KNeighborsClassifier()       tvec  0.765133   \n",
       "6             DecisionTreeClassifier(random_state=42)       cvec  0.782082   \n",
       "7             DecisionTreeClassifier(random_state=42)       tvec  0.731235   \n",
       "8   BaggingClassifier(base_estimator=DecisionTreeC...       cvec  0.799031   \n",
       "9   BaggingClassifier(base_estimator=DecisionTreeC...       tvec  0.825666   \n",
       "10  RandomForestClassifier(n_jobs=-1, random_state...       cvec  0.854722   \n",
       "\n",
       "    misclassification  sensitivity  specificity  precision  f1_score   tn  \\\n",
       "0            0.150121     0.813725     0.885167   0.873684  0.842640  185   \n",
       "1            0.142857     0.852941     0.861244   0.857143  0.855037  180   \n",
       "2            0.142857     0.897059     0.818182   0.828054  0.861176  171   \n",
       "3            0.159806     0.882353     0.799043   0.810811  0.845070  167   \n",
       "4            0.319613     0.490196     0.866029   0.781250  0.602410  181   \n",
       "5            0.234867     0.598039     0.928230   0.890511  0.715543  194   \n",
       "6            0.217918     0.725490     0.837321   0.813187  0.766839  175   \n",
       "7            0.268765     0.745098     0.717703   0.720379  0.732530  150   \n",
       "8            0.200969     0.779412     0.818182   0.807107  0.793017  171   \n",
       "9            0.174334     0.769608     0.880383   0.862637  0.813472  184   \n",
       "10           0.145278     0.828431     0.880383   0.871134  0.849246  184   \n",
       "\n",
       "     tp   fn  fp                                            fn_list  \\\n",
       "0   166   38  24  [i was recently reminded of the pop o matic i ...   \n",
       "1   174   30  29  [it was carribean ship trading and battle base...   \n",
       "2   183   21  38  [for example do you only need the app for were...   \n",
       "3   180   24  42  [for example do you only need the app for were...   \n",
       "4   100  104  28  [it was hard to believe that there isn t any s...   \n",
       "5   122   82  15  [our first game with players we get to the rai...   \n",
       "6   148   56  34  [i was recently reminded of the pop o matic i ...   \n",
       "7   152   52  59  [our first game with players we get to the rai...   \n",
       "8   159   45  38  [pleasegimme ur best print n play games, for e...   \n",
       "9   157   47  25  [it was carribean ship trading and battle base...   \n",
       "10  169   35  25  [pleasegimme ur best print n play games, for e...   \n",
       "\n",
       "                                              fp_list  \n",
       "0   [hello i recently got a ps also connected the ...  \n",
       "1   [recently i started playing mobile games again...  \n",
       "2   [recently i started playing mobile games again...  \n",
       "3   [recently i started playing mobile games again...  \n",
       "4   [i don t know if this is the right place to as...  \n",
       "5   [recently i started playing mobile games again...  \n",
       "6   [recently i started playing mobile games again...  \n",
       "7   [i don t know if this is the right place to as...  \n",
       "8   [i don t know if this is the right place to as...  \n",
       "9   [recently i started playing mobile games again...  \n",
       "10  [recently i started playing mobile games again...  "
      ]
     },
     "execution_count": 124,
     "metadata": {},
     "output_type": "execute_result"
    }
   ],
   "source": [
    "df_results"
   ]
  },
  {
   "cell_type": "markdown",
   "id": "415d48fb",
   "metadata": {},
   "source": [
    "### Observations: \n",
    "\n",
    "The random forest model using a CountVectorizer achieved an accuracy of 86% as well as sensivity and specificity of 83.33% and 88.5% respectively."
   ]
  },
  {
   "cell_type": "code",
   "execution_count": 125,
   "id": "1d21ca54",
   "metadata": {},
   "outputs": [],
   "source": [
    "pipe_rf_tvec = Pipeline([\n",
    "    ('tvec', TfidfVectorizer(stop_words=all_stopwords)),\n",
    "    ('rf', RandomForestClassifier(random_state=42, n_jobs=-1))\n",
    "])"
   ]
  },
  {
   "cell_type": "code",
   "execution_count": 126,
   "id": "cd46e40a",
   "metadata": {},
   "outputs": [],
   "source": [
    "pipe_rf_tvec_params = {\n",
    "    'rf__n_estimators': [500], #[500, 1000],\n",
    "    'rf__min_samples_split': [3], #[2, 3, 4] , # min. no of sample required to split, def:2\n",
    "    'rf__min_samples_leaf': [1], #[1, 3, 5], # min. no. of samples required a leaf node, def:1\n",
    "    'tvec__ngram_range': [(1, 2), (1, 3)],\n",
    "    'tvec__max_df': [0.9], #[0.9, 0.95, 0.98], # ignore words occur > specified value/% \n",
    "    'tvec__min_df': [0.01] #[0.01, 0.03, 0.05] # get words that occur > specified value/%\n",
    "}"
   ]
  },
  {
   "cell_type": "code",
   "execution_count": 127,
   "id": "82b0de61",
   "metadata": {},
   "outputs": [
    {
     "name": "stdout",
     "output_type": "stream",
     "text": [
      "CPU times: user 20 µs, sys: 1 µs, total: 21 µs\n",
      "Wall time: 21.9 µs\n"
     ]
    }
   ],
   "source": [
    "%%time\n",
    "pipe_rf_tvec_gridsearch = GridSearchCV(\n",
    "        pipe_rf_tvec, # What is the model we want to fit?\n",
    "        pipe_rf_tvec_params, # What is the dictionary of hyperparameters?\n",
    "        cv=5, # What number of folds in CV will we use?\n",
    "        verbose=1 # verbose=1 means print out everything\n",
    ") "
   ]
  },
  {
   "cell_type": "code",
   "execution_count": 128,
   "id": "16d65380",
   "metadata": {},
   "outputs": [
    {
     "name": "stdout",
     "output_type": "stream",
     "text": [
      "Fitting 5 folds for each of 2 candidates, totalling 10 fits\n",
      "CPU times: user 6.93 s, sys: 608 ms, total: 7.53 s\n",
      "Wall time: 6.96 s\n"
     ]
    },
    {
     "data": {
      "text/plain": [
       "GridSearchCV(cv=5,\n",
       "             estimator=Pipeline(steps=[('tvec',\n",
       "                                        TfidfVectorizer(stop_words=['games',\n",
       "                                                                    'game',\n",
       "                                                                    'mobile',\n",
       "                                                                    'board',\n",
       "                                                                    'android',\n",
       "                                                                    'like',\n",
       "                                                                    'phone',\n",
       "                                                                    'card',\n",
       "                                                                    'cards',\n",
       "                                                                    'whom',\n",
       "                                                                    'moreover',\n",
       "                                                                    'whenever',\n",
       "                                                                    'everyone',\n",
       "                                                                    'hereupon',\n",
       "                                                                    'noone',\n",
       "                                                                    'somewhere',\n",
       "                                                                    'serious',\n",
       "                                                                    'you',\n",
       "                                                                    'latter',\n",
       "                                                                    'anyway',\n",
       "                                                                    'eight',\n",
       "                                                                    'were',\n",
       "                                                                    'who',\n",
       "                                                                    'fifty',\n",
       "                                                                    'get', 'a',\n",
       "                                                                    'thin',\n",
       "                                                                    'move',\n",
       "                                                                    'whereas',\n",
       "                                                                    'is', ...])),\n",
       "                                       ('rf',\n",
       "                                        RandomForestClassifier(n_jobs=-1,\n",
       "                                                               random_state=42))]),\n",
       "             param_grid={'rf__min_samples_leaf': [1],\n",
       "                         'rf__min_samples_split': [3],\n",
       "                         'rf__n_estimators': [500], 'tvec__max_df': [0.9],\n",
       "                         'tvec__min_df': [0.01],\n",
       "                         'tvec__ngram_range': [(1, 2), (1, 3)]},\n",
       "             verbose=1)"
      ]
     },
     "execution_count": 128,
     "metadata": {},
     "output_type": "execute_result"
    }
   ],
   "source": [
    "%%time\n",
    "# takes 20min\n",
    "# Fit the GridSearchCV object to the data\n",
    "# if there is no key/value associated with knn, error\n",
    "# need to pass in the scaled train data\n",
    "pipe_rf_tvec_gridsearch.fit(X_train, y_train)"
   ]
  },
  {
   "cell_type": "code",
   "execution_count": 129,
   "id": "04d76ed7",
   "metadata": {},
   "outputs": [
    {
     "data": {
      "text/plain": [
       "0.8489195910472507"
      ]
     },
     "execution_count": 129,
     "metadata": {},
     "output_type": "execute_result"
    }
   ],
   "source": [
    "pipe_rf_tvec_gridsearch.best_score_"
   ]
  },
  {
   "cell_type": "code",
   "execution_count": 130,
   "id": "4bb4a6f2",
   "metadata": {},
   "outputs": [],
   "source": [
    "# pipe_rf_tvec_gridsearch.best_params_"
   ]
  },
  {
   "cell_type": "code",
   "execution_count": 131,
   "id": "4e1825da",
   "metadata": {},
   "outputs": [],
   "source": [
    "# pipe_rf_tvec_gridsearch.best_estimator_"
   ]
  },
  {
   "cell_type": "code",
   "execution_count": 132,
   "id": "d1e7759c",
   "metadata": {},
   "outputs": [
    {
     "name": "stdout",
     "output_type": "stream",
     "text": [
      "Accuracy is 0.862.\n",
      "Misclassification is 0.138.\n",
      "Sensitivity is 0.8333.\n",
      "Specificity is 0.89.\n",
      "F1_score is 0.8564.\n"
     ]
    },
    {
     "data": {
      "image/png": "[encoded data removed]",
      "text/plain": [
       "<Figure size 432x288 with 2 Axes>"
      ]
     },
     "metadata": {
      "needs_background": "light"
     },
     "output_type": "display_data"
    }
   ],
   "source": [
    "# df_results is used to save all the model metrics\n",
    "# initially, pass in empty dataframe, subsequently, pass in existing dataframe to concatenate the results\n",
    "df_results = compute_metrics(pipe_rf_tvec_gridsearch, X_test, y_test, df_results)"
   ]
  },
  {
   "cell_type": "code",
   "execution_count": 133,
   "id": "6178a77e",
   "metadata": {},
   "outputs": [
    {
     "data": {
      "text/html": [
       "<div>\n",
       "<style scoped>\n",
       "    .dataframe tbody tr th:only-of-type {\n",
       "        vertical-align: middle;\n",
       "    }\n",
       "\n",
       "    .dataframe tbody tr th {\n",
       "        vertical-align: top;\n",
       "    }\n",
       "\n",
       "    .dataframe thead th {\n",
       "        text-align: right;\n",
       "    }\n",
       "</style>\n",
       "<table border=\"1\" class=\"dataframe\">\n",
       "  <thead>\n",
       "    <tr style=\"text-align: right;\">\n",
       "      <th></th>\n",
       "      <th>model</th>\n",
       "      <th>vectorizer</th>\n",
       "      <th>accuracy</th>\n",
       "      <th>misclassification</th>\n",
       "      <th>sensitivity</th>\n",
       "      <th>specificity</th>\n",
       "      <th>precision</th>\n",
       "      <th>f1_score</th>\n",
       "      <th>tn</th>\n",
       "      <th>tp</th>\n",
       "      <th>fn</th>\n",
       "      <th>fp</th>\n",
       "      <th>fn_list</th>\n",
       "      <th>fp_list</th>\n",
       "    </tr>\n",
       "  </thead>\n",
       "  <tbody>\n",
       "    <tr>\n",
       "      <th>0</th>\n",
       "      <td>LogisticRegression()</td>\n",
       "      <td>cvec</td>\n",
       "      <td>0.849879</td>\n",
       "      <td>0.150121</td>\n",
       "      <td>0.813725</td>\n",
       "      <td>0.885167</td>\n",
       "      <td>0.873684</td>\n",
       "      <td>0.842640</td>\n",
       "      <td>185</td>\n",
       "      <td>166</td>\n",
       "      <td>38</td>\n",
       "      <td>24</td>\n",
       "      <td>[i was recently reminded of the pop o matic i ...</td>\n",
       "      <td>[hello i recently got a ps also connected the ...</td>\n",
       "    </tr>\n",
       "    <tr>\n",
       "      <th>1</th>\n",
       "      <td>LogisticRegression()</td>\n",
       "      <td>tvec</td>\n",
       "      <td>0.857143</td>\n",
       "      <td>0.142857</td>\n",
       "      <td>0.852941</td>\n",
       "      <td>0.861244</td>\n",
       "      <td>0.857143</td>\n",
       "      <td>0.855037</td>\n",
       "      <td>180</td>\n",
       "      <td>174</td>\n",
       "      <td>30</td>\n",
       "      <td>29</td>\n",
       "      <td>[it was carribean ship trading and battle base...</td>\n",
       "      <td>[recently i started playing mobile games again...</td>\n",
       "    </tr>\n",
       "    <tr>\n",
       "      <th>2</th>\n",
       "      <td>MultinomialNB()</td>\n",
       "      <td>cvec</td>\n",
       "      <td>0.857143</td>\n",
       "      <td>0.142857</td>\n",
       "      <td>0.897059</td>\n",
       "      <td>0.818182</td>\n",
       "      <td>0.828054</td>\n",
       "      <td>0.861176</td>\n",
       "      <td>171</td>\n",
       "      <td>183</td>\n",
       "      <td>21</td>\n",
       "      <td>38</td>\n",
       "      <td>[for example do you only need the app for were...</td>\n",
       "      <td>[recently i started playing mobile games again...</td>\n",
       "    </tr>\n",
       "    <tr>\n",
       "      <th>3</th>\n",
       "      <td>MultinomialNB()</td>\n",
       "      <td>tvec</td>\n",
       "      <td>0.840194</td>\n",
       "      <td>0.159806</td>\n",
       "      <td>0.882353</td>\n",
       "      <td>0.799043</td>\n",
       "      <td>0.810811</td>\n",
       "      <td>0.845070</td>\n",
       "      <td>167</td>\n",
       "      <td>180</td>\n",
       "      <td>24</td>\n",
       "      <td>42</td>\n",
       "      <td>[for example do you only need the app for were...</td>\n",
       "      <td>[recently i started playing mobile games again...</td>\n",
       "    </tr>\n",
       "    <tr>\n",
       "      <th>4</th>\n",
       "      <td>KNeighborsClassifier()</td>\n",
       "      <td>cvec</td>\n",
       "      <td>0.680387</td>\n",
       "      <td>0.319613</td>\n",
       "      <td>0.490196</td>\n",
       "      <td>0.866029</td>\n",
       "      <td>0.781250</td>\n",
       "      <td>0.602410</td>\n",
       "      <td>181</td>\n",
       "      <td>100</td>\n",
       "      <td>104</td>\n",
       "      <td>28</td>\n",
       "      <td>[it was hard to believe that there isn t any s...</td>\n",
       "      <td>[i don t know if this is the right place to as...</td>\n",
       "    </tr>\n",
       "    <tr>\n",
       "      <th>5</th>\n",
       "      <td>KNeighborsClassifier()</td>\n",
       "      <td>tvec</td>\n",
       "      <td>0.765133</td>\n",
       "      <td>0.234867</td>\n",
       "      <td>0.598039</td>\n",
       "      <td>0.928230</td>\n",
       "      <td>0.890511</td>\n",
       "      <td>0.715543</td>\n",
       "      <td>194</td>\n",
       "      <td>122</td>\n",
       "      <td>82</td>\n",
       "      <td>15</td>\n",
       "      <td>[our first game with players we get to the rai...</td>\n",
       "      <td>[recently i started playing mobile games again...</td>\n",
       "    </tr>\n",
       "    <tr>\n",
       "      <th>6</th>\n",
       "      <td>DecisionTreeClassifier(random_state=42)</td>\n",
       "      <td>cvec</td>\n",
       "      <td>0.782082</td>\n",
       "      <td>0.217918</td>\n",
       "      <td>0.725490</td>\n",
       "      <td>0.837321</td>\n",
       "      <td>0.813187</td>\n",
       "      <td>0.766839</td>\n",
       "      <td>175</td>\n",
       "      <td>148</td>\n",
       "      <td>56</td>\n",
       "      <td>34</td>\n",
       "      <td>[i was recently reminded of the pop o matic i ...</td>\n",
       "      <td>[recently i started playing mobile games again...</td>\n",
       "    </tr>\n",
       "    <tr>\n",
       "      <th>7</th>\n",
       "      <td>DecisionTreeClassifier(random_state=42)</td>\n",
       "      <td>tvec</td>\n",
       "      <td>0.731235</td>\n",
       "      <td>0.268765</td>\n",
       "      <td>0.745098</td>\n",
       "      <td>0.717703</td>\n",
       "      <td>0.720379</td>\n",
       "      <td>0.732530</td>\n",
       "      <td>150</td>\n",
       "      <td>152</td>\n",
       "      <td>52</td>\n",
       "      <td>59</td>\n",
       "      <td>[our first game with players we get to the rai...</td>\n",
       "      <td>[i don t know if this is the right place to as...</td>\n",
       "    </tr>\n",
       "    <tr>\n",
       "      <th>8</th>\n",
       "      <td>BaggingClassifier(base_estimator=DecisionTreeC...</td>\n",
       "      <td>cvec</td>\n",
       "      <td>0.799031</td>\n",
       "      <td>0.200969</td>\n",
       "      <td>0.779412</td>\n",
       "      <td>0.818182</td>\n",
       "      <td>0.807107</td>\n",
       "      <td>0.793017</td>\n",
       "      <td>171</td>\n",
       "      <td>159</td>\n",
       "      <td>45</td>\n",
       "      <td>38</td>\n",
       "      <td>[pleasegimme ur best print n play games, for e...</td>\n",
       "      <td>[i don t know if this is the right place to as...</td>\n",
       "    </tr>\n",
       "    <tr>\n",
       "      <th>9</th>\n",
       "      <td>BaggingClassifier(base_estimator=DecisionTreeC...</td>\n",
       "      <td>tvec</td>\n",
       "      <td>0.825666</td>\n",
       "      <td>0.174334</td>\n",
       "      <td>0.769608</td>\n",
       "      <td>0.880383</td>\n",
       "      <td>0.862637</td>\n",
       "      <td>0.813472</td>\n",
       "      <td>184</td>\n",
       "      <td>157</td>\n",
       "      <td>47</td>\n",
       "      <td>25</td>\n",
       "      <td>[it was carribean ship trading and battle base...</td>\n",
       "      <td>[recently i started playing mobile games again...</td>\n",
       "    </tr>\n",
       "    <tr>\n",
       "      <th>10</th>\n",
       "      <td>RandomForestClassifier(n_jobs=-1, random_state...</td>\n",
       "      <td>cvec</td>\n",
       "      <td>0.854722</td>\n",
       "      <td>0.145278</td>\n",
       "      <td>0.828431</td>\n",
       "      <td>0.880383</td>\n",
       "      <td>0.871134</td>\n",
       "      <td>0.849246</td>\n",
       "      <td>184</td>\n",
       "      <td>169</td>\n",
       "      <td>35</td>\n",
       "      <td>25</td>\n",
       "      <td>[pleasegimme ur best print n play games, for e...</td>\n",
       "      <td>[recently i started playing mobile games again...</td>\n",
       "    </tr>\n",
       "    <tr>\n",
       "      <th>11</th>\n",
       "      <td>RandomForestClassifier(n_jobs=-1, random_state...</td>\n",
       "      <td>tvec</td>\n",
       "      <td>0.861985</td>\n",
       "      <td>0.138015</td>\n",
       "      <td>0.833333</td>\n",
       "      <td>0.889952</td>\n",
       "      <td>0.880829</td>\n",
       "      <td>0.856423</td>\n",
       "      <td>186</td>\n",
       "      <td>170</td>\n",
       "      <td>34</td>\n",
       "      <td>23</td>\n",
       "      <td>[it was carribean ship trading and battle base...</td>\n",
       "      <td>[recently i started playing mobile games again...</td>\n",
       "    </tr>\n",
       "  </tbody>\n",
       "</table>\n",
       "</div>"
      ],
      "text/plain": [
       "                                                model vectorizer  accuracy  \\\n",
       "0                                LogisticRegression()       cvec  0.849879   \n",
       "1                                LogisticRegression()       tvec  0.857143   \n",
       "2                                     MultinomialNB()       cvec  0.857143   \n",
       "3                                     MultinomialNB()       tvec  0.840194   \n",
       "4                              KNeighborsClassifier()       cvec  0.680387   \n",
       "5                              KNeighborsClassifier()       tvec  0.765133   \n",
       "6             DecisionTreeClassifier(random_state=42)       cvec  0.782082   \n",
       "7             DecisionTreeClassifier(random_state=42)       tvec  0.731235   \n",
       "8   BaggingClassifier(base_estimator=DecisionTreeC...       cvec  0.799031   \n",
       "9   BaggingClassifier(base_estimator=DecisionTreeC...       tvec  0.825666   \n",
       "10  RandomForestClassifier(n_jobs=-1, random_state...       cvec  0.854722   \n",
       "11  RandomForestClassifier(n_jobs=-1, random_state...       tvec  0.861985   \n",
       "\n",
       "    misclassification  sensitivity  specificity  precision  f1_score   tn  \\\n",
       "0            0.150121     0.813725     0.885167   0.873684  0.842640  185   \n",
       "1            0.142857     0.852941     0.861244   0.857143  0.855037  180   \n",
       "2            0.142857     0.897059     0.818182   0.828054  0.861176  171   \n",
       "3            0.159806     0.882353     0.799043   0.810811  0.845070  167   \n",
       "4            0.319613     0.490196     0.866029   0.781250  0.602410  181   \n",
       "5            0.234867     0.598039     0.928230   0.890511  0.715543  194   \n",
       "6            0.217918     0.725490     0.837321   0.813187  0.766839  175   \n",
       "7            0.268765     0.745098     0.717703   0.720379  0.732530  150   \n",
       "8            0.200969     0.779412     0.818182   0.807107  0.793017  171   \n",
       "9            0.174334     0.769608     0.880383   0.862637  0.813472  184   \n",
       "10           0.145278     0.828431     0.880383   0.871134  0.849246  184   \n",
       "11           0.138015     0.833333     0.889952   0.880829  0.856423  186   \n",
       "\n",
       "     tp   fn  fp                                            fn_list  \\\n",
       "0   166   38  24  [i was recently reminded of the pop o matic i ...   \n",
       "1   174   30  29  [it was carribean ship trading and battle base...   \n",
       "2   183   21  38  [for example do you only need the app for were...   \n",
       "3   180   24  42  [for example do you only need the app for were...   \n",
       "4   100  104  28  [it was hard to believe that there isn t any s...   \n",
       "5   122   82  15  [our first game with players we get to the rai...   \n",
       "6   148   56  34  [i was recently reminded of the pop o matic i ...   \n",
       "7   152   52  59  [our first game with players we get to the rai...   \n",
       "8   159   45  38  [pleasegimme ur best print n play games, for e...   \n",
       "9   157   47  25  [it was carribean ship trading and battle base...   \n",
       "10  169   35  25  [pleasegimme ur best print n play games, for e...   \n",
       "11  170   34  23  [it was carribean ship trading and battle base...   \n",
       "\n",
       "                                              fp_list  \n",
       "0   [hello i recently got a ps also connected the ...  \n",
       "1   [recently i started playing mobile games again...  \n",
       "2   [recently i started playing mobile games again...  \n",
       "3   [recently i started playing mobile games again...  \n",
       "4   [i don t know if this is the right place to as...  \n",
       "5   [recently i started playing mobile games again...  \n",
       "6   [recently i started playing mobile games again...  \n",
       "7   [i don t know if this is the right place to as...  \n",
       "8   [i don t know if this is the right place to as...  \n",
       "9   [recently i started playing mobile games again...  \n",
       "10  [recently i started playing mobile games again...  \n",
       "11  [recently i started playing mobile games again...  "
      ]
     },
     "execution_count": 133,
     "metadata": {},
     "output_type": "execute_result"
    }
   ],
   "source": [
    "df_results"
   ]
  },
  {
   "cell_type": "markdown",
   "id": "ff41102c",
   "metadata": {},
   "source": [
    "### Observations: \n",
    "\n",
    "The random forest model using a TfidfVectorizer achieved an accuracy of 87.4% as well as sensivity and specificity of 83.8% and 90.9% respectively."
   ]
  },
  {
   "cell_type": "code",
   "execution_count": 134,
   "id": "342fdba8",
   "metadata": {},
   "outputs": [
    {
     "data": {
      "image/png": "[encoded data removed]",
      "text/plain": [
       "<Figure size 1296x720 with 2 Axes>"
      ]
     },
     "metadata": {
      "needs_background": "light"
     },
     "output_type": "display_data"
    }
   ],
   "source": [
    "plot_top_features_tree([pipe_rf_cvec_gridsearch, pipe_rf_tvec_gridsearch], ['cvec', 'tvec'], 'rf', 10)"
   ]
  },
  {
   "cell_type": "markdown",
   "id": "974ae681",
   "metadata": {},
   "source": [
    "### Observations: \n",
    "\n",
    "From the 2 barcharts above, it can be observed that the top 10 features that are important in correctly classifying the 2 subrreddit groups. The higher the score of the features, the more important these features are to correctly classify the 2 groups. Likewise, one limitation is that we do not know which features/words are associated with which subreddit group, so the performance for sensitivity and specificity which associated with the false negative and false positive respectively cannot be explored further."
   ]
  },
  {
   "cell_type": "code",
   "execution_count": 135,
   "id": "82e07047",
   "metadata": {},
   "outputs": [],
   "source": [
    "pipe_et_cvec = Pipeline([\n",
    "    ('cvec', CountVectorizer(stop_words=all_stopwords)),\n",
    "    # split randomly unlike dt split by gini impurity\n",
    "    ('et', ExtraTreesClassifier(random_state=42, n_jobs=-1)) \n",
    "])  "
   ]
  },
  {
   "cell_type": "code",
   "execution_count": 136,
   "id": "403c56ad",
   "metadata": {},
   "outputs": [],
   "source": [
    "pipe_et_cvec_params = {\n",
    "    'et__n_estimators': [1500], #[500, 1000, 1500],\n",
    "    'cvec__ngram_range': [(1, 2)], #[(1, 2), (1, 3)],\n",
    "    'cvec__max_df': [0.90], #[0.9, 0.95, 0.98], # ignore words occur > specified value/% \n",
    "    'cvec__min_df': [0.01] #[0.01, 0.03, 0.05] # get words that occur > specified value/%\n",
    "}"
   ]
  },
  {
   "cell_type": "code",
   "execution_count": 137,
   "id": "bc18c471",
   "metadata": {},
   "outputs": [
    {
     "name": "stdout",
     "output_type": "stream",
     "text": [
      "CPU times: user 14 µs, sys: 0 ns, total: 14 µs\n",
      "Wall time: 16.9 µs\n"
     ]
    }
   ],
   "source": [
    "%%time\n",
    "pipe_et_cvec_gridsearch = GridSearchCV(\n",
    "        pipe_et_cvec, # What is the model we want to fit?\n",
    "        pipe_et_cvec_params, # What is the dictionary of hyperparameters?\n",
    "        cv=5, # What number of folds in CV will we use?\n",
    "        verbose=1 # verbose=1 means print out everything\n",
    ") "
   ]
  },
  {
   "cell_type": "code",
   "execution_count": 138,
   "id": "073264bb",
   "metadata": {},
   "outputs": [
    {
     "name": "stdout",
     "output_type": "stream",
     "text": [
      "Fitting 5 folds for each of 1 candidates, totalling 5 fits\n",
      "CPU times: user 12.7 s, sys: 1.41 s, total: 14.1 s\n",
      "Wall time: 9.45 s\n"
     ]
    },
    {
     "data": {
      "text/plain": [
       "GridSearchCV(cv=5,\n",
       "             estimator=Pipeline(steps=[('cvec',\n",
       "                                        CountVectorizer(stop_words=['games',\n",
       "                                                                    'game',\n",
       "                                                                    'mobile',\n",
       "                                                                    'board',\n",
       "                                                                    'android',\n",
       "                                                                    'like',\n",
       "                                                                    'phone',\n",
       "                                                                    'card',\n",
       "                                                                    'cards',\n",
       "                                                                    'whom',\n",
       "                                                                    'moreover',\n",
       "                                                                    'whenever',\n",
       "                                                                    'everyone',\n",
       "                                                                    'hereupon',\n",
       "                                                                    'noone',\n",
       "                                                                    'somewhere',\n",
       "                                                                    'serious',\n",
       "                                                                    'you',\n",
       "                                                                    'latter',\n",
       "                                                                    'anyway',\n",
       "                                                                    'eight',\n",
       "                                                                    'were',\n",
       "                                                                    'who',\n",
       "                                                                    'fifty',\n",
       "                                                                    'get', 'a',\n",
       "                                                                    'thin',\n",
       "                                                                    'move',\n",
       "                                                                    'whereas',\n",
       "                                                                    'is', ...])),\n",
       "                                       ('et',\n",
       "                                        ExtraTreesClassifier(n_jobs=-1,\n",
       "                                                             random_state=42))]),\n",
       "             param_grid={'cvec__max_df': [0.9], 'cvec__min_df': [0.01],\n",
       "                         'cvec__ngram_range': [(1, 2)],\n",
       "                         'et__n_estimators': [1500]},\n",
       "             verbose=1)"
      ]
     },
     "execution_count": 138,
     "metadata": {},
     "output_type": "execute_result"
    }
   ],
   "source": [
    "%%time\n",
    "# takes about 12min\n",
    "# Fit the GridSearchCV object to the data\n",
    "# if there is no key/value associated with knn, error\n",
    "# need to pass in the scaled train data\n",
    "pipe_et_cvec_gridsearch.fit(X_train, y_train)"
   ]
  },
  {
   "cell_type": "code",
   "execution_count": 139,
   "id": "04bb340f",
   "metadata": {},
   "outputs": [
    {
     "data": {
      "text/plain": [
       "0.86650824352952"
      ]
     },
     "execution_count": 139,
     "metadata": {},
     "output_type": "execute_result"
    }
   ],
   "source": [
    "pipe_et_cvec_gridsearch.best_score_"
   ]
  },
  {
   "cell_type": "code",
   "execution_count": 140,
   "id": "c66bae8a",
   "metadata": {},
   "outputs": [],
   "source": [
    "# pipe_et_cvec_gridsearch.best_params_"
   ]
  },
  {
   "cell_type": "code",
   "execution_count": 141,
   "id": "99f1d4f3",
   "metadata": {},
   "outputs": [],
   "source": [
    "# pipe_et_cvec_gridsearch.best_estimator_"
   ]
  },
  {
   "cell_type": "code",
   "execution_count": 142,
   "id": "bbcece98",
   "metadata": {},
   "outputs": [
    {
     "name": "stdout",
     "output_type": "stream",
     "text": [
      "Accuracy is 0.8305.\n",
      "Misclassification is 0.1695.\n",
      "Sensitivity is 0.848.\n",
      "Specificity is 0.8134.\n",
      "F1_score is 0.8317.\n"
     ]
    },
    {
     "data": {
      "image/png": "[encoded data removed]",
      "text/plain": [
       "<Figure size 432x288 with 2 Axes>"
      ]
     },
     "metadata": {
      "needs_background": "light"
     },
     "output_type": "display_data"
    }
   ],
   "source": [
    "# df_results is used to save all the model metrics\n",
    "# initially, pass in empty dataframe, subsequently, pass in existing dataframe to concatenate the results\n",
    "df_results = compute_metrics(pipe_et_cvec_gridsearch, X_test, y_test, df_results)"
   ]
  },
  {
   "cell_type": "code",
   "execution_count": 143,
   "id": "04a24615",
   "metadata": {},
   "outputs": [
    {
     "data": {
      "text/html": [
       "<div>\n",
       "<style scoped>\n",
       "    .dataframe tbody tr th:only-of-type {\n",
       "        vertical-align: middle;\n",
       "    }\n",
       "\n",
       "    .dataframe tbody tr th {\n",
       "        vertical-align: top;\n",
       "    }\n",
       "\n",
       "    .dataframe thead th {\n",
       "        text-align: right;\n",
       "    }\n",
       "</style>\n",
       "<table border=\"1\" class=\"dataframe\">\n",
       "  <thead>\n",
       "    <tr style=\"text-align: right;\">\n",
       "      <th></th>\n",
       "      <th>model</th>\n",
       "      <th>vectorizer</th>\n",
       "      <th>accuracy</th>\n",
       "      <th>misclassification</th>\n",
       "      <th>sensitivity</th>\n",
       "      <th>specificity</th>\n",
       "      <th>precision</th>\n",
       "      <th>f1_score</th>\n",
       "      <th>tn</th>\n",
       "      <th>tp</th>\n",
       "      <th>fn</th>\n",
       "      <th>fp</th>\n",
       "      <th>fn_list</th>\n",
       "      <th>fp_list</th>\n",
       "    </tr>\n",
       "  </thead>\n",
       "  <tbody>\n",
       "    <tr>\n",
       "      <th>0</th>\n",
       "      <td>LogisticRegression()</td>\n",
       "      <td>cvec</td>\n",
       "      <td>0.849879</td>\n",
       "      <td>0.150121</td>\n",
       "      <td>0.813725</td>\n",
       "      <td>0.885167</td>\n",
       "      <td>0.873684</td>\n",
       "      <td>0.842640</td>\n",
       "      <td>185</td>\n",
       "      <td>166</td>\n",
       "      <td>38</td>\n",
       "      <td>24</td>\n",
       "      <td>[i was recently reminded of the pop o matic i ...</td>\n",
       "      <td>[hello i recently got a ps also connected the ...</td>\n",
       "    </tr>\n",
       "    <tr>\n",
       "      <th>1</th>\n",
       "      <td>LogisticRegression()</td>\n",
       "      <td>tvec</td>\n",
       "      <td>0.857143</td>\n",
       "      <td>0.142857</td>\n",
       "      <td>0.852941</td>\n",
       "      <td>0.861244</td>\n",
       "      <td>0.857143</td>\n",
       "      <td>0.855037</td>\n",
       "      <td>180</td>\n",
       "      <td>174</td>\n",
       "      <td>30</td>\n",
       "      <td>29</td>\n",
       "      <td>[it was carribean ship trading and battle base...</td>\n",
       "      <td>[recently i started playing mobile games again...</td>\n",
       "    </tr>\n",
       "    <tr>\n",
       "      <th>2</th>\n",
       "      <td>MultinomialNB()</td>\n",
       "      <td>cvec</td>\n",
       "      <td>0.857143</td>\n",
       "      <td>0.142857</td>\n",
       "      <td>0.897059</td>\n",
       "      <td>0.818182</td>\n",
       "      <td>0.828054</td>\n",
       "      <td>0.861176</td>\n",
       "      <td>171</td>\n",
       "      <td>183</td>\n",
       "      <td>21</td>\n",
       "      <td>38</td>\n",
       "      <td>[for example do you only need the app for were...</td>\n",
       "      <td>[recently i started playing mobile games again...</td>\n",
       "    </tr>\n",
       "    <tr>\n",
       "      <th>3</th>\n",
       "      <td>MultinomialNB()</td>\n",
       "      <td>tvec</td>\n",
       "      <td>0.840194</td>\n",
       "      <td>0.159806</td>\n",
       "      <td>0.882353</td>\n",
       "      <td>0.799043</td>\n",
       "      <td>0.810811</td>\n",
       "      <td>0.845070</td>\n",
       "      <td>167</td>\n",
       "      <td>180</td>\n",
       "      <td>24</td>\n",
       "      <td>42</td>\n",
       "      <td>[for example do you only need the app for were...</td>\n",
       "      <td>[recently i started playing mobile games again...</td>\n",
       "    </tr>\n",
       "    <tr>\n",
       "      <th>4</th>\n",
       "      <td>KNeighborsClassifier()</td>\n",
       "      <td>cvec</td>\n",
       "      <td>0.680387</td>\n",
       "      <td>0.319613</td>\n",
       "      <td>0.490196</td>\n",
       "      <td>0.866029</td>\n",
       "      <td>0.781250</td>\n",
       "      <td>0.602410</td>\n",
       "      <td>181</td>\n",
       "      <td>100</td>\n",
       "      <td>104</td>\n",
       "      <td>28</td>\n",
       "      <td>[it was hard to believe that there isn t any s...</td>\n",
       "      <td>[i don t know if this is the right place to as...</td>\n",
       "    </tr>\n",
       "    <tr>\n",
       "      <th>5</th>\n",
       "      <td>KNeighborsClassifier()</td>\n",
       "      <td>tvec</td>\n",
       "      <td>0.765133</td>\n",
       "      <td>0.234867</td>\n",
       "      <td>0.598039</td>\n",
       "      <td>0.928230</td>\n",
       "      <td>0.890511</td>\n",
       "      <td>0.715543</td>\n",
       "      <td>194</td>\n",
       "      <td>122</td>\n",
       "      <td>82</td>\n",
       "      <td>15</td>\n",
       "      <td>[our first game with players we get to the rai...</td>\n",
       "      <td>[recently i started playing mobile games again...</td>\n",
       "    </tr>\n",
       "    <tr>\n",
       "      <th>6</th>\n",
       "      <td>DecisionTreeClassifier(random_state=42)</td>\n",
       "      <td>cvec</td>\n",
       "      <td>0.782082</td>\n",
       "      <td>0.217918</td>\n",
       "      <td>0.725490</td>\n",
       "      <td>0.837321</td>\n",
       "      <td>0.813187</td>\n",
       "      <td>0.766839</td>\n",
       "      <td>175</td>\n",
       "      <td>148</td>\n",
       "      <td>56</td>\n",
       "      <td>34</td>\n",
       "      <td>[i was recently reminded of the pop o matic i ...</td>\n",
       "      <td>[recently i started playing mobile games again...</td>\n",
       "    </tr>\n",
       "    <tr>\n",
       "      <th>7</th>\n",
       "      <td>DecisionTreeClassifier(random_state=42)</td>\n",
       "      <td>tvec</td>\n",
       "      <td>0.731235</td>\n",
       "      <td>0.268765</td>\n",
       "      <td>0.745098</td>\n",
       "      <td>0.717703</td>\n",
       "      <td>0.720379</td>\n",
       "      <td>0.732530</td>\n",
       "      <td>150</td>\n",
       "      <td>152</td>\n",
       "      <td>52</td>\n",
       "      <td>59</td>\n",
       "      <td>[our first game with players we get to the rai...</td>\n",
       "      <td>[i don t know if this is the right place to as...</td>\n",
       "    </tr>\n",
       "    <tr>\n",
       "      <th>8</th>\n",
       "      <td>BaggingClassifier(base_estimator=DecisionTreeC...</td>\n",
       "      <td>cvec</td>\n",
       "      <td>0.799031</td>\n",
       "      <td>0.200969</td>\n",
       "      <td>0.779412</td>\n",
       "      <td>0.818182</td>\n",
       "      <td>0.807107</td>\n",
       "      <td>0.793017</td>\n",
       "      <td>171</td>\n",
       "      <td>159</td>\n",
       "      <td>45</td>\n",
       "      <td>38</td>\n",
       "      <td>[pleasegimme ur best print n play games, for e...</td>\n",
       "      <td>[i don t know if this is the right place to as...</td>\n",
       "    </tr>\n",
       "    <tr>\n",
       "      <th>9</th>\n",
       "      <td>BaggingClassifier(base_estimator=DecisionTreeC...</td>\n",
       "      <td>tvec</td>\n",
       "      <td>0.825666</td>\n",
       "      <td>0.174334</td>\n",
       "      <td>0.769608</td>\n",
       "      <td>0.880383</td>\n",
       "      <td>0.862637</td>\n",
       "      <td>0.813472</td>\n",
       "      <td>184</td>\n",
       "      <td>157</td>\n",
       "      <td>47</td>\n",
       "      <td>25</td>\n",
       "      <td>[it was carribean ship trading and battle base...</td>\n",
       "      <td>[recently i started playing mobile games again...</td>\n",
       "    </tr>\n",
       "    <tr>\n",
       "      <th>10</th>\n",
       "      <td>RandomForestClassifier(n_jobs=-1, random_state...</td>\n",
       "      <td>cvec</td>\n",
       "      <td>0.854722</td>\n",
       "      <td>0.145278</td>\n",
       "      <td>0.828431</td>\n",
       "      <td>0.880383</td>\n",
       "      <td>0.871134</td>\n",
       "      <td>0.849246</td>\n",
       "      <td>184</td>\n",
       "      <td>169</td>\n",
       "      <td>35</td>\n",
       "      <td>25</td>\n",
       "      <td>[pleasegimme ur best print n play games, for e...</td>\n",
       "      <td>[recently i started playing mobile games again...</td>\n",
       "    </tr>\n",
       "    <tr>\n",
       "      <th>11</th>\n",
       "      <td>RandomForestClassifier(n_jobs=-1, random_state...</td>\n",
       "      <td>tvec</td>\n",
       "      <td>0.861985</td>\n",
       "      <td>0.138015</td>\n",
       "      <td>0.833333</td>\n",
       "      <td>0.889952</td>\n",
       "      <td>0.880829</td>\n",
       "      <td>0.856423</td>\n",
       "      <td>186</td>\n",
       "      <td>170</td>\n",
       "      <td>34</td>\n",
       "      <td>23</td>\n",
       "      <td>[it was carribean ship trading and battle base...</td>\n",
       "      <td>[recently i started playing mobile games again...</td>\n",
       "    </tr>\n",
       "    <tr>\n",
       "      <th>12</th>\n",
       "      <td>ExtraTreesClassifier(n_jobs=-1, random_state=42)</td>\n",
       "      <td>cvec</td>\n",
       "      <td>0.830508</td>\n",
       "      <td>0.169492</td>\n",
       "      <td>0.848039</td>\n",
       "      <td>0.813397</td>\n",
       "      <td>0.816038</td>\n",
       "      <td>0.831731</td>\n",
       "      <td>170</td>\n",
       "      <td>173</td>\n",
       "      <td>31</td>\n",
       "      <td>39</td>\n",
       "      <td>[what s the most useless thing in your favouri...</td>\n",
       "      <td>[recently i started playing mobile games again...</td>\n",
       "    </tr>\n",
       "  </tbody>\n",
       "</table>\n",
       "</div>"
      ],
      "text/plain": [
       "                                                model vectorizer  accuracy  \\\n",
       "0                                LogisticRegression()       cvec  0.849879   \n",
       "1                                LogisticRegression()       tvec  0.857143   \n",
       "2                                     MultinomialNB()       cvec  0.857143   \n",
       "3                                     MultinomialNB()       tvec  0.840194   \n",
       "4                              KNeighborsClassifier()       cvec  0.680387   \n",
       "5                              KNeighborsClassifier()       tvec  0.765133   \n",
       "6             DecisionTreeClassifier(random_state=42)       cvec  0.782082   \n",
       "7             DecisionTreeClassifier(random_state=42)       tvec  0.731235   \n",
       "8   BaggingClassifier(base_estimator=DecisionTreeC...       cvec  0.799031   \n",
       "9   BaggingClassifier(base_estimator=DecisionTreeC...       tvec  0.825666   \n",
       "10  RandomForestClassifier(n_jobs=-1, random_state...       cvec  0.854722   \n",
       "11  RandomForestClassifier(n_jobs=-1, random_state...       tvec  0.861985   \n",
       "12   ExtraTreesClassifier(n_jobs=-1, random_state=42)       cvec  0.830508   \n",
       "\n",
       "    misclassification  sensitivity  specificity  precision  f1_score   tn  \\\n",
       "0            0.150121     0.813725     0.885167   0.873684  0.842640  185   \n",
       "1            0.142857     0.852941     0.861244   0.857143  0.855037  180   \n",
       "2            0.142857     0.897059     0.818182   0.828054  0.861176  171   \n",
       "3            0.159806     0.882353     0.799043   0.810811  0.845070  167   \n",
       "4            0.319613     0.490196     0.866029   0.781250  0.602410  181   \n",
       "5            0.234867     0.598039     0.928230   0.890511  0.715543  194   \n",
       "6            0.217918     0.725490     0.837321   0.813187  0.766839  175   \n",
       "7            0.268765     0.745098     0.717703   0.720379  0.732530  150   \n",
       "8            0.200969     0.779412     0.818182   0.807107  0.793017  171   \n",
       "9            0.174334     0.769608     0.880383   0.862637  0.813472  184   \n",
       "10           0.145278     0.828431     0.880383   0.871134  0.849246  184   \n",
       "11           0.138015     0.833333     0.889952   0.880829  0.856423  186   \n",
       "12           0.169492     0.848039     0.813397   0.816038  0.831731  170   \n",
       "\n",
       "     tp   fn  fp                                            fn_list  \\\n",
       "0   166   38  24  [i was recently reminded of the pop o matic i ...   \n",
       "1   174   30  29  [it was carribean ship trading and battle base...   \n",
       "2   183   21  38  [for example do you only need the app for were...   \n",
       "3   180   24  42  [for example do you only need the app for were...   \n",
       "4   100  104  28  [it was hard to believe that there isn t any s...   \n",
       "5   122   82  15  [our first game with players we get to the rai...   \n",
       "6   148   56  34  [i was recently reminded of the pop o matic i ...   \n",
       "7   152   52  59  [our first game with players we get to the rai...   \n",
       "8   159   45  38  [pleasegimme ur best print n play games, for e...   \n",
       "9   157   47  25  [it was carribean ship trading and battle base...   \n",
       "10  169   35  25  [pleasegimme ur best print n play games, for e...   \n",
       "11  170   34  23  [it was carribean ship trading and battle base...   \n",
       "12  173   31  39  [what s the most useless thing in your favouri...   \n",
       "\n",
       "                                              fp_list  \n",
       "0   [hello i recently got a ps also connected the ...  \n",
       "1   [recently i started playing mobile games again...  \n",
       "2   [recently i started playing mobile games again...  \n",
       "3   [recently i started playing mobile games again...  \n",
       "4   [i don t know if this is the right place to as...  \n",
       "5   [recently i started playing mobile games again...  \n",
       "6   [recently i started playing mobile games again...  \n",
       "7   [i don t know if this is the right place to as...  \n",
       "8   [i don t know if this is the right place to as...  \n",
       "9   [recently i started playing mobile games again...  \n",
       "10  [recently i started playing mobile games again...  \n",
       "11  [recently i started playing mobile games again...  \n",
       "12  [recently i started playing mobile games again...  "
      ]
     },
     "execution_count": 143,
     "metadata": {},
     "output_type": "execute_result"
    }
   ],
   "source": [
    "df_results"
   ]
  },
  {
   "cell_type": "markdown",
   "id": "f891ddf3",
   "metadata": {},
   "source": [
    "### Observations: \n",
    "\n",
    "The random forest model using a CountVectorizer achieved an accuracy of 85% as well as sensivity and specificity of 85.29% and 84.7% respectively."
   ]
  },
  {
   "cell_type": "code",
   "execution_count": 144,
   "id": "3d92d432",
   "metadata": {},
   "outputs": [],
   "source": [
    "pipe_et_tvec = Pipeline([\n",
    "    ('tvec', TfidfVectorizer(stop_words=all_stopwords)),\n",
    "    # splitExtraTreesClassifieromly unlike dt split by gini impurity\n",
    "    ('et', ExtraTreesClassifier(random_state=42, n_jobs=-1)) \n",
    "])"
   ]
  },
  {
   "cell_type": "code",
   "execution_count": 145,
   "id": "803cfa7c",
   "metadata": {},
   "outputs": [],
   "source": [
    "pipe_et_tvec_params = {\n",
    "    'et__n_estimators': [1500], #[500, 1000, 1500],\n",
    "    'tvec__ngram_range': [(1, 3)], #[(1, 2), (1, 3)],\n",
    "    'tvec__max_df': [0.9], #[0.9, 0.95, 0.98], # ignore words occur > specified value/% \n",
    "    'tvec__min_df': [0.01], #[0.01, 0.03, 0.05] # get words that occur > specified value/%\n",
    "}"
   ]
  },
  {
   "cell_type": "code",
   "execution_count": 146,
   "id": "6735960d",
   "metadata": {},
   "outputs": [
    {
     "name": "stdout",
     "output_type": "stream",
     "text": [
      "CPU times: user 18 µs, sys: 0 ns, total: 18 µs\n",
      "Wall time: 19.1 µs\n"
     ]
    }
   ],
   "source": [
    "%%time\n",
    "pipe_et_tvec_gridsearch = GridSearchCV(\n",
    "        pipe_et_tvec, # What is the model we want to fit?\n",
    "        pipe_et_tvec_params, # What is the dictionary of hyperparameters?\n",
    "        cv=5, # What number of folds in CV will we use?\n",
    "        verbose=1 # verbose=1 means print out everything\n",
    ") "
   ]
  },
  {
   "cell_type": "code",
   "execution_count": 147,
   "id": "c3343504",
   "metadata": {},
   "outputs": [
    {
     "name": "stdout",
     "output_type": "stream",
     "text": [
      "Fitting 5 folds for each of 1 candidates, totalling 5 fits\n",
      "CPU times: user 13.2 s, sys: 1.38 s, total: 14.6 s\n",
      "Wall time: 10 s\n"
     ]
    },
    {
     "data": {
      "text/plain": [
       "GridSearchCV(cv=5,\n",
       "             estimator=Pipeline(steps=[('tvec',\n",
       "                                        TfidfVectorizer(stop_words=['games',\n",
       "                                                                    'game',\n",
       "                                                                    'mobile',\n",
       "                                                                    'board',\n",
       "                                                                    'android',\n",
       "                                                                    'like',\n",
       "                                                                    'phone',\n",
       "                                                                    'card',\n",
       "                                                                    'cards',\n",
       "                                                                    'whom',\n",
       "                                                                    'moreover',\n",
       "                                                                    'whenever',\n",
       "                                                                    'everyone',\n",
       "                                                                    'hereupon',\n",
       "                                                                    'noone',\n",
       "                                                                    'somewhere',\n",
       "                                                                    'serious',\n",
       "                                                                    'you',\n",
       "                                                                    'latter',\n",
       "                                                                    'anyway',\n",
       "                                                                    'eight',\n",
       "                                                                    'were',\n",
       "                                                                    'who',\n",
       "                                                                    'fifty',\n",
       "                                                                    'get', 'a',\n",
       "                                                                    'thin',\n",
       "                                                                    'move',\n",
       "                                                                    'whereas',\n",
       "                                                                    'is', ...])),\n",
       "                                       ('et',\n",
       "                                        ExtraTreesClassifier(n_jobs=-1,\n",
       "                                                             random_state=42))]),\n",
       "             param_grid={'et__n_estimators': [1500], 'tvec__max_df': [0.9],\n",
       "                         'tvec__min_df': [0.01],\n",
       "                         'tvec__ngram_range': [(1, 3)]},\n",
       "             verbose=1)"
      ]
     },
     "execution_count": 147,
     "metadata": {},
     "output_type": "execute_result"
    }
   ],
   "source": [
    "%%time\n",
    "# takes about 5min\n",
    "# takes about 2 min\n",
    "# Fit the GridSearchCV object to the data\n",
    "# if there is no key/value associated with knn, error\n",
    "# need to pass in the scaled train data\n",
    "pipe_et_tvec_gridsearch.fit(X_train, y_train)"
   ]
  },
  {
   "cell_type": "code",
   "execution_count": 148,
   "id": "40a2eace",
   "metadata": {},
   "outputs": [
    {
     "data": {
      "text/plain": [
       "0.8750023026618772"
      ]
     },
     "execution_count": 148,
     "metadata": {},
     "output_type": "execute_result"
    }
   ],
   "source": [
    "pipe_et_tvec_gridsearch.best_score_"
   ]
  },
  {
   "cell_type": "code",
   "execution_count": 149,
   "id": "577550d6",
   "metadata": {},
   "outputs": [],
   "source": [
    "# pipe_et_tvec_gridsearch.best_params_"
   ]
  },
  {
   "cell_type": "code",
   "execution_count": 150,
   "id": "f1ec89d3",
   "metadata": {},
   "outputs": [],
   "source": [
    "# pipe_et_tvec_gridsearch.best_estimator_"
   ]
  },
  {
   "cell_type": "code",
   "execution_count": 151,
   "id": "6d442853",
   "metadata": {},
   "outputs": [
    {
     "name": "stdout",
     "output_type": "stream",
     "text": [
      "Accuracy is 0.8717.\n",
      "Misclassification is 0.1283.\n",
      "Sensitivity is 0.8578.\n",
      "Specificity is 0.8852.\n",
      "F1_score is 0.8685.\n"
     ]
    },
    {
     "data": {
      "image/png": "[encoded data removed]",
      "text/plain": [
       "<Figure size 432x288 with 2 Axes>"
      ]
     },
     "metadata": {
      "needs_background": "light"
     },
     "output_type": "display_data"
    }
   ],
   "source": [
    "# df_results is used to save all the model metrics\n",
    "# initially, pass in empty dataframe, subsequently, pass in existing dataframe to concatenate the results\n",
    "df_results = compute_metrics(pipe_et_tvec_gridsearch, X_test, y_test, df_results)"
   ]
  },
  {
   "cell_type": "code",
   "execution_count": 152,
   "id": "82e9f2d9",
   "metadata": {},
   "outputs": [
    {
     "data": {
      "text/html": [
       "<div>\n",
       "<style scoped>\n",
       "    .dataframe tbody tr th:only-of-type {\n",
       "        vertical-align: middle;\n",
       "    }\n",
       "\n",
       "    .dataframe tbody tr th {\n",
       "        vertical-align: top;\n",
       "    }\n",
       "\n",
       "    .dataframe thead th {\n",
       "        text-align: right;\n",
       "    }\n",
       "</style>\n",
       "<table border=\"1\" class=\"dataframe\">\n",
       "  <thead>\n",
       "    <tr style=\"text-align: right;\">\n",
       "      <th></th>\n",
       "      <th>model</th>\n",
       "      <th>vectorizer</th>\n",
       "      <th>accuracy</th>\n",
       "      <th>misclassification</th>\n",
       "      <th>sensitivity</th>\n",
       "      <th>specificity</th>\n",
       "      <th>precision</th>\n",
       "      <th>f1_score</th>\n",
       "      <th>tn</th>\n",
       "      <th>tp</th>\n",
       "      <th>fn</th>\n",
       "      <th>fp</th>\n",
       "      <th>fn_list</th>\n",
       "      <th>fp_list</th>\n",
       "    </tr>\n",
       "  </thead>\n",
       "  <tbody>\n",
       "    <tr>\n",
       "      <th>0</th>\n",
       "      <td>LogisticRegression()</td>\n",
       "      <td>cvec</td>\n",
       "      <td>0.849879</td>\n",
       "      <td>0.150121</td>\n",
       "      <td>0.813725</td>\n",
       "      <td>0.885167</td>\n",
       "      <td>0.873684</td>\n",
       "      <td>0.842640</td>\n",
       "      <td>185</td>\n",
       "      <td>166</td>\n",
       "      <td>38</td>\n",
       "      <td>24</td>\n",
       "      <td>[i was recently reminded of the pop o matic i ...</td>\n",
       "      <td>[hello i recently got a ps also connected the ...</td>\n",
       "    </tr>\n",
       "    <tr>\n",
       "      <th>1</th>\n",
       "      <td>LogisticRegression()</td>\n",
       "      <td>tvec</td>\n",
       "      <td>0.857143</td>\n",
       "      <td>0.142857</td>\n",
       "      <td>0.852941</td>\n",
       "      <td>0.861244</td>\n",
       "      <td>0.857143</td>\n",
       "      <td>0.855037</td>\n",
       "      <td>180</td>\n",
       "      <td>174</td>\n",
       "      <td>30</td>\n",
       "      <td>29</td>\n",
       "      <td>[it was carribean ship trading and battle base...</td>\n",
       "      <td>[recently i started playing mobile games again...</td>\n",
       "    </tr>\n",
       "    <tr>\n",
       "      <th>2</th>\n",
       "      <td>MultinomialNB()</td>\n",
       "      <td>cvec</td>\n",
       "      <td>0.857143</td>\n",
       "      <td>0.142857</td>\n",
       "      <td>0.897059</td>\n",
       "      <td>0.818182</td>\n",
       "      <td>0.828054</td>\n",
       "      <td>0.861176</td>\n",
       "      <td>171</td>\n",
       "      <td>183</td>\n",
       "      <td>21</td>\n",
       "      <td>38</td>\n",
       "      <td>[for example do you only need the app for were...</td>\n",
       "      <td>[recently i started playing mobile games again...</td>\n",
       "    </tr>\n",
       "    <tr>\n",
       "      <th>3</th>\n",
       "      <td>MultinomialNB()</td>\n",
       "      <td>tvec</td>\n",
       "      <td>0.840194</td>\n",
       "      <td>0.159806</td>\n",
       "      <td>0.882353</td>\n",
       "      <td>0.799043</td>\n",
       "      <td>0.810811</td>\n",
       "      <td>0.845070</td>\n",
       "      <td>167</td>\n",
       "      <td>180</td>\n",
       "      <td>24</td>\n",
       "      <td>42</td>\n",
       "      <td>[for example do you only need the app for were...</td>\n",
       "      <td>[recently i started playing mobile games again...</td>\n",
       "    </tr>\n",
       "    <tr>\n",
       "      <th>4</th>\n",
       "      <td>KNeighborsClassifier()</td>\n",
       "      <td>cvec</td>\n",
       "      <td>0.680387</td>\n",
       "      <td>0.319613</td>\n",
       "      <td>0.490196</td>\n",
       "      <td>0.866029</td>\n",
       "      <td>0.781250</td>\n",
       "      <td>0.602410</td>\n",
       "      <td>181</td>\n",
       "      <td>100</td>\n",
       "      <td>104</td>\n",
       "      <td>28</td>\n",
       "      <td>[it was hard to believe that there isn t any s...</td>\n",
       "      <td>[i don t know if this is the right place to as...</td>\n",
       "    </tr>\n",
       "    <tr>\n",
       "      <th>5</th>\n",
       "      <td>KNeighborsClassifier()</td>\n",
       "      <td>tvec</td>\n",
       "      <td>0.765133</td>\n",
       "      <td>0.234867</td>\n",
       "      <td>0.598039</td>\n",
       "      <td>0.928230</td>\n",
       "      <td>0.890511</td>\n",
       "      <td>0.715543</td>\n",
       "      <td>194</td>\n",
       "      <td>122</td>\n",
       "      <td>82</td>\n",
       "      <td>15</td>\n",
       "      <td>[our first game with players we get to the rai...</td>\n",
       "      <td>[recently i started playing mobile games again...</td>\n",
       "    </tr>\n",
       "    <tr>\n",
       "      <th>6</th>\n",
       "      <td>DecisionTreeClassifier(random_state=42)</td>\n",
       "      <td>cvec</td>\n",
       "      <td>0.782082</td>\n",
       "      <td>0.217918</td>\n",
       "      <td>0.725490</td>\n",
       "      <td>0.837321</td>\n",
       "      <td>0.813187</td>\n",
       "      <td>0.766839</td>\n",
       "      <td>175</td>\n",
       "      <td>148</td>\n",
       "      <td>56</td>\n",
       "      <td>34</td>\n",
       "      <td>[i was recently reminded of the pop o matic i ...</td>\n",
       "      <td>[recently i started playing mobile games again...</td>\n",
       "    </tr>\n",
       "    <tr>\n",
       "      <th>7</th>\n",
       "      <td>DecisionTreeClassifier(random_state=42)</td>\n",
       "      <td>tvec</td>\n",
       "      <td>0.731235</td>\n",
       "      <td>0.268765</td>\n",
       "      <td>0.745098</td>\n",
       "      <td>0.717703</td>\n",
       "      <td>0.720379</td>\n",
       "      <td>0.732530</td>\n",
       "      <td>150</td>\n",
       "      <td>152</td>\n",
       "      <td>52</td>\n",
       "      <td>59</td>\n",
       "      <td>[our first game with players we get to the rai...</td>\n",
       "      <td>[i don t know if this is the right place to as...</td>\n",
       "    </tr>\n",
       "    <tr>\n",
       "      <th>8</th>\n",
       "      <td>BaggingClassifier(base_estimator=DecisionTreeC...</td>\n",
       "      <td>cvec</td>\n",
       "      <td>0.799031</td>\n",
       "      <td>0.200969</td>\n",
       "      <td>0.779412</td>\n",
       "      <td>0.818182</td>\n",
       "      <td>0.807107</td>\n",
       "      <td>0.793017</td>\n",
       "      <td>171</td>\n",
       "      <td>159</td>\n",
       "      <td>45</td>\n",
       "      <td>38</td>\n",
       "      <td>[pleasegimme ur best print n play games, for e...</td>\n",
       "      <td>[i don t know if this is the right place to as...</td>\n",
       "    </tr>\n",
       "    <tr>\n",
       "      <th>9</th>\n",
       "      <td>BaggingClassifier(base_estimator=DecisionTreeC...</td>\n",
       "      <td>tvec</td>\n",
       "      <td>0.825666</td>\n",
       "      <td>0.174334</td>\n",
       "      <td>0.769608</td>\n",
       "      <td>0.880383</td>\n",
       "      <td>0.862637</td>\n",
       "      <td>0.813472</td>\n",
       "      <td>184</td>\n",
       "      <td>157</td>\n",
       "      <td>47</td>\n",
       "      <td>25</td>\n",
       "      <td>[it was carribean ship trading and battle base...</td>\n",
       "      <td>[recently i started playing mobile games again...</td>\n",
       "    </tr>\n",
       "    <tr>\n",
       "      <th>10</th>\n",
       "      <td>RandomForestClassifier(n_jobs=-1, random_state...</td>\n",
       "      <td>cvec</td>\n",
       "      <td>0.854722</td>\n",
       "      <td>0.145278</td>\n",
       "      <td>0.828431</td>\n",
       "      <td>0.880383</td>\n",
       "      <td>0.871134</td>\n",
       "      <td>0.849246</td>\n",
       "      <td>184</td>\n",
       "      <td>169</td>\n",
       "      <td>35</td>\n",
       "      <td>25</td>\n",
       "      <td>[pleasegimme ur best print n play games, for e...</td>\n",
       "      <td>[recently i started playing mobile games again...</td>\n",
       "    </tr>\n",
       "    <tr>\n",
       "      <th>11</th>\n",
       "      <td>RandomForestClassifier(n_jobs=-1, random_state...</td>\n",
       "      <td>tvec</td>\n",
       "      <td>0.861985</td>\n",
       "      <td>0.138015</td>\n",
       "      <td>0.833333</td>\n",
       "      <td>0.889952</td>\n",
       "      <td>0.880829</td>\n",
       "      <td>0.856423</td>\n",
       "      <td>186</td>\n",
       "      <td>170</td>\n",
       "      <td>34</td>\n",
       "      <td>23</td>\n",
       "      <td>[it was carribean ship trading and battle base...</td>\n",
       "      <td>[recently i started playing mobile games again...</td>\n",
       "    </tr>\n",
       "    <tr>\n",
       "      <th>12</th>\n",
       "      <td>ExtraTreesClassifier(n_jobs=-1, random_state=42)</td>\n",
       "      <td>cvec</td>\n",
       "      <td>0.830508</td>\n",
       "      <td>0.169492</td>\n",
       "      <td>0.848039</td>\n",
       "      <td>0.813397</td>\n",
       "      <td>0.816038</td>\n",
       "      <td>0.831731</td>\n",
       "      <td>170</td>\n",
       "      <td>173</td>\n",
       "      <td>31</td>\n",
       "      <td>39</td>\n",
       "      <td>[what s the most useless thing in your favouri...</td>\n",
       "      <td>[recently i started playing mobile games again...</td>\n",
       "    </tr>\n",
       "    <tr>\n",
       "      <th>13</th>\n",
       "      <td>ExtraTreesClassifier(n_jobs=-1, random_state=42)</td>\n",
       "      <td>tvec</td>\n",
       "      <td>0.871671</td>\n",
       "      <td>0.128329</td>\n",
       "      <td>0.857843</td>\n",
       "      <td>0.885167</td>\n",
       "      <td>0.879397</td>\n",
       "      <td>0.868486</td>\n",
       "      <td>185</td>\n",
       "      <td>175</td>\n",
       "      <td>29</td>\n",
       "      <td>24</td>\n",
       "      <td>[for example do you only need the app for were...</td>\n",
       "      <td>[recently i started playing mobile games again...</td>\n",
       "    </tr>\n",
       "  </tbody>\n",
       "</table>\n",
       "</div>"
      ],
      "text/plain": [
       "                                                model vectorizer  accuracy  \\\n",
       "0                                LogisticRegression()       cvec  0.849879   \n",
       "1                                LogisticRegression()       tvec  0.857143   \n",
       "2                                     MultinomialNB()       cvec  0.857143   \n",
       "3                                     MultinomialNB()       tvec  0.840194   \n",
       "4                              KNeighborsClassifier()       cvec  0.680387   \n",
       "5                              KNeighborsClassifier()       tvec  0.765133   \n",
       "6             DecisionTreeClassifier(random_state=42)       cvec  0.782082   \n",
       "7             DecisionTreeClassifier(random_state=42)       tvec  0.731235   \n",
       "8   BaggingClassifier(base_estimator=DecisionTreeC...       cvec  0.799031   \n",
       "9   BaggingClassifier(base_estimator=DecisionTreeC...       tvec  0.825666   \n",
       "10  RandomForestClassifier(n_jobs=-1, random_state...       cvec  0.854722   \n",
       "11  RandomForestClassifier(n_jobs=-1, random_state...       tvec  0.861985   \n",
       "12   ExtraTreesClassifier(n_jobs=-1, random_state=42)       cvec  0.830508   \n",
       "13   ExtraTreesClassifier(n_jobs=-1, random_state=42)       tvec  0.871671   \n",
       "\n",
       "    misclassification  sensitivity  specificity  precision  f1_score   tn  \\\n",
       "0            0.150121     0.813725     0.885167   0.873684  0.842640  185   \n",
       "1            0.142857     0.852941     0.861244   0.857143  0.855037  180   \n",
       "2            0.142857     0.897059     0.818182   0.828054  0.861176  171   \n",
       "3            0.159806     0.882353     0.799043   0.810811  0.845070  167   \n",
       "4            0.319613     0.490196     0.866029   0.781250  0.602410  181   \n",
       "5            0.234867     0.598039     0.928230   0.890511  0.715543  194   \n",
       "6            0.217918     0.725490     0.837321   0.813187  0.766839  175   \n",
       "7            0.268765     0.745098     0.717703   0.720379  0.732530  150   \n",
       "8            0.200969     0.779412     0.818182   0.807107  0.793017  171   \n",
       "9            0.174334     0.769608     0.880383   0.862637  0.813472  184   \n",
       "10           0.145278     0.828431     0.880383   0.871134  0.849246  184   \n",
       "11           0.138015     0.833333     0.889952   0.880829  0.856423  186   \n",
       "12           0.169492     0.848039     0.813397   0.816038  0.831731  170   \n",
       "13           0.128329     0.857843     0.885167   0.879397  0.868486  185   \n",
       "\n",
       "     tp   fn  fp                                            fn_list  \\\n",
       "0   166   38  24  [i was recently reminded of the pop o matic i ...   \n",
       "1   174   30  29  [it was carribean ship trading and battle base...   \n",
       "2   183   21  38  [for example do you only need the app for were...   \n",
       "3   180   24  42  [for example do you only need the app for were...   \n",
       "4   100  104  28  [it was hard to believe that there isn t any s...   \n",
       "5   122   82  15  [our first game with players we get to the rai...   \n",
       "6   148   56  34  [i was recently reminded of the pop o matic i ...   \n",
       "7   152   52  59  [our first game with players we get to the rai...   \n",
       "8   159   45  38  [pleasegimme ur best print n play games, for e...   \n",
       "9   157   47  25  [it was carribean ship trading and battle base...   \n",
       "10  169   35  25  [pleasegimme ur best print n play games, for e...   \n",
       "11  170   34  23  [it was carribean ship trading and battle base...   \n",
       "12  173   31  39  [what s the most useless thing in your favouri...   \n",
       "13  175   29  24  [for example do you only need the app for were...   \n",
       "\n",
       "                                              fp_list  \n",
       "0   [hello i recently got a ps also connected the ...  \n",
       "1   [recently i started playing mobile games again...  \n",
       "2   [recently i started playing mobile games again...  \n",
       "3   [recently i started playing mobile games again...  \n",
       "4   [i don t know if this is the right place to as...  \n",
       "5   [recently i started playing mobile games again...  \n",
       "6   [recently i started playing mobile games again...  \n",
       "7   [i don t know if this is the right place to as...  \n",
       "8   [i don t know if this is the right place to as...  \n",
       "9   [recently i started playing mobile games again...  \n",
       "10  [recently i started playing mobile games again...  \n",
       "11  [recently i started playing mobile games again...  \n",
       "12  [recently i started playing mobile games again...  \n",
       "13  [recently i started playing mobile games again...  "
      ]
     },
     "execution_count": 152,
     "metadata": {},
     "output_type": "execute_result"
    }
   ],
   "source": [
    "df_results"
   ]
  },
  {
   "cell_type": "markdown",
   "id": "5bdfb4b5",
   "metadata": {},
   "source": [
    "### Observations: \n",
    "\n",
    "The random forest model using a TdidfVectorizer achieved an accuracy of 88.14% as well as sensivity and specificity of 85.78% and 90.43% respectively."
   ]
  },
  {
   "cell_type": "code",
   "execution_count": 153,
   "id": "05ffdfb2",
   "metadata": {},
   "outputs": [
    {
     "data": {
      "image/png": "[encoded data removed]",
      "text/plain": [
       "<Figure size 1296x720 with 2 Axes>"
      ]
     },
     "metadata": {
      "needs_background": "light"
     },
     "output_type": "display_data"
    }
   ],
   "source": [
    "plot_top_features_tree([pipe_et_cvec_gridsearch, pipe_et_tvec_gridsearch], ['cvec', 'tvec'], 'et', 10)"
   ]
  },
  {
   "cell_type": "markdown",
   "id": "5752e8b2",
   "metadata": {},
   "source": [
    "### Observations: \n",
    "\n",
    "From the 2 barcharts above, it can be observed that the top 10 features that are important in correctly classifying the 2 subrreddit groups. The higher the score of the features, the more important these features are to correctly classify the 2 groups. However, one limitation is that we do not know which features/words are associated with which subreddit group."
   ]
  },
  {
   "cell_type": "markdown",
   "id": "54693bc8",
   "metadata": {},
   "source": [
    "## Misclassification Analysis"
   ]
  },
  {
   "cell_type": "markdown",
   "id": "e00ebe83",
   "metadata": {},
   "source": [
    "### Analysis is done for Naive Bayes and Logistic Regression as relative log probabilty of Naive Bayes and coefficient of Logistic regression can determine which features will affect how the posts can be classified"
   ]
  },
  {
   "cell_type": "code",
   "execution_count": 154,
   "id": "754ea27a",
   "metadata": {},
   "outputs": [],
   "source": [
    "def check_fp_fn(df, row_list, gs_model_list, fp_test):\n",
    "    fp_count = 0\n",
    "    fn_count = 0\n",
    "    count = 0\n",
    "    \n",
    "    if fp_test:\n",
    "        test = 'fp_list'\n",
    "    else:\n",
    "        test = 'fn_list'\n",
    "        \n",
    "    for idx, gs_model in zip(row_list, gs_model_list):\n",
    "\n",
    "        if (df_results['vectorizer'][idx] == 'cvec'):\n",
    "#             print('in cvec')\n",
    "            features = gs_model.best_estimator_['cvec'].get_feature_names()\n",
    "                     \n",
    "        elif (df_results['vectorizer'][idx] == 'tvec'):\n",
    "#             print('tvec')\n",
    "            features = gs_model.best_estimator_['tvec'].get_feature_names()\n",
    "                  \n",
    "                        \n",
    "        if type(df_results['model'][idx]) == type(LogisticRegression()):\n",
    "            \n",
    "#             if test_fp:\n",
    "            # associated with class 1\n",
    "            coef_idx_desc = gs_model.best_estimator_['logreg'].coef_[0].argsort()[::-1]\n",
    "            # associated with class 0\n",
    "            coef_idx_asc = gs_model.best_estimator_['logreg'].coef_[0].argsort()\n",
    "            feature_desc = [features[i] for i in coef_idx_desc]\n",
    "            feature_asc = [features[i] for i in coef_idx_asc]\n",
    "            \n",
    "\n",
    "            for sentence in df_results[test][idx]:\n",
    "                count += 1\n",
    "                word_list = sentence.split()\n",
    "                for word in word_list:\n",
    "                    if word in feature_desc[:30]:\n",
    "                        fp_count += 1\n",
    "                    elif word in feature_asc[:30]:\n",
    "                        fn_count += 1\n",
    "                if fp_count > fn_count:\n",
    "                    print(f'Classified \"Boardgames\" as there is more words occurence that are useful in classifying boardgames')#, fp_count, fn_count, count)\n",
    "                elif fn_count > fp_count:\n",
    "                    print('Classified MobileGames\" as there is more words occurence that are useful in classifying MobileGames')#, fn_count, fp_count, count)\n",
    "                else:\n",
    "                    print('Hard to classify as there is same number of words occurence that are useful in classifying boardgames and MobileGames')#, fn_count, fp_count, count)\n",
    "            \n",
    "        elif type(df_results['model'][idx]) == type(MultinomialNB()):\n",
    "\n",
    "            #  get the probability diff \n",
    "            # higher means tend towards boardgame\n",
    "            # associated with class 1\n",
    "            log_prob_diff_bg = gs_model.best_estimator_['nb'].feature_log_prob_[1] \\\n",
    "                                - gs_model.best_estimator_['nb'].feature_log_prob_[0]\n",
    "            # sort the index of coef in descending order\n",
    "            log_prob_diff_bg_idx = log_prob_diff_bg.argsort()[::-1]\n",
    "            # map index to feature list\n",
    "            feature_bg = [features[i] for i in log_prob_diff_bg_idx]\n",
    "#             # sort coef in desc order\n",
    "#             feature_impt_bg = np.sort(log_prob_diff_bg)[::-1]\n",
    "            \n",
    "            #  get the probability diff \n",
    "            # higher means tend towards mobilegame\n",
    "            # associated with class 0\n",
    "            log_prob_diff_mg = gs_model.best_estimator_['nb'].feature_log_prob_[0] \\\n",
    "                                - gs_model.best_estimator_['nb'].feature_log_prob_[1]\n",
    "            # sort the index of coef in descending order\n",
    "            log_prob_diff_mg_idx = log_prob_diff_mg.argsort()[::-1]\n",
    "            # map index to feature list\n",
    "            feature_mg = [features[i] for i in log_prob_diff_mg_idx]\n",
    "#             # sort coef in desc order\n",
    "#             feature_impt_mg = np.sort(log_prob_diff_mg)[::-1]\n",
    "            \n",
    "            for sentence in df_results[test][idx]:\n",
    "                count += 1\n",
    "                word_list = sentence.split()\n",
    "                for word in word_list:\n",
    "                    if word in feature_bg[:30]:\n",
    "                        fp_count += 1\n",
    "                    elif word in feature_mg[:30]:\n",
    "                        fn_count += 1\n",
    "                if fp_count > fn_count:\n",
    "                    print(f'Classified \"Boardgames\" as there is more words occurence that are useful in classifying boardgames')#, fp_count, fn_count, count)\n",
    "                elif fn_count > fp_count:\n",
    "                    print('Classified MobileGames\" as there is more words occurence that are useful in classifying MobileGames')#, fn_count, fp_count, count)\n",
    "                else:\n",
    "                    print('Hard to classify as there is same number of words occurence that are useful in classifying boardgames and MobileGames')#, fn_count, fp_count, count)\n"
   ]
  },
  {
   "cell_type": "markdown",
   "id": "d581e39c",
   "metadata": {},
   "source": [
    "The function above try to analzye the false negative and false positive list on why these posts are classified wrongly. This function take the posts in the false positive list and try to check for if most of the words in a post appears in the top 30 words occurence that are useful in classifying boardgames and vice versa for mobile games."
   ]
  },
  {
   "cell_type": "markdown",
   "id": "c82e16e0",
   "metadata": {},
   "source": [
    "The function is tested on the false negative list below and the results show that majority of the posts have more words occurence in classifying MobileGames, hence those posts are wrongly classified as MobileGames instead boardgames. This might due to the lack of key words that are available in the posts that cause the model to misclassify them. One possible way to reduce the misclassification can be by adding the common words that occur in the false negative or false positive post to the stopwords."
   ]
  },
  {
   "cell_type": "code",
   "execution_count": 155,
   "id": "efaa5a54",
   "metadata": {},
   "outputs": [
    {
     "name": "stdout",
     "output_type": "stream",
     "text": [
      "Hard to classify as there is same number of words occurence that are useful in classifying boardgames and MobileGames\n",
      "Hard to classify as there is same number of words occurence that are useful in classifying boardgames and MobileGames\n",
      "Hard to classify as there is same number of words occurence that are useful in classifying boardgames and MobileGames\n",
      "Classified MobileGames\" as there is more words occurence that are useful in classifying MobileGames\n",
      "Classified MobileGames\" as there is more words occurence that are useful in classifying MobileGames\n",
      "Classified MobileGames\" as there is more words occurence that are useful in classifying MobileGames\n",
      "Classified MobileGames\" as there is more words occurence that are useful in classifying MobileGames\n",
      "Classified MobileGames\" as there is more words occurence that are useful in classifying MobileGames\n",
      "Classified MobileGames\" as there is more words occurence that are useful in classifying MobileGames\n",
      "Classified MobileGames\" as there is more words occurence that are useful in classifying MobileGames\n",
      "Classified MobileGames\" as there is more words occurence that are useful in classifying MobileGames\n",
      "Classified MobileGames\" as there is more words occurence that are useful in classifying MobileGames\n",
      "Classified MobileGames\" as there is more words occurence that are useful in classifying MobileGames\n",
      "Classified MobileGames\" as there is more words occurence that are useful in classifying MobileGames\n",
      "Classified MobileGames\" as there is more words occurence that are useful in classifying MobileGames\n",
      "Classified MobileGames\" as there is more words occurence that are useful in classifying MobileGames\n",
      "Classified MobileGames\" as there is more words occurence that are useful in classifying MobileGames\n",
      "Classified MobileGames\" as there is more words occurence that are useful in classifying MobileGames\n",
      "Classified MobileGames\" as there is more words occurence that are useful in classifying MobileGames\n",
      "Classified MobileGames\" as there is more words occurence that are useful in classifying MobileGames\n",
      "Classified MobileGames\" as there is more words occurence that are useful in classifying MobileGames\n",
      "Classified MobileGames\" as there is more words occurence that are useful in classifying MobileGames\n",
      "Classified MobileGames\" as there is more words occurence that are useful in classifying MobileGames\n",
      "Classified MobileGames\" as there is more words occurence that are useful in classifying MobileGames\n",
      "Classified MobileGames\" as there is more words occurence that are useful in classifying MobileGames\n",
      "Classified MobileGames\" as there is more words occurence that are useful in classifying MobileGames\n",
      "Classified MobileGames\" as there is more words occurence that are useful in classifying MobileGames\n",
      "Classified MobileGames\" as there is more words occurence that are useful in classifying MobileGames\n",
      "Classified MobileGames\" as there is more words occurence that are useful in classifying MobileGames\n",
      "Classified MobileGames\" as there is more words occurence that are useful in classifying MobileGames\n",
      "Classified MobileGames\" as there is more words occurence that are useful in classifying MobileGames\n",
      "Classified MobileGames\" as there is more words occurence that are useful in classifying MobileGames\n",
      "Classified MobileGames\" as there is more words occurence that are useful in classifying MobileGames\n",
      "Classified MobileGames\" as there is more words occurence that are useful in classifying MobileGames\n",
      "Classified MobileGames\" as there is more words occurence that are useful in classifying MobileGames\n",
      "Classified MobileGames\" as there is more words occurence that are useful in classifying MobileGames\n",
      "Classified MobileGames\" as there is more words occurence that are useful in classifying MobileGames\n",
      "Hard to classify as there is same number of words occurence that are useful in classifying boardgames and MobileGames\n",
      "Classified MobileGames\" as there is more words occurence that are useful in classifying MobileGames\n",
      "Classified MobileGames\" as there is more words occurence that are useful in classifying MobileGames\n",
      "Classified MobileGames\" as there is more words occurence that are useful in classifying MobileGames\n",
      "Classified MobileGames\" as there is more words occurence that are useful in classifying MobileGames\n",
      "Classified MobileGames\" as there is more words occurence that are useful in classifying MobileGames\n",
      "Classified MobileGames\" as there is more words occurence that are useful in classifying MobileGames\n",
      "Classified MobileGames\" as there is more words occurence that are useful in classifying MobileGames\n"
     ]
    }
   ],
   "source": [
    "check_fp_fn(df_results, [2, 3], [pipe_nb_cvec_gridsearch, pipe_nb_tvec_gridsearch], False)"
   ]
  },
  {
   "cell_type": "code",
   "execution_count": 161,
   "id": "9aa83ba3",
   "metadata": {},
   "outputs": [
    {
     "data": {
      "text/html": [
       "<div>\n",
       "<style scoped>\n",
       "    .dataframe tbody tr th:only-of-type {\n",
       "        vertical-align: middle;\n",
       "    }\n",
       "\n",
       "    .dataframe tbody tr th {\n",
       "        vertical-align: top;\n",
       "    }\n",
       "\n",
       "    .dataframe thead th {\n",
       "        text-align: right;\n",
       "    }\n",
       "</style>\n",
       "<table border=\"1\" class=\"dataframe\">\n",
       "  <thead>\n",
       "    <tr style=\"text-align: right;\">\n",
       "      <th></th>\n",
       "      <th>model</th>\n",
       "      <th>vectorizer</th>\n",
       "      <th>accuracy</th>\n",
       "      <th>misclassification</th>\n",
       "      <th>sensitivity</th>\n",
       "      <th>specificity</th>\n",
       "      <th>precision</th>\n",
       "      <th>f1_score</th>\n",
       "      <th>tn</th>\n",
       "      <th>tp</th>\n",
       "      <th>fn</th>\n",
       "      <th>fp</th>\n",
       "      <th>fn_list</th>\n",
       "      <th>fp_list</th>\n",
       "    </tr>\n",
       "  </thead>\n",
       "  <tbody>\n",
       "    <tr>\n",
       "      <th>0</th>\n",
       "      <td>LogisticRegression()</td>\n",
       "      <td>cvec</td>\n",
       "      <td>0.849879</td>\n",
       "      <td>0.150121</td>\n",
       "      <td>0.813725</td>\n",
       "      <td>0.885167</td>\n",
       "      <td>0.873684</td>\n",
       "      <td>0.842640</td>\n",
       "      <td>185</td>\n",
       "      <td>166</td>\n",
       "      <td>38</td>\n",
       "      <td>24</td>\n",
       "      <td>[i was recently reminded of the pop o matic i ...</td>\n",
       "      <td>[hello i recently got a ps also connected the ...</td>\n",
       "    </tr>\n",
       "    <tr>\n",
       "      <th>1</th>\n",
       "      <td>LogisticRegression()</td>\n",
       "      <td>tvec</td>\n",
       "      <td>0.857143</td>\n",
       "      <td>0.142857</td>\n",
       "      <td>0.852941</td>\n",
       "      <td>0.861244</td>\n",
       "      <td>0.857143</td>\n",
       "      <td>0.855037</td>\n",
       "      <td>180</td>\n",
       "      <td>174</td>\n",
       "      <td>30</td>\n",
       "      <td>29</td>\n",
       "      <td>[it was carribean ship trading and battle base...</td>\n",
       "      <td>[recently i started playing mobile games again...</td>\n",
       "    </tr>\n",
       "    <tr>\n",
       "      <th>2</th>\n",
       "      <td>MultinomialNB()</td>\n",
       "      <td>cvec</td>\n",
       "      <td>0.857143</td>\n",
       "      <td>0.142857</td>\n",
       "      <td>0.897059</td>\n",
       "      <td>0.818182</td>\n",
       "      <td>0.828054</td>\n",
       "      <td>0.861176</td>\n",
       "      <td>171</td>\n",
       "      <td>183</td>\n",
       "      <td>21</td>\n",
       "      <td>38</td>\n",
       "      <td>[for example do you only need the app for were...</td>\n",
       "      <td>[recently i started playing mobile games again...</td>\n",
       "    </tr>\n",
       "    <tr>\n",
       "      <th>3</th>\n",
       "      <td>MultinomialNB()</td>\n",
       "      <td>tvec</td>\n",
       "      <td>0.840194</td>\n",
       "      <td>0.159806</td>\n",
       "      <td>0.882353</td>\n",
       "      <td>0.799043</td>\n",
       "      <td>0.810811</td>\n",
       "      <td>0.845070</td>\n",
       "      <td>167</td>\n",
       "      <td>180</td>\n",
       "      <td>24</td>\n",
       "      <td>42</td>\n",
       "      <td>[for example do you only need the app for were...</td>\n",
       "      <td>[recently i started playing mobile games again...</td>\n",
       "    </tr>\n",
       "    <tr>\n",
       "      <th>4</th>\n",
       "      <td>KNeighborsClassifier()</td>\n",
       "      <td>cvec</td>\n",
       "      <td>0.680387</td>\n",
       "      <td>0.319613</td>\n",
       "      <td>0.490196</td>\n",
       "      <td>0.866029</td>\n",
       "      <td>0.781250</td>\n",
       "      <td>0.602410</td>\n",
       "      <td>181</td>\n",
       "      <td>100</td>\n",
       "      <td>104</td>\n",
       "      <td>28</td>\n",
       "      <td>[it was hard to believe that there isn t any s...</td>\n",
       "      <td>[i don t know if this is the right place to as...</td>\n",
       "    </tr>\n",
       "    <tr>\n",
       "      <th>5</th>\n",
       "      <td>KNeighborsClassifier()</td>\n",
       "      <td>tvec</td>\n",
       "      <td>0.765133</td>\n",
       "      <td>0.234867</td>\n",
       "      <td>0.598039</td>\n",
       "      <td>0.928230</td>\n",
       "      <td>0.890511</td>\n",
       "      <td>0.715543</td>\n",
       "      <td>194</td>\n",
       "      <td>122</td>\n",
       "      <td>82</td>\n",
       "      <td>15</td>\n",
       "      <td>[our first game with players we get to the rai...</td>\n",
       "      <td>[recently i started playing mobile games again...</td>\n",
       "    </tr>\n",
       "    <tr>\n",
       "      <th>6</th>\n",
       "      <td>DecisionTreeClassifier(random_state=42)</td>\n",
       "      <td>cvec</td>\n",
       "      <td>0.782082</td>\n",
       "      <td>0.217918</td>\n",
       "      <td>0.725490</td>\n",
       "      <td>0.837321</td>\n",
       "      <td>0.813187</td>\n",
       "      <td>0.766839</td>\n",
       "      <td>175</td>\n",
       "      <td>148</td>\n",
       "      <td>56</td>\n",
       "      <td>34</td>\n",
       "      <td>[i was recently reminded of the pop o matic i ...</td>\n",
       "      <td>[recently i started playing mobile games again...</td>\n",
       "    </tr>\n",
       "    <tr>\n",
       "      <th>7</th>\n",
       "      <td>DecisionTreeClassifier(random_state=42)</td>\n",
       "      <td>tvec</td>\n",
       "      <td>0.731235</td>\n",
       "      <td>0.268765</td>\n",
       "      <td>0.745098</td>\n",
       "      <td>0.717703</td>\n",
       "      <td>0.720379</td>\n",
       "      <td>0.732530</td>\n",
       "      <td>150</td>\n",
       "      <td>152</td>\n",
       "      <td>52</td>\n",
       "      <td>59</td>\n",
       "      <td>[our first game with players we get to the rai...</td>\n",
       "      <td>[i don t know if this is the right place to as...</td>\n",
       "    </tr>\n",
       "    <tr>\n",
       "      <th>8</th>\n",
       "      <td>BaggingClassifier(base_estimator=DecisionTreeC...</td>\n",
       "      <td>cvec</td>\n",
       "      <td>0.799031</td>\n",
       "      <td>0.200969</td>\n",
       "      <td>0.779412</td>\n",
       "      <td>0.818182</td>\n",
       "      <td>0.807107</td>\n",
       "      <td>0.793017</td>\n",
       "      <td>171</td>\n",
       "      <td>159</td>\n",
       "      <td>45</td>\n",
       "      <td>38</td>\n",
       "      <td>[pleasegimme ur best print n play games, for e...</td>\n",
       "      <td>[i don t know if this is the right place to as...</td>\n",
       "    </tr>\n",
       "    <tr>\n",
       "      <th>9</th>\n",
       "      <td>BaggingClassifier(base_estimator=DecisionTreeC...</td>\n",
       "      <td>tvec</td>\n",
       "      <td>0.825666</td>\n",
       "      <td>0.174334</td>\n",
       "      <td>0.769608</td>\n",
       "      <td>0.880383</td>\n",
       "      <td>0.862637</td>\n",
       "      <td>0.813472</td>\n",
       "      <td>184</td>\n",
       "      <td>157</td>\n",
       "      <td>47</td>\n",
       "      <td>25</td>\n",
       "      <td>[it was carribean ship trading and battle base...</td>\n",
       "      <td>[recently i started playing mobile games again...</td>\n",
       "    </tr>\n",
       "    <tr>\n",
       "      <th>10</th>\n",
       "      <td>RandomForestClassifier(n_jobs=-1, random_state...</td>\n",
       "      <td>cvec</td>\n",
       "      <td>0.854722</td>\n",
       "      <td>0.145278</td>\n",
       "      <td>0.828431</td>\n",
       "      <td>0.880383</td>\n",
       "      <td>0.871134</td>\n",
       "      <td>0.849246</td>\n",
       "      <td>184</td>\n",
       "      <td>169</td>\n",
       "      <td>35</td>\n",
       "      <td>25</td>\n",
       "      <td>[pleasegimme ur best print n play games, for e...</td>\n",
       "      <td>[recently i started playing mobile games again...</td>\n",
       "    </tr>\n",
       "    <tr>\n",
       "      <th>11</th>\n",
       "      <td>RandomForestClassifier(n_jobs=-1, random_state...</td>\n",
       "      <td>tvec</td>\n",
       "      <td>0.861985</td>\n",
       "      <td>0.138015</td>\n",
       "      <td>0.833333</td>\n",
       "      <td>0.889952</td>\n",
       "      <td>0.880829</td>\n",
       "      <td>0.856423</td>\n",
       "      <td>186</td>\n",
       "      <td>170</td>\n",
       "      <td>34</td>\n",
       "      <td>23</td>\n",
       "      <td>[it was carribean ship trading and battle base...</td>\n",
       "      <td>[recently i started playing mobile games again...</td>\n",
       "    </tr>\n",
       "    <tr>\n",
       "      <th>12</th>\n",
       "      <td>ExtraTreesClassifier(n_jobs=-1, random_state=42)</td>\n",
       "      <td>cvec</td>\n",
       "      <td>0.830508</td>\n",
       "      <td>0.169492</td>\n",
       "      <td>0.848039</td>\n",
       "      <td>0.813397</td>\n",
       "      <td>0.816038</td>\n",
       "      <td>0.831731</td>\n",
       "      <td>170</td>\n",
       "      <td>173</td>\n",
       "      <td>31</td>\n",
       "      <td>39</td>\n",
       "      <td>[what s the most useless thing in your favouri...</td>\n",
       "      <td>[recently i started playing mobile games again...</td>\n",
       "    </tr>\n",
       "    <tr>\n",
       "      <th>13</th>\n",
       "      <td>ExtraTreesClassifier(n_jobs=-1, random_state=42)</td>\n",
       "      <td>tvec</td>\n",
       "      <td>0.871671</td>\n",
       "      <td>0.128329</td>\n",
       "      <td>0.857843</td>\n",
       "      <td>0.885167</td>\n",
       "      <td>0.879397</td>\n",
       "      <td>0.868486</td>\n",
       "      <td>185</td>\n",
       "      <td>175</td>\n",
       "      <td>29</td>\n",
       "      <td>24</td>\n",
       "      <td>[for example do you only need the app for were...</td>\n",
       "      <td>[recently i started playing mobile games again...</td>\n",
       "    </tr>\n",
       "  </tbody>\n",
       "</table>\n",
       "</div>"
      ],
      "text/plain": [
       "                                                model vectorizer  accuracy  \\\n",
       "0                                LogisticRegression()       cvec  0.849879   \n",
       "1                                LogisticRegression()       tvec  0.857143   \n",
       "2                                     MultinomialNB()       cvec  0.857143   \n",
       "3                                     MultinomialNB()       tvec  0.840194   \n",
       "4                              KNeighborsClassifier()       cvec  0.680387   \n",
       "5                              KNeighborsClassifier()       tvec  0.765133   \n",
       "6             DecisionTreeClassifier(random_state=42)       cvec  0.782082   \n",
       "7             DecisionTreeClassifier(random_state=42)       tvec  0.731235   \n",
       "8   BaggingClassifier(base_estimator=DecisionTreeC...       cvec  0.799031   \n",
       "9   BaggingClassifier(base_estimator=DecisionTreeC...       tvec  0.825666   \n",
       "10  RandomForestClassifier(n_jobs=-1, random_state...       cvec  0.854722   \n",
       "11  RandomForestClassifier(n_jobs=-1, random_state...       tvec  0.861985   \n",
       "12   ExtraTreesClassifier(n_jobs=-1, random_state=42)       cvec  0.830508   \n",
       "13   ExtraTreesClassifier(n_jobs=-1, random_state=42)       tvec  0.871671   \n",
       "\n",
       "    misclassification  sensitivity  specificity  precision  f1_score   tn  \\\n",
       "0            0.150121     0.813725     0.885167   0.873684  0.842640  185   \n",
       "1            0.142857     0.852941     0.861244   0.857143  0.855037  180   \n",
       "2            0.142857     0.897059     0.818182   0.828054  0.861176  171   \n",
       "3            0.159806     0.882353     0.799043   0.810811  0.845070  167   \n",
       "4            0.319613     0.490196     0.866029   0.781250  0.602410  181   \n",
       "5            0.234867     0.598039     0.928230   0.890511  0.715543  194   \n",
       "6            0.217918     0.725490     0.837321   0.813187  0.766839  175   \n",
       "7            0.268765     0.745098     0.717703   0.720379  0.732530  150   \n",
       "8            0.200969     0.779412     0.818182   0.807107  0.793017  171   \n",
       "9            0.174334     0.769608     0.880383   0.862637  0.813472  184   \n",
       "10           0.145278     0.828431     0.880383   0.871134  0.849246  184   \n",
       "11           0.138015     0.833333     0.889952   0.880829  0.856423  186   \n",
       "12           0.169492     0.848039     0.813397   0.816038  0.831731  170   \n",
       "13           0.128329     0.857843     0.885167   0.879397  0.868486  185   \n",
       "\n",
       "     tp   fn  fp                                            fn_list  \\\n",
       "0   166   38  24  [i was recently reminded of the pop o matic i ...   \n",
       "1   174   30  29  [it was carribean ship trading and battle base...   \n",
       "2   183   21  38  [for example do you only need the app for were...   \n",
       "3   180   24  42  [for example do you only need the app for were...   \n",
       "4   100  104  28  [it was hard to believe that there isn t any s...   \n",
       "5   122   82  15  [our first game with players we get to the rai...   \n",
       "6   148   56  34  [i was recently reminded of the pop o matic i ...   \n",
       "7   152   52  59  [our first game with players we get to the rai...   \n",
       "8   159   45  38  [pleasegimme ur best print n play games, for e...   \n",
       "9   157   47  25  [it was carribean ship trading and battle base...   \n",
       "10  169   35  25  [pleasegimme ur best print n play games, for e...   \n",
       "11  170   34  23  [it was carribean ship trading and battle base...   \n",
       "12  173   31  39  [what s the most useless thing in your favouri...   \n",
       "13  175   29  24  [for example do you only need the app for were...   \n",
       "\n",
       "                                              fp_list  \n",
       "0   [hello i recently got a ps also connected the ...  \n",
       "1   [recently i started playing mobile games again...  \n",
       "2   [recently i started playing mobile games again...  \n",
       "3   [recently i started playing mobile games again...  \n",
       "4   [i don t know if this is the right place to as...  \n",
       "5   [recently i started playing mobile games again...  \n",
       "6   [recently i started playing mobile games again...  \n",
       "7   [i don t know if this is the right place to as...  \n",
       "8   [i don t know if this is the right place to as...  \n",
       "9   [recently i started playing mobile games again...  \n",
       "10  [recently i started playing mobile games again...  \n",
       "11  [recently i started playing mobile games again...  \n",
       "12  [recently i started playing mobile games again...  \n",
       "13  [recently i started playing mobile games again...  "
      ]
     },
     "execution_count": 161,
     "metadata": {},
     "output_type": "execute_result"
    }
   ],
   "source": [
    "df_results#.sort_values(by='accuracy', ascending=False)"
   ]
  },
  {
   "cell_type": "code",
   "execution_count": 160,
   "id": "cb67550e",
   "metadata": {},
   "outputs": [],
   "source": [
    "# for sentence in df_results['fp_list'][0]:\n",
    "#     print(sentence + '\\n')"
   ]
  },
  {
   "cell_type": "markdown",
   "id": "0fcfd45e",
   "metadata": {},
   "source": [
    "## Conclusion"
   ]
  },
  {
   "cell_type": "markdown",
   "id": "cb50a5ff",
   "metadata": {},
   "source": [
    "| Model | Vectorizer | Misclassification | Accuracy | Sensitivity | Specificity | Precision | F1_score |\n",
    "| --- | --- | --- | --- | --- | --- | --- | --- |\n",
    "| Logistic Regression | cvec | 0.849 | 0.151 | 0.814 | 0.885 | 0.874 | 0.842 |\n",
    "| Logistic Regression | tvec | 0.857 | 0.143 | 0.852 | 0.861 | 0.857 | 0.855 |\n",
    "| MultinomialNB | cvec | 0.857 | 0.143 | 0.897 | 0.818 | 0.828 | 0.861 |\n",
    "| MultinomialNB | tvec | 0.84 | 0.16 | 0.882 | 0.799 | 0.811 | 0.845 |\n",
    "| KNeighborsClassifier | cvec | 0.68 | 0.32 | 0.49 | 0.866 | 0.781 | 0.602 |\n",
    "| KNeighborsClassifier | tvec | 0.765 | 0.235 | 0.598 | 0.928 | 0.8901 | 0.716 |\n",
    "| DecisionTreeClassifier | cvec | 0.782 | 0.217 | 0.725 | 0.837 | 0.813 | 0.767 |\n",
    "| DecisionTreeClassifier | tvec | 0.731 | 0.269 | 0.745 | 0.7178 | 0.72 | 0.733 |\n",
    "| BaggingClassifier | cvec | 0.799 | 0.201 | 0.779 | 0.818 | 0.807 | 0.793 |\n",
    "| BaggingClassifier | tvec | 0.825 | 0.174 | 0.77 | 0.88 | 0.863 | 0.813 |\n",
    "| RandomForestClassifier | cvec | 0.855 | 0.145 | 0.828 | 0.88 | 0.871 | 0.849 |\n",
    "| RandomForestClassifier | tvec | 0.862 | 0.138 | 0.833 | 0.89 | 0.881 | 0.856 |\n",
    "| ExtraTreesClassifier | cvec | 0.831 | 0.169 | 0.848 | 0.813 | 0.816 | 0.832 |\n",
    "| ExtraTreesClassifier | tvec | 0.872 | 0.128 | 0.858 | 0.885 | 0.879 | 0.868 |"
   ]
  },
  {
   "cell_type": "markdown",
   "id": "4b2e5a29",
   "metadata": {},
   "source": [
    "In this section, 14 models have been built for classification purpose. As our aim is to correctly classify the 2 groups, hence specificity and sensitivty are also important metrics in addition to accuracy. As the Extra Tree classifier with TfidfVectorizer achieve the highest accuracy of 87.1% as well as sensitivity and specificity of 85.8% and 88.5% respectively, this model will be chosen for the model to be used to classify between MobileGaming and Boardgames."
   ]
  }
 ],
 "metadata": {
  "kernelspec": {
   "display_name": "Python 3",
   "language": "python",
   "name": "python3"
  },
  "language_info": {
   "codemirror_mode": {
    "name": "ipython",
    "version": 3
   },
   "file_extension": ".py",
   "mimetype": "text/x-python",
   "name": "python",
   "nbconvert_exporter": "python",
   "pygments_lexer": "ipython3",
   "version": "3.8.8"
  },
  "toc": {
   "base_numbering": 1,
   "nav_menu": {},
   "number_sections": true,
   "sideBar": true,
   "skip_h1_title": true,
   "title_cell": "Table of Contents",
   "title_sidebar": "Contents",
   "toc_cell": false,
   "toc_position": {},
   "toc_section_display": true,
   "toc_window_display": true
  }
 },
 "nbformat": 4,
 "nbformat_minor": 5
}
