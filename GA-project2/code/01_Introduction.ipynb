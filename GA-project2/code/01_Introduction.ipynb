{
 "cells": [
  {
   "cell_type": "markdown",
   "id": "7d44ec16",
   "metadata": {},
   "source": [
    "<img src=\"http://imgur.com/1ZcRyrc.png\" style=\"float: left; margin: 20px; height: 55px\">\n",
    "\n",
    "# Project 2 - Ames Housing Data and Kaggle Challenge"
   ]
  },
  {
   "cell_type": "markdown",
   "id": "c3c64a00",
   "metadata": {},
   "source": [
    "# Part 1 : Introduction\n"
   ]
  },
  {
   "cell_type": "markdown",
   "id": "b26afdc8",
   "metadata": {},
   "source": [
    "## Problem Statement\n",
    "\n",
    "### Using the Ames Housing Dataset that is available on [Kaggle](https://www.kaggle.com/c/dsi-us-6-project-2-regression-challenge), this project aims to identify features that are influential in predicting the housing price and determine the best regression model for predicting Sale Price of House in Ames. With this model, it will be beneficial to home owners and potential buyers for them to have an estimate gauge of the price in mind if they decided to sell or buy a property. It can be also useful to real-estate agents so they can help their customers to buy or sell a property at the appropriate price."
   ]
  },
  {
   "cell_type": "markdown",
   "id": "9cf2fe32",
   "metadata": {},
   "source": [
    "### Contents:\n",
    "* [Organisation of Notebooks](#Organisation-of-Notebooks)\n",
    "* [Executive Summary](#Executive-Summary)\n",
    "* [Data Dictionary](#Data-Dictionary)"
   ]
  },
  {
   "cell_type": "markdown",
   "id": "958fe19b",
   "metadata": {},
   "source": [
    "## Organistation of Notebooks:\n",
    "1. Introduction\n",
    "2. [Data Preprocessing and EDA](./02_EDA_DataPreprocessing_FeatureEngineering.ipynb)\n",
    "3. [Model Validation](./03_ModelValidation.ipynb)\n",
    "4. [Model Testing with Kaggle Dataset](./04_ModelTesting.ipynb)"
   ]
  },
  {
   "cell_type": "markdown",
   "id": "4bc3f5e4",
   "metadata": {},
   "source": [
    "## Executive Summary"
   ]
  },
  {
   "cell_type": "markdown",
   "id": "d6f41003",
   "metadata": {},
   "source": [
    "With more than 80 over features that could possibly influence the housing prices in Ames, it is impossible for buyers/sellers or even property agents to go through all the features one by one to decide on the sale price of a property. Hence, this project aims to create a regression model that can help to make prediction based on some of the more important features.\n",
    "\n",
    "After coming out with 5 different models in this project, a Lasso regression model had a comparative performance with ElasticNet regression model in terms of root mean square error (RMSE). However, the Lasso regression model also results in more than 50% reduction in the features required in the other models, hence this model is chosen for the prediction of house price. The Lasso regression also show that the top 3 predictors are the location of the house (Neighborhood), the total living area above ground (Gr Liv Area) and the overall quality of the house (Overall Qual).\n",
    "\n",
    "One thing to take note of the Lasso regression model is that the actual test dataset has a better RMSE than the train dataset. This might due to overfitting, hence the model can still be improved by re-iterating and check which of the features can be filtered out to avoid overfitting.\n",
    "\n",
    "However, in reality, alot of other factors not included in the present dataset can affect the sale price of a property. Hence, the aim of this model is to act as a guideline for sellers/buyers as well as property agents to have a estimate range of price given the features of a property."
   ]
  },
  {
   "cell_type": "markdown",
   "id": "acad5198",
   "metadata": {},
   "source": [
    "## Data Dictionary "
   ]
  },
  {
   "cell_type": "markdown",
   "id": "ebb3b4bc",
   "metadata": {},
   "source": [
    "The data dictionary for the Ames Housing Dataset is provided below:"
   ]
  },
  {
   "cell_type": "markdown",
   "id": "ccc62827",
   "metadata": {},
   "source": [
    "| Feature | Feature Type | Data Type | Dataset | Description |\n",
    "| --- | --- | --- | --- | --- |\n",
    "| Id | Discrete | Integer | Train/Test | Observation Number |\n",
    "| PID | Nominal | Integer | Train/Test | Parcel Identification Number |\n",
    "| MS SubClass | Nominal | Integer | Train/Test | Type of Dwelling Sold|\n",
    "| MS Zoning | Nominal | Object | Train/Test | General Zoning Classification |\n",
    "| Lot Frontage | Continuous | Float | Train/Test | Linear Feet of Street Connected to Property |\n",
    "| Lot Area | Continuous | Integer | Train/Test | Lot Size in Square Feet |\n",
    "| Street | Nominal | Object | Train/Test | Type of Road Access to Property |\n",
    "| Alley | Nominal | Object | Train/Test | Type of Alley Access to Property |\n",
    "| Lot Shape | Ordinal | Object | Train/Test | General Shape of Property |\n",
    "| Lot Contour | Nominal | Object | Train/Test | Flatness of the Property |\n",
    "| Utilities | Ordinal | Object | Train/Test | Type of Utilities Available |\n",
    "| Lot Config | Nominal | Object | Train/Test | Lot Configuration |\n",
    "| Land Slope | Ordinal | Object | Train/Test | Slope of Configuration |\n",
    "| Neighborhood | Nominal | Object | Train/Test | Physical Locations within Ames City |\n",
    "| Condition 1 | Nominal | Object | Train/Test | Proximity to Various Concditions |\n",
    "| Condition 2 | Nominal | Object | Train/Test | Proximity to Various Concditions (if more than one is present) |\n",
    "| Bldg Type | Nominal | Object | Train/Test | Type of Dwelling |\n",
    "| House Style | Nominal | Object | Train/Test | Style of Dwelling |\n",
    "| Overall Qual | Ordinal | Integer | Train/Test | Rating of Overall Material and Finish of the House |\n",
    "| Overall Cond | Ordinal | Integer | Train/Test | Rating of Overall Condition of the House |\n",
    "| Year Build | Discrete | Integer | Train/Test | Original Construction Date |\n",
    "| Year Remod/Add | Discrete | Integer | Train/Test | Remodel Data (same as Construction Date if no remodeling) |\n",
    "| Roof Style | Nominal | Object | Train/Test | Roof Type |\n",
    "| Roof Matl | Nominal | Object | Train/Test | Roof Material |\n",
    "| Exterior 1st | Nominal | Object | Train/Test | Exterior covering the the House |\n",
    "| Exterior 2nd | Nominal | Object | Train/Test | Exterior covering the House if more than 1 Material |\n",
    "| Mas Vnr Type | Nominal | Object | Train/Test | Masonary Veneer Type |\n",
    "| Mas Vnr Area | Continuous | Float | Train/Test | Masonary Veneer Area in Square Feet |\n",
    "| Exter Qual | Ordinal | Object | Train/Test | Quality of Exterior Material |\n",
    "| Exter Cond | Ordinal | Object | Train/Test | Quality of Exterior Condition |\n",
    "| Foundation | Nominal | Object | Train/Test | Foundation Type |\n",
    "| Bsmt Qual | Ordinal | Object | Train/Test | Rating of the Height of Basement |\n",
    "| Bsmt Cond | Ordinal | Object | Train/Test | Condition of the Height of Basement |\n",
    "| Bsmt Exposure | Ordinal | Object | Train/Test | Rating of Basement Exposure |\n",
    "| BsmtFin Type 1 | Ordinal | Object | Train/Test | Rating of Basement Finished Area Type 1 |\n",
    "| Bsmt SF 1 | Continuous | Float | Train/Test | Basement Finish Area Type 1 in Square Feet |\n",
    "| BsmtFin Type 2 | Ordinal | Object | Train/Test | Rating of Basement Finished Area Type 1 |\n",
    "| Bsmt SF 2 | Continuous | Float | Train/Test | Basement Finished Area Type 2 in Square Feet |\n",
    "| Bsmt Unf SF | Continuous | Float | Train/Test | Unfinished Basement Area in Square Feet |\n",
    "| Total Bsmt BF | Continous | Float | Train/Test | Total Basement Area in Square Feet |\n",
    "| Heating | Nominal | Object | Train/Test | Heating Type |\n",
    "| Heating QC | Ordinal | Object | Train/Test | Quality and Condition of Heating |\n",
    "| Central Air | Nominal | Object | Train/Test | Central Air Conditioning |\n",
    "| Electrical | Ordinal | Object | Train/Test | Electrical System  |\n",
    "| 1st Flr SF | Continuous | Integer | Train/Test | First Floor Area in Square Feet |\n",
    "| 2nd Flr SF | Continuous | Integer | Train/Test | Second Floor Area in Square Feet |\n",
    "| Low Qual Fin SF | Continuous | Integer | Train/Test | Low Quality Finished Area in Square Feet (all floors) |\n",
    "| Gr Liv Area | Continuous | Integer | Train/Test | Total Living Area above Ground in Square Feet |\n",
    "| Bsmt Full Bath | Discrete | Float | Train/Test | Number of Full Bathrooms at Basement |\n",
    "| Bsmt Half Bath  | Discrete | Float | Train/Test | Number of Half Bathrooms at Basement |\n",
    "| Full Bath | Discrete | Integer | Train/Test | Number of Full Bathrooms above Ground |\n",
    "| Half Bath  | Discrete | Integer | Train/Test | Number of Half Bathrooms above Ground |\n",
    "| Bedroom AbvGr | Discrete | Integer | Train/Test | Number of Bedrooms above Ground |\n",
    "| Kitchen AbvGr | Discrete | Integer | Train/Test | Number of Kitchen above Ground |\n",
    "| Kitchen Qual | Ordinal | Object | Train/Test | Kitchen Quality |\n",
    "| TotRms AbvGr | Discrete | Integer | Train/Test | Total Number of Rooms above Ground (bathrooms not included) |\n",
    "| Functional | Ordinal | Object | Train/Test | Home Functionality |\n",
    "| Fireplaces | Discrete | Integer | Train/Test | Number of Fireplaces |\n",
    "| Fireplaces Qu | Ordinal | Object | Train/Test | Quality of Fireplace |\n",
    "| Garage Type | Nominal | Object | Train/Test | Garage Location |\n",
    "| Garage Yr Blt | Discrete | Float | Train/Test | Year Garage Built |\n",
    "| Garage Finish | Ordinal | Object | Train/Test | Interior Finiah of Garage |\n",
    "| Garage Cars | Discrete | Float | Train/Test | Size of Garage in Car Capacity |\n",
    "| Garage Area | Continuous | Float | Train/Test | Size of Garage in Square Feet |\n",
    "| Garage Qual | Ordinal | Object | Train/Test | Garage Quality |\n",
    "| Garage Cond | Ordinal | Object | Train/Test | Garage Condition |\n",
    "| Paved Drive | Ordinal | Object | Train/Test | Paved Driveway |\n",
    "| Wood Deck SF | Continous | Integer | Train/Test | Wood Deck Area in Square Feet |\n",
    "| Open Porch SF | Continous | Integer | Train/Test | Open Porch Area in Square Feet |\n",
    "| Enclosed Porch | Continous | Integer | Train/Test | Enclosed Porch Area in Square Feet |\n",
    "| 3Ssn Porch | Continous | Integer | Train/Test | 3 Season Porch Area in Square Feet |\n",
    "| Screen Porch | Continous | Integer | Train/Test | Screen Porch Area in Square Feet |\n",
    "| Pool Area | Continous | Integer | Train/Test | Pool Area in Square Feet |\n",
    "| Pool QC | Ordinal | Object | Train/Test | Pool Quality |\n",
    "| Fence | Ordinal | Object | Train/Test | Fence Quality |\n",
    "| Misc Feature | Continuous | Object | Train/Test | Miscellaneous Feature not covered in other Categories |\n",
    "| Misc Val | Continuous | Integer | Train/Test | Value of Miscellaneous Feature |\n",
    "| Mo Sold | Discrete | Integer | Train/Test | Month Sold (MM) |\n",
    "| Yr Sold | Discrete | Integer | Train/Test | Year Sold (YYYY) |\n",
    "| Sale Type | Nominal | Object | Train/Test | Type of Sale |\n",
    "| SalePrice | Continuous | Integer | Train | Sale Price ($$) |"
   ]
  },
  {
   "cell_type": "markdown",
   "id": "3f0f970a",
   "metadata": {},
   "source": [
    "From the Ames Housing Dataset, there were 81 columns of features and these features were further splitted into 3 types of features shown below:  \n",
    "\n",
    "* 35 continuous/discrete features \n",
    "* 23 nominal features\n",
    "* 23 ordinal features\n",
    "\n",
    "The [*data description*](http://jse.amstat.org/v19n3/decock/DataDocumentation.txt) for the dataset was also provided. However, the 'Sale Condition' feature was not available in the Ames Housing Datatset and the 'Order' feature that refers to the Observation number in the data description was mapped to another feature called 'Id' in the Ames Housing dataset."
   ]
  }
 ],
 "metadata": {
  "kernelspec": {
   "display_name": "Python 3",
   "language": "python",
   "name": "python3"
  },
  "language_info": {
   "codemirror_mode": {
    "name": "ipython",
    "version": 3
   },
   "file_extension": ".py",
   "mimetype": "text/x-python",
   "name": "python",
   "nbconvert_exporter": "python",
   "pygments_lexer": "ipython3",
   "version": "3.8.8"
  }
 },
 "nbformat": 4,
 "nbformat_minor": 5
}
